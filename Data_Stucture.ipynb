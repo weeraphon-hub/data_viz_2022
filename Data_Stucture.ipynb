{
  "nbformat": 4,
  "nbformat_minor": 0,
  "metadata": {
    "colab": {
      "name": "Data Stucture.ipynb",
      "provenance": [],
      "toc_visible": true,
      "authorship_tag": "ABX9TyOFo9O5zNTWDdU0JEEuiy2Y",
      "include_colab_link": true
    },
    "kernelspec": {
      "name": "python3",
      "display_name": "Python 3"
    },
    "language_info": {
      "name": "python"
    }
  },
  "cells": [
    {
      "cell_type": "markdown",
      "metadata": {
        "id": "view-in-github",
        "colab_type": "text"
      },
      "source": [
        "<a href=\"https://colab.research.google.com/github/weeraphon-hub/data_viz_2022/blob/main/Data_Stucture.ipynb\" target=\"_parent\"><img src=\"https://colab.research.google.com/assets/colab-badge.svg\" alt=\"Open In Colab\"/></a>"
      ]
    },
    {
      "cell_type": "markdown",
      "source": [
        "# Data Stucture (โครงสร้างข้อมูล)\n",
        "การเก็บข้อมูลหลายตัวไว้อย่างเป็นระบบระเบียบ"
      ],
      "metadata": {
        "id": "NUjXz5Qo5Xz7"
      }
    },
    {
      "cell_type": "markdown",
      "source": [
        "## ```list()```\n",
        "- เก็บอะไรไว้ฃก็ได้\n",
        "- ลำดับในการเก็บมีความสำคัญ"
      ],
      "metadata": {
        "id": "_ZcADIRa6Wzk"
      }
    },
    {
      "cell_type": "code",
      "execution_count": 320,
      "metadata": {
        "id": "w_cuXKjy4vk_"
      },
      "outputs": [],
      "source": [
        "list_a = [1,2,3,4,5,6] # [ ] square blackets"
      ]
    },
    {
      "cell_type": "code",
      "source": [
        "list_a"
      ],
      "metadata": {
        "colab": {
          "base_uri": "https://localhost:8080/"
        },
        "id": "le_1b63p68cb",
        "outputId": "92f3b253-2c29-48c6-f996-487448c8b2e0"
      },
      "execution_count": 321,
      "outputs": [
        {
          "output_type": "execute_result",
          "data": {
            "text/plain": [
              "[1, 2, 3, 4, 5, 6]"
            ]
          },
          "metadata": {},
          "execution_count": 321
        }
      ]
    },
    {
      "cell_type": "code",
      "source": [
        "list_b = ['ab',2,3.14,list_a] # สามารถเก็บข้อมูลหลายๆแบบไว้ก็ได้"
      ],
      "metadata": {
        "id": "pZYR-qfm6_Up"
      },
      "execution_count": 322,
      "outputs": []
    },
    {
      "cell_type": "code",
      "source": [
        "list_b"
      ],
      "metadata": {
        "colab": {
          "base_uri": "https://localhost:8080/"
        },
        "id": "YEDuF2D97Kc6",
        "outputId": "7268facf-966a-49c2-a080-730f471375a0"
      },
      "execution_count": 323,
      "outputs": [
        {
          "output_type": "execute_result",
          "data": {
            "text/plain": [
              "['ab', 2, 3.14, [1, 2, 3, 4, 5, 6]]"
            ]
          },
          "metadata": {},
          "execution_count": 323
        }
      ]
    },
    {
      "cell_type": "markdown",
      "source": [
        "### indexing การชี้สมาชิกใน list ด้วยเลขลำดับของ list"
      ],
      "metadata": {
        "id": "iG45R_9D8Muz"
      }
    },
    {
      "cell_type": "code",
      "source": [
        "list_a[3]"
      ],
      "metadata": {
        "colab": {
          "base_uri": "https://localhost:8080/"
        },
        "id": "4V75zP497Mi6",
        "outputId": "019c0d34-4d2f-444c-ad45-d81a69e1515f"
      },
      "execution_count": 324,
      "outputs": [
        {
          "output_type": "execute_result",
          "data": {
            "text/plain": [
              "4"
            ]
          },
          "metadata": {},
          "execution_count": 324
        }
      ]
    },
    {
      "cell_type": "code",
      "source": [
        "list_b[3]"
      ],
      "metadata": {
        "colab": {
          "base_uri": "https://localhost:8080/"
        },
        "id": "XZYe9Mse7q8D",
        "outputId": "62d4afd3-4bcc-4cd0-a63f-b0e0bfd214f6"
      },
      "execution_count": 325,
      "outputs": [
        {
          "output_type": "execute_result",
          "data": {
            "text/plain": [
              "[1, 2, 3, 4, 5, 6]"
            ]
          },
          "metadata": {},
          "execution_count": 325
        }
      ]
    },
    {
      "cell_type": "code",
      "source": [
        "list_b[3][4]"
      ],
      "metadata": {
        "colab": {
          "base_uri": "https://localhost:8080/"
        },
        "id": "UQAIhiaB7xXJ",
        "outputId": "2f00b0f8-8fca-456a-a527-19e51446413f"
      },
      "execution_count": 326,
      "outputs": [
        {
          "output_type": "execute_result",
          "data": {
            "text/plain": [
              "5"
            ]
          },
          "metadata": {},
          "execution_count": 326
        }
      ]
    },
    {
      "cell_type": "code",
      "source": [
        "list_a[6] # ถ้าใส่ตัวแลขใน blackets มากกว่าตัวแปรที่เก็บใน list จะไม่สามารถ รันได้"
      ],
      "metadata": {
        "colab": {
          "base_uri": "https://localhost:8080/",
          "height": 166
        },
        "id": "Wg0Xj27V8BC5",
        "outputId": "a2d21e1c-22bb-41ad-b1c9-0a0b22533a8e"
      },
      "execution_count": 328,
      "outputs": [
        {
          "output_type": "error",
          "ename": "IndexError",
          "evalue": "ignored",
          "traceback": [
            "\u001b[0;31m---------------------------------------------------------------------------\u001b[0m",
            "\u001b[0;31mIndexError\u001b[0m                                Traceback (most recent call last)",
            "\u001b[0;32m<ipython-input-328-15cfc06e5613>\u001b[0m in \u001b[0;36m<module>\u001b[0;34m()\u001b[0m\n\u001b[0;32m----> 1\u001b[0;31m \u001b[0mlist_a\u001b[0m\u001b[0;34m[\u001b[0m\u001b[0;36m6\u001b[0m\u001b[0;34m]\u001b[0m \u001b[0;31m# ถ้าใส่ตัวแลขใน blackets มากกว่าตัวแปรที่เก็บใน list จะไม่สามารถ รันได้\u001b[0m\u001b[0;34m\u001b[0m\u001b[0;34m\u001b[0m\u001b[0m\n\u001b[0m",
            "\u001b[0;31mIndexError\u001b[0m: list index out of range"
          ]
        }
      ]
    },
    {
      "cell_type": "code",
      "source": [
        "list_a[-1] # indexing -1 คือดึงตัวสุดท้ายของ list"
      ],
      "metadata": {
        "colab": {
          "base_uri": "https://localhost:8080/"
        },
        "id": "6TkX8e9k8l1R",
        "outputId": "e02b8edb-084a-43ce-b10e-a7cc0b287c99"
      },
      "execution_count": 329,
      "outputs": [
        {
          "output_type": "execute_result",
          "data": {
            "text/plain": [
              "6"
            ]
          },
          "metadata": {},
          "execution_count": 329
        }
      ]
    },
    {
      "cell_type": "markdown",
      "source": [
        "### การสร้าง ```list```"
      ],
      "metadata": {
        "id": "qRaeFQMr9jUF"
      }
    },
    {
      "cell_type": "code",
      "source": [
        "list_x1 = [] # แบบที่ 1\n",
        "list_x2 = list() # แบบที่ 2"
      ],
      "metadata": {
        "id": "Eo6yOk6f9Czf"
      },
      "execution_count": 330,
      "outputs": []
    },
    {
      "cell_type": "code",
      "source": [
        "print(list_x1)\n",
        "print(list_x2)"
      ],
      "metadata": {
        "colab": {
          "base_uri": "https://localhost:8080/"
        },
        "id": "kBpz_6bZ92kJ",
        "outputId": "e82d3412-5e65-4ac8-a424-3c81a2c360ce"
      },
      "execution_count": 331,
      "outputs": [
        {
          "output_type": "stream",
          "name": "stdout",
          "text": [
            "[]\n",
            "[]\n"
          ]
        }
      ]
    },
    {
      "cell_type": "markdown",
      "source": [
        "### เพิ่มสมาชิกเข้าไปใน list ด้วย ```append()```"
      ],
      "metadata": {
        "id": "gwWBbR5j-vsZ"
      }
    },
    {
      "cell_type": "code",
      "source": [
        "list_x1.append(2)"
      ],
      "metadata": {
        "id": "pXqNCvpE-pvx"
      },
      "execution_count": 332,
      "outputs": []
    },
    {
      "cell_type": "code",
      "source": [
        "list_x1"
      ],
      "metadata": {
        "colab": {
          "base_uri": "https://localhost:8080/"
        },
        "id": "Sqr2lg1b_CFo",
        "outputId": "1d5e0dd4-6440-44c0-99cc-2c23112b98be"
      },
      "execution_count": 333,
      "outputs": [
        {
          "output_type": "execute_result",
          "data": {
            "text/plain": [
              "[2]"
            ]
          },
          "metadata": {},
          "execution_count": 333
        }
      ]
    },
    {
      "cell_type": "code",
      "source": [
        "list_x1.append(4)\n",
        "print(list_x1)"
      ],
      "metadata": {
        "colab": {
          "base_uri": "https://localhost:8080/"
        },
        "id": "-aGAEyk5_ESZ",
        "outputId": "237f1937-0532-42de-de3a-1598d7eb0bdf"
      },
      "execution_count": 334,
      "outputs": [
        {
          "output_type": "stream",
          "name": "stdout",
          "text": [
            "[2, 4]\n"
          ]
        }
      ]
    },
    {
      "cell_type": "code",
      "source": [
        "list_x1[0]"
      ],
      "metadata": {
        "colab": {
          "base_uri": "https://localhost:8080/"
        },
        "id": "U3KJtD3W_Y9Y",
        "outputId": "9e05325c-ed9c-46bd-fd68-b5f1bbbe9a3a"
      },
      "execution_count": 335,
      "outputs": [
        {
          "output_type": "execute_result",
          "data": {
            "text/plain": [
              "2"
            ]
          },
          "metadata": {},
          "execution_count": 335
        }
      ]
    },
    {
      "cell_type": "code",
      "source": [
        "list_x1[-1]"
      ],
      "metadata": {
        "colab": {
          "base_uri": "https://localhost:8080/"
        },
        "id": "xfI15ssl_b7z",
        "outputId": "8a855ae2-fd67-49af-9bbe-043c8051c03c"
      },
      "execution_count": 336,
      "outputs": [
        {
          "output_type": "execute_result",
          "data": {
            "text/plain": [
              "4"
            ]
          },
          "metadata": {},
          "execution_count": 336
        }
      ]
    },
    {
      "cell_type": "code",
      "source": [
        "list_x2"
      ],
      "metadata": {
        "colab": {
          "base_uri": "https://localhost:8080/"
        },
        "id": "GOHNqckX_jt_",
        "outputId": "c0759678-7d67-4fa7-d813-00623d2cbf9f"
      },
      "execution_count": 337,
      "outputs": [
        {
          "output_type": "execute_result",
          "data": {
            "text/plain": [
              "[]"
            ]
          },
          "metadata": {},
          "execution_count": 337
        }
      ]
    },
    {
      "cell_type": "code",
      "source": [
        "list_x2.append('ha')"
      ],
      "metadata": {
        "id": "EX0k1pC__mdC"
      },
      "execution_count": 338,
      "outputs": []
    },
    {
      "cell_type": "code",
      "source": [
        "list_x2"
      ],
      "metadata": {
        "colab": {
          "base_uri": "https://localhost:8080/"
        },
        "id": "Xl6rKct4_uEx",
        "outputId": "a3c7335e-8251-4247-ff03-94d45f7f6c78"
      },
      "execution_count": 339,
      "outputs": [
        {
          "output_type": "execute_result",
          "data": {
            "text/plain": [
              "['ha']"
            ]
          },
          "metadata": {},
          "execution_count": 339
        }
      ]
    },
    {
      "cell_type": "code",
      "source": [
        "list_x1.append('ha')"
      ],
      "metadata": {
        "id": "HJIRnmax_vfg"
      },
      "execution_count": 340,
      "outputs": []
    },
    {
      "cell_type": "code",
      "source": [
        "list_x1"
      ],
      "metadata": {
        "colab": {
          "base_uri": "https://localhost:8080/"
        },
        "id": "h01fv0V7AFVw",
        "outputId": "1dd67249-1a2a-4464-e760-a4cdd8af5bab"
      },
      "execution_count": 341,
      "outputs": [
        {
          "output_type": "execute_result",
          "data": {
            "text/plain": [
              "[2, 4, 'ha']"
            ]
          },
          "metadata": {},
          "execution_count": 341
        }
      ]
    },
    {
      "cell_type": "code",
      "source": [
        "list_x1.pop() # เป็นการลบตัวท้ายสุดใน list ออก"
      ],
      "metadata": {
        "colab": {
          "base_uri": "https://localhost:8080/",
          "height": 35
        },
        "id": "W50TUOwAAHsY",
        "outputId": "afd239ba-3a88-46d2-c613-596d9d41cdee"
      },
      "execution_count": 342,
      "outputs": [
        {
          "output_type": "execute_result",
          "data": {
            "application/vnd.google.colaboratory.intrinsic+json": {
              "type": "string"
            },
            "text/plain": [
              "'ha'"
            ]
          },
          "metadata": {},
          "execution_count": 342
        }
      ]
    },
    {
      "cell_type": "code",
      "source": [
        "list_x1"
      ],
      "metadata": {
        "colab": {
          "base_uri": "https://localhost:8080/"
        },
        "id": "hiLgs7-dAM-p",
        "outputId": "23ca8c1f-7418-445c-9d39-113fc59ffe4c"
      },
      "execution_count": 343,
      "outputs": [
        {
          "output_type": "execute_result",
          "data": {
            "text/plain": [
              "[2, 4]"
            ]
          },
          "metadata": {},
          "execution_count": 343
        }
      ]
    },
    {
      "cell_type": "code",
      "source": [
        "list_x1.pop()\n",
        "print(list_x1)"
      ],
      "metadata": {
        "colab": {
          "base_uri": "https://localhost:8080/"
        },
        "id": "_yoqkPJTAbiS",
        "outputId": "5fe8f0b1-4c05-462f-c319-10b3fac4f70a"
      },
      "execution_count": 344,
      "outputs": [
        {
          "output_type": "stream",
          "name": "stdout",
          "text": [
            "[2]\n"
          ]
        }
      ]
    },
    {
      "cell_type": "markdown",
      "source": [
        "### ```len()``` ตรวจสอบจำนวนสมาชิกของ list"
      ],
      "metadata": {
        "id": "smFAJzdWCBhE"
      }
    },
    {
      "cell_type": "code",
      "source": [
        "print(list_b)"
      ],
      "metadata": {
        "colab": {
          "base_uri": "https://localhost:8080/"
        },
        "id": "tAK_lWZhAmsS",
        "outputId": "8fab89f1-1f5c-47eb-ef2b-35e3519df3b8"
      },
      "execution_count": 345,
      "outputs": [
        {
          "output_type": "stream",
          "name": "stdout",
          "text": [
            "['ab', 2, 3.14, [1, 2, 3, 4, 5, 6]]\n"
          ]
        }
      ]
    },
    {
      "cell_type": "code",
      "source": [
        "print(len(list_b))"
      ],
      "metadata": {
        "colab": {
          "base_uri": "https://localhost:8080/"
        },
        "id": "GHdTk833CP45",
        "outputId": "6d67b9d3-3424-4186-cbe7-db45a8da683b"
      },
      "execution_count": 346,
      "outputs": [
        {
          "output_type": "stream",
          "name": "stdout",
          "text": [
            "4\n"
          ]
        }
      ]
    },
    {
      "cell_type": "code",
      "source": [
        "len(list_a)"
      ],
      "metadata": {
        "colab": {
          "base_uri": "https://localhost:8080/"
        },
        "id": "Rn8H3NN4CWUq",
        "outputId": "f5563626-2b52-4296-cbba-f53d11a5cca2"
      },
      "execution_count": 347,
      "outputs": [
        {
          "output_type": "execute_result",
          "data": {
            "text/plain": [
              "6"
            ]
          },
          "metadata": {},
          "execution_count": 347
        }
      ]
    },
    {
      "cell_type": "markdown",
      "source": [
        "### Siring is a list characters"
      ],
      "metadata": {
        "id": "gnPfv5X9CfLx"
      }
    },
    {
      "cell_type": "code",
      "source": [
        "st_stat = 'Department of Statistics, Faculty of Science'"
      ],
      "metadata": {
        "id": "uKLyYvvBCeBK"
      },
      "execution_count": 348,
      "outputs": []
    },
    {
      "cell_type": "code",
      "source": [
        "st_stat[10] "
      ],
      "metadata": {
        "colab": {
          "base_uri": "https://localhost:8080/",
          "height": 35
        },
        "id": "306w5VEdDY0h",
        "outputId": "dfa8324e-e01d-4134-d80c-cfb864da5ba1"
      },
      "execution_count": 349,
      "outputs": [
        {
          "output_type": "execute_result",
          "data": {
            "application/vnd.google.colaboratory.intrinsic+json": {
              "type": "string"
            },
            "text/plain": [
              "' '"
            ]
          },
          "metadata": {},
          "execution_count": 349
        }
      ]
    },
    {
      "cell_type": "code",
      "source": [
        "len(st_stat)"
      ],
      "metadata": {
        "colab": {
          "base_uri": "https://localhost:8080/"
        },
        "id": "lPCWGJRjDeoZ",
        "outputId": "b5262f02-19f4-48da-9eb5-2c4bbd4bba4f"
      },
      "execution_count": 350,
      "outputs": [
        {
          "output_type": "execute_result",
          "data": {
            "text/plain": [
              "44"
            ]
          },
          "metadata": {},
          "execution_count": 350
        }
      ]
    },
    {
      "cell_type": "markdown",
      "source": [
        "### List Slicing `:`"
      ],
      "metadata": {
        "id": "37WR_1QTDol_"
      }
    },
    {
      "cell_type": "markdown",
      "source": [
        "   `list[จุดเริ่มต้น (ทึบ):จุดสุดท้าย (โปร่ง)]`\n",
        "\n",
        "   `list[จุดเริ่มต้น (ทึบ):จุดสุดท้าย:step (โปร่ง)]`"
      ],
      "metadata": {
        "id": "-Km7kJdtEUMh"
      }
    },
    {
      "cell_type": "code",
      "source": [
        "list_a"
      ],
      "metadata": {
        "colab": {
          "base_uri": "https://localhost:8080/"
        },
        "id": "9u5h98MoDnQp",
        "outputId": "ffe35e4c-16fd-42eb-e3d4-ca282190b5a7"
      },
      "execution_count": 351,
      "outputs": [
        {
          "output_type": "execute_result",
          "data": {
            "text/plain": [
              "[1, 2, 3, 4, 5, 6]"
            ]
          },
          "metadata": {},
          "execution_count": 351
        }
      ]
    },
    {
      "cell_type": "code",
      "source": [
        "list_a[2]"
      ],
      "metadata": {
        "colab": {
          "base_uri": "https://localhost:8080/"
        },
        "id": "K9Q7NtcMDzGo",
        "outputId": "7aa1f37a-87cf-46ff-dc08-e107516c59b6"
      },
      "execution_count": 352,
      "outputs": [
        {
          "output_type": "execute_result",
          "data": {
            "text/plain": [
              "3"
            ]
          },
          "metadata": {},
          "execution_count": 352
        }
      ]
    },
    {
      "cell_type": "markdown",
      "source": [
        "#### ```:``` colon"
      ],
      "metadata": {
        "id": "syB3k9T-G1PU"
      }
    },
    {
      "cell_type": "code",
      "source": [
        "list_a[-3:] # : colon # เอา 3 ตัวท้าย"
      ],
      "metadata": {
        "colab": {
          "base_uri": "https://localhost:8080/"
        },
        "id": "flOw8dnpD4d6",
        "outputId": "50035b12-d1ff-4ecf-9030-cf376118dc4e"
      },
      "execution_count": 353,
      "outputs": [
        {
          "output_type": "execute_result",
          "data": {
            "text/plain": [
              "[4, 5, 6]"
            ]
          },
          "metadata": {},
          "execution_count": 353
        }
      ]
    },
    {
      "cell_type": "code",
      "source": [
        "list_a[2:] # : colon # เอาตั้งแต่ตัวที่ 2 ถึงตัวสุดท้าย"
      ],
      "metadata": {
        "colab": {
          "base_uri": "https://localhost:8080/"
        },
        "id": "DyO4Ht8hFu5S",
        "outputId": "bd19a2a8-60aa-4141-9be2-27507fd45bbe"
      },
      "execution_count": 354,
      "outputs": [
        {
          "output_type": "execute_result",
          "data": {
            "text/plain": [
              "[3, 4, 5, 6]"
            ]
          },
          "metadata": {},
          "execution_count": 354
        }
      ]
    },
    {
      "cell_type": "code",
      "source": [
        "list_a[:4] # : colon # เอาตั้งแต่ตัวแรก ถึง ตัวในตำแหน่งที่ 4"
      ],
      "metadata": {
        "colab": {
          "base_uri": "https://localhost:8080/"
        },
        "id": "mS7SDaa8GZVB",
        "outputId": "aa25046f-e300-43b7-e000-c71990e71b3f"
      },
      "execution_count": 355,
      "outputs": [
        {
          "output_type": "execute_result",
          "data": {
            "text/plain": [
              "[1, 2, 3, 4]"
            ]
          },
          "metadata": {},
          "execution_count": 355
        }
      ]
    },
    {
      "cell_type": "code",
      "source": [
        "list_a[1:4] # เอาตั้งแต่ตำแหน่งที่ 1 ถึง ตำแหน่งที่ 3 ไม่เอาตำแหน่งที่ 4"
      ],
      "metadata": {
        "colab": {
          "base_uri": "https://localhost:8080/"
        },
        "id": "DpbD1sVzEO6w",
        "outputId": "9ad7b8c6-8c57-4732-ec66-452f303aaf20"
      },
      "execution_count": 356,
      "outputs": [
        {
          "output_type": "execute_result",
          "data": {
            "text/plain": [
              "[2, 3, 4]"
            ]
          },
          "metadata": {},
          "execution_count": 356
        }
      ]
    },
    {
      "cell_type": "code",
      "source": [
        "list_a[:]"
      ],
      "metadata": {
        "colab": {
          "base_uri": "https://localhost:8080/"
        },
        "id": "I8dxqLN1Ft1J",
        "outputId": "62b42869-4808-4250-981f-257273e505d7"
      },
      "execution_count": 357,
      "outputs": [
        {
          "output_type": "execute_result",
          "data": {
            "text/plain": [
              "[1, 2, 3, 4, 5, 6]"
            ]
          },
          "metadata": {},
          "execution_count": 357
        }
      ]
    },
    {
      "cell_type": "markdown",
      "source": [
        "#### step"
      ],
      "metadata": {
        "id": "tm30fdZ3Gw0H"
      }
    },
    {
      "cell_type": "code",
      "source": [
        "list_c = [1,2,3,4,5,6,7,8,9,10,11,12,13]"
      ],
      "metadata": {
        "id": "2rvlW2PWGtMY"
      },
      "execution_count": 358,
      "outputs": []
    },
    {
      "cell_type": "code",
      "source": [
        "list_c[:10:]"
      ],
      "metadata": {
        "colab": {
          "base_uri": "https://localhost:8080/"
        },
        "id": "qRI4HRMKHBM5",
        "outputId": "d5be9757-f793-49da-ead0-40270b49e508"
      },
      "execution_count": 359,
      "outputs": [
        {
          "output_type": "execute_result",
          "data": {
            "text/plain": [
              "[1, 2, 3, 4, 5, 6, 7, 8, 9, 10]"
            ]
          },
          "metadata": {},
          "execution_count": 359
        }
      ]
    },
    {
      "cell_type": "code",
      "source": [
        "list_c[:10:2] # Step :2 คือจะเริ่มจากตำแหน่งแรกแล้วข้ามตัวถัดไป แล้วก็สลับไปเรื่อยๆ "
      ],
      "metadata": {
        "colab": {
          "base_uri": "https://localhost:8080/"
        },
        "id": "YMRF_EfNHKpK",
        "outputId": "9c1381b5-5a67-459e-9986-b9500de0e553"
      },
      "execution_count": 360,
      "outputs": [
        {
          "output_type": "execute_result",
          "data": {
            "text/plain": [
              "[1, 3, 5, 7, 9]"
            ]
          },
          "metadata": {},
          "execution_count": 360
        }
      ]
    },
    {
      "cell_type": "code",
      "source": [
        "list_c[:10:3] # Step :3 คือจะเริ่มจากตำแหน่งแรกแล้วข้าม 2 ตัวถัดไป แล้วก็สลับไปเรื่อยๆ"
      ],
      "metadata": {
        "id": "mEzVyn52bSQI",
        "outputId": "470e30da-2601-4bbe-b7ae-c8ac21e34888",
        "colab": {
          "base_uri": "https://localhost:8080/"
        }
      },
      "execution_count": 361,
      "outputs": [
        {
          "output_type": "execute_result",
          "data": {
            "text/plain": [
              "[1, 4, 7, 10]"
            ]
          },
          "metadata": {},
          "execution_count": 361
        }
      ]
    },
    {
      "cell_type": "code",
      "source": [
        "list_c[::-1]"
      ],
      "metadata": {
        "colab": {
          "base_uri": "https://localhost:8080/"
        },
        "id": "ocI_ZqCRHWzw",
        "outputId": "2e6ee353-519a-4560-ef1c-55c2d4ca3f0f"
      },
      "execution_count": 362,
      "outputs": [
        {
          "output_type": "execute_result",
          "data": {
            "text/plain": [
              "[13, 12, 11, 10, 9, 8, 7, 6, 5, 4, 3, 2, 1]"
            ]
          },
          "metadata": {},
          "execution_count": 362
        }
      ]
    },
    {
      "cell_type": "markdown",
      "source": [
        "### ```range()```"
      ],
      "metadata": {
        "id": "8w7zwqXrIFMy"
      }
    },
    {
      "cell_type": "code",
      "source": [
        "range(21)"
      ],
      "metadata": {
        "colab": {
          "base_uri": "https://localhost:8080/"
        },
        "id": "YhvYXfMfHgrx",
        "outputId": "9d7c4ce9-0d7a-46b8-86de-d2e47b9ebd8f"
      },
      "execution_count": 363,
      "outputs": [
        {
          "output_type": "execute_result",
          "data": {
            "text/plain": [
              "range(0, 21)"
            ]
          },
          "metadata": {},
          "execution_count": 363
        }
      ]
    },
    {
      "cell_type": "code",
      "source": [
        "a = list(range(21))"
      ],
      "metadata": {
        "id": "lSwhzNbhINIY"
      },
      "execution_count": 364,
      "outputs": []
    },
    {
      "cell_type": "code",
      "source": [
        "a"
      ],
      "metadata": {
        "colab": {
          "base_uri": "https://localhost:8080/"
        },
        "id": "WPYbmNAVIZjA",
        "outputId": "2ec25e89-b8e9-4c4a-a168-ce5f7b29b5d1"
      },
      "execution_count": 365,
      "outputs": [
        {
          "output_type": "execute_result",
          "data": {
            "text/plain": [
              "[0, 1, 2, 3, 4, 5, 6, 7, 8, 9, 10, 11, 12, 13, 14, 15, 16, 17, 18, 19, 20]"
            ]
          },
          "metadata": {},
          "execution_count": 365
        }
      ]
    },
    {
      "cell_type": "code",
      "source": [
        "list(range(1,21))"
      ],
      "metadata": {
        "colab": {
          "base_uri": "https://localhost:8080/"
        },
        "id": "wIs8PtccIZ3R",
        "outputId": "59f4b804-bdf7-44f7-cabe-8b2a1b8cd231"
      },
      "execution_count": 366,
      "outputs": [
        {
          "output_type": "execute_result",
          "data": {
            "text/plain": [
              "[1, 2, 3, 4, 5, 6, 7, 8, 9, 10, 11, 12, 13, 14, 15, 16, 17, 18, 19, 20]"
            ]
          },
          "metadata": {},
          "execution_count": 366
        }
      ]
    },
    {
      "cell_type": "markdown",
      "source": [
        "HW2 คำนวนเวลาเป็นวินาทีของเวลาต่อไปนี้ต่อไปนี้โดยใช้คำสั่ง split() ช่วย (print ออกมาใช้สวยงาม)\n",
        "\n",
        "- 12:30:15\n",
        "- 13:41:07\n",
        "- 09:11:50\n",
        "- 21:30:15\n",
        "- 03:10:15"
      ],
      "metadata": {
        "id": "ubPoE4zzJDoo"
      }
    },
    {
      "cell_type": "code",
      "source": [
        "#ex 01:02:03\n",
        "\n",
        "a = 1*60*60 + (2*60) + 3\n",
        "print(f'01:02:03 แปลงเป็นวินาที ได้ {a} วินาที')"
      ],
      "metadata": {
        "colab": {
          "base_uri": "https://localhost:8080/"
        },
        "id": "dWII7pXZIf_I",
        "outputId": "b612ca3e-820b-4a54-d1e9-06f7b104078f"
      },
      "execution_count": 367,
      "outputs": [
        {
          "output_type": "stream",
          "name": "stdout",
          "text": [
            "01:02:03 แปลงเป็นวินาที ได้ 3723 วินาที\n"
          ]
        }
      ]
    },
    {
      "cell_type": "code",
      "source": [
        "# 12:30:15\n",
        "x = 12*60*60 + (30*60) + 15\n",
        "print(f'12:30:15 แปลงเป็นวินาที ได้ {x:,} วินาที')\n"
      ],
      "metadata": {
        "id": "ECWXNBxTJ3dP",
        "outputId": "2afe2efb-62bf-4015-edee-e085e725bfd5",
        "colab": {
          "base_uri": "https://localhost:8080/"
        }
      },
      "execution_count": 368,
      "outputs": [
        {
          "output_type": "stream",
          "name": "stdout",
          "text": [
            "12:30:15 แปลงเป็นวินาที ได้ 45,015 วินาที\n"
          ]
        }
      ]
    },
    {
      "cell_type": "code",
      "source": [
        "# 13:41:07\n",
        "x = '13:41:07'\n",
        "xx = x.split(':')\n",
        "xxx = int(xx[0])*60*60 + int(xx[1])*60 + int(xx[2])\n",
        "print(f'เวลา 01:02:03 แปลงเป็นวินาทีได้ {xxx} วินาที')"
      ],
      "metadata": {
        "id": "qiasRr-8c4av",
        "outputId": "7571c116-e953-4144-9d00-7d7b2b3d3734",
        "colab": {
          "base_uri": "https://localhost:8080/"
        }
      },
      "execution_count": 369,
      "outputs": [
        {
          "output_type": "stream",
          "name": "stdout",
          "text": [
            "เวลา 01:02:03 แปลงเป็นวินาทีได้ 49267 วินาที\n"
          ]
        }
      ]
    },
    {
      "cell_type": "code",
      "source": [
        "# 09:11:50\n",
        "x = '09:11:50'\n",
        "xx = x.split(':')\n",
        "xxx = int(xx[0])*60*60 + int(xx[1])*60 + int(xx[2])\n",
        "print(f'เวลา 01:02:03 แปลงเป็นวินาทีได้ {xxx} วินาที')"
      ],
      "metadata": {
        "id": "mht4EFvhc7Ft",
        "outputId": "c60c6dc6-ae5c-4783-c84a-e8866658a9dd",
        "colab": {
          "base_uri": "https://localhost:8080/"
        }
      },
      "execution_count": 370,
      "outputs": [
        {
          "output_type": "stream",
          "name": "stdout",
          "text": [
            "เวลา 01:02:03 แปลงเป็นวินาทีได้ 33110 วินาที\n"
          ]
        }
      ]
    },
    {
      "cell_type": "code",
      "source": [
        "# 21:30:15\n",
        "x = '21:30:15'\n",
        "xx = x.split(':')\n",
        "xxx = int(xx[0])*60*60 + int(xx[1])*60 + int(xx[2])\n",
        "print(f'เวลา 01:02:03 แปลงเป็นวินาทีได้ {xxx} วินาที')"
      ],
      "metadata": {
        "id": "q8tZnlJ3c9X1",
        "outputId": "c98afab5-356f-4cfc-ad38-617ea0cd959d",
        "colab": {
          "base_uri": "https://localhost:8080/"
        }
      },
      "execution_count": 371,
      "outputs": [
        {
          "output_type": "stream",
          "name": "stdout",
          "text": [
            "เวลา 01:02:03 แปลงเป็นวินาทีได้ 77415 วินาที\n"
          ]
        }
      ]
    },
    {
      "cell_type": "code",
      "source": [
        "# 03:10:15\n",
        "x = '03:10:15'\n",
        "xx = x.split(':')\n",
        "xxx = int(xx[0])*60*60 + int(xx[1])*60 + int(xx[2])\n",
        "print(f'เวลา 01:02:03 แปลงเป็นวินาทีได้ {xxx} วินาที')"
      ],
      "metadata": {
        "id": "yphgGfxvc_13",
        "outputId": "6d010fc9-5031-4334-acb2-bec120dd12f8",
        "colab": {
          "base_uri": "https://localhost:8080/"
        }
      },
      "execution_count": 372,
      "outputs": [
        {
          "output_type": "stream",
          "name": "stdout",
          "text": [
            "เวลา 01:02:03 แปลงเป็นวินาทีได้ 11415 วินาที\n"
          ]
        }
      ]
    },
    {
      "cell_type": "markdown",
      "source": [
        "## Dictionary"
      ],
      "metadata": {
        "id": "fGt9wT4VOmHB"
      }
    },
    {
      "cell_type": "markdown",
      "source": [
        "- คล้าย list()\n",
        "- index เป็นอะไรก็ได้ ไม่จำเป็นต้องเป็นตัวเลขลำดับ\n",
        "- ลำดับไม่สำคัญ"
      ],
      "metadata": {
        "id": "w139tFwtPLGu"
      }
    },
    {
      "cell_type": "markdown",
      "source": [
        "### สร้าง Dictionary"
      ],
      "metadata": {
        "id": "HPiBY5ZGQ4ri"
      }
    },
    {
      "cell_type": "markdown",
      "source": [
        "### การชี้สมาชิกใน Dictionary"
      ],
      "metadata": {
        "id": "I2wmWorzQ-Rc"
      }
    },
    {
      "cell_type": "code",
      "source": [
        "dict_a = {1:'Happy','N':'New','2022':'Year'} # { } curly brackets"
      ],
      "metadata": {
        "id": "bLYEG7OVPg7e"
      },
      "execution_count": 373,
      "outputs": []
    },
    {
      "cell_type": "code",
      "source": [
        "dict_a[1]"
      ],
      "metadata": {
        "id": "tjC96PcUQCtV",
        "outputId": "5c5413d6-6f36-452c-fbfc-66e43b00c562",
        "colab": {
          "base_uri": "https://localhost:8080/",
          "height": 35
        }
      },
      "execution_count": 374,
      "outputs": [
        {
          "output_type": "execute_result",
          "data": {
            "application/vnd.google.colaboratory.intrinsic+json": {
              "type": "string"
            },
            "text/plain": [
              "'Happy'"
            ]
          },
          "metadata": {},
          "execution_count": 374
        }
      ]
    },
    {
      "cell_type": "code",
      "source": [
        "dict_a['N']"
      ],
      "metadata": {
        "id": "cAlyEY_zQR_u",
        "outputId": "df0a7816-63a6-49c5-c97a-33811f1c40f5",
        "colab": {
          "base_uri": "https://localhost:8080/",
          "height": 35
        }
      },
      "execution_count": 375,
      "outputs": [
        {
          "output_type": "execute_result",
          "data": {
            "application/vnd.google.colaboratory.intrinsic+json": {
              "type": "string"
            },
            "text/plain": [
              "'New'"
            ]
          },
          "metadata": {},
          "execution_count": 375
        }
      ]
    },
    {
      "cell_type": "code",
      "source": [
        "dict_a.keys()"
      ],
      "metadata": {
        "id": "MaV-Qts4QZj_",
        "outputId": "737c5fa6-c19d-4c41-8515-de69fe55f108",
        "colab": {
          "base_uri": "https://localhost:8080/"
        }
      },
      "execution_count": 376,
      "outputs": [
        {
          "output_type": "execute_result",
          "data": {
            "text/plain": [
              "dict_keys([1, 'N', '2022'])"
            ]
          },
          "metadata": {},
          "execution_count": 376
        }
      ]
    },
    {
      "cell_type": "code",
      "source": [
        "dict_a.values()"
      ],
      "metadata": {
        "id": "8cwL_3TiQzpk",
        "outputId": "33eef4c0-89cb-46de-dfd9-e48ec384491c",
        "colab": {
          "base_uri": "https://localhost:8080/"
        }
      },
      "execution_count": 377,
      "outputs": [
        {
          "output_type": "execute_result",
          "data": {
            "text/plain": [
              "dict_values(['Happy', 'New', 'Year'])"
            ]
          },
          "metadata": {},
          "execution_count": 377
        }
      ]
    },
    {
      "cell_type": "markdown",
      "source": [
        "### การเพื่มสมาชิกลงไปใน Dictionary"
      ],
      "metadata": {
        "id": "e8CbbtWoRFHs"
      }
    },
    {
      "cell_type": "code",
      "source": [
        "dict_a[7] = 3.14"
      ],
      "metadata": {
        "id": "VViTixZ-Q2kE"
      },
      "execution_count": 378,
      "outputs": []
    },
    {
      "cell_type": "code",
      "source": [
        "dict_a[5] = 'love' # ลองทำเล่นๆเพราะสงสัย ปัง ปัง ปัง"
      ],
      "metadata": {
        "id": "mrdVsVQaRtck"
      },
      "execution_count": 379,
      "outputs": []
    },
    {
      "cell_type": "code",
      "source": [
        "dict_a # ถ้ากำหนด key ซ้ำจะเป็นการอัพเดตข้อมูลเดิม"
      ],
      "metadata": {
        "id": "C2ZrnFKxRXBv",
        "outputId": "c271bd66-be59-4a17-8581-c9249c629890",
        "colab": {
          "base_uri": "https://localhost:8080/"
        }
      },
      "execution_count": 380,
      "outputs": [
        {
          "output_type": "execute_result",
          "data": {
            "text/plain": [
              "{1: 'Happy', '2022': 'Year', 5: 'love', 7: 3.14, 'N': 'New'}"
            ]
          },
          "metadata": {},
          "execution_count": 380
        }
      ]
    },
    {
      "cell_type": "markdown",
      "source": [
        "## Nampy Array"
      ],
      "metadata": {
        "id": "80vsL0JAOuCf"
      }
    },
    {
      "cell_type": "markdown",
      "source": [
        "- เก็บได้เฉพาะตัวเลข\n",
        "- อ้างอิงโดยใช้พิกัด (2มิติ ก็มองเป็นเมทริกซ์)"
      ],
      "metadata": {
        "id": "VYcLN5AMUw4T"
      }
    },
    {
      "cell_type": "markdown",
      "source": [
        "### 1D array"
      ],
      "metadata": {
        "id": "G06mp6nSYPHY"
      }
    },
    {
      "cell_type": "code",
      "source": [
        "import numpy"
      ],
      "metadata": {
        "id": "M60UOlqzUYEA"
      },
      "execution_count": 381,
      "outputs": []
    },
    {
      "cell_type": "code",
      "source": [
        "arr = numpy.array([1,2,3,4,5])"
      ],
      "metadata": {
        "id": "d--3gFeMVXc1"
      },
      "execution_count": 382,
      "outputs": []
    },
    {
      "cell_type": "code",
      "source": [
        "arr"
      ],
      "metadata": {
        "id": "ijdItlF5Vlay",
        "outputId": "1b13b759-46ac-47af-ce0f-cd99abd0e994",
        "colab": {
          "base_uri": "https://localhost:8080/"
        }
      },
      "execution_count": 383,
      "outputs": [
        {
          "output_type": "execute_result",
          "data": {
            "text/plain": [
              "array([1, 2, 3, 4, 5])"
            ]
          },
          "metadata": {},
          "execution_count": 383
        }
      ]
    },
    {
      "cell_type": "code",
      "source": [
        "arr[0] # ใช้ประโยชน์ได้มากกว่า list"
      ],
      "metadata": {
        "id": "0cPtFBahVnOx",
        "outputId": "e840004f-1559-414b-e423-49e15778739f",
        "colab": {
          "base_uri": "https://localhost:8080/"
        }
      },
      "execution_count": 384,
      "outputs": [
        {
          "output_type": "execute_result",
          "data": {
            "text/plain": [
              "1"
            ]
          },
          "metadata": {},
          "execution_count": 384
        }
      ]
    },
    {
      "cell_type": "code",
      "source": [
        "5*arr # 5 คูณเข้า array จะหมายถึง คูณทุกตัวในนั้น เหมือนเมทริกซ์"
      ],
      "metadata": {
        "id": "5ts97WYSWT57",
        "outputId": "86ac8b37-f87b-4ec4-9cc6-00fdc7c1d3a4",
        "colab": {
          "base_uri": "https://localhost:8080/"
        }
      },
      "execution_count": 385,
      "outputs": [
        {
          "output_type": "execute_result",
          "data": {
            "text/plain": [
              "array([ 5, 10, 15, 20, 25])"
            ]
          },
          "metadata": {},
          "execution_count": 385
        }
      ]
    },
    {
      "cell_type": "code",
      "source": [
        "list_ex =[1,2,3,4,5]"
      ],
      "metadata": {
        "id": "JYEFtuE2Woec"
      },
      "execution_count": 386,
      "outputs": []
    },
    {
      "cell_type": "code",
      "source": [
        "5*list_ex # 5 * list หมายถึงเรียก list 5 รอบ"
      ],
      "metadata": {
        "id": "WXhRPWykWoVb",
        "outputId": "5994d666-9707-41f0-dc9d-2c1fcea86e40",
        "colab": {
          "base_uri": "https://localhost:8080/"
        }
      },
      "execution_count": 387,
      "outputs": [
        {
          "output_type": "execute_result",
          "data": {
            "text/plain": [
              "[1, 2, 3, 4, 5, 1, 2, 3, 4, 5, 1, 2, 3, 4, 5, 1, 2, 3, 4, 5, 1, 2, 3, 4, 5]"
            ]
          },
          "metadata": {},
          "execution_count": 387
        }
      ]
    },
    {
      "cell_type": "code",
      "source": [
        "arr2 = numpy.array([10,20,30,40,50])"
      ],
      "metadata": {
        "id": "LUmtIzNNWoIg"
      },
      "execution_count": 388,
      "outputs": []
    },
    {
      "cell_type": "code",
      "source": [
        "arr"
      ],
      "metadata": {
        "id": "4jtDdcP4XS6v",
        "outputId": "e9c8f272-94f7-4017-8394-a8386b2b7b13",
        "colab": {
          "base_uri": "https://localhost:8080/"
        }
      },
      "execution_count": 389,
      "outputs": [
        {
          "output_type": "execute_result",
          "data": {
            "text/plain": [
              "array([1, 2, 3, 4, 5])"
            ]
          },
          "metadata": {},
          "execution_count": 389
        }
      ]
    },
    {
      "cell_type": "code",
      "source": [
        "arr + arr2"
      ],
      "metadata": {
        "id": "xc5RybGAXS3D",
        "outputId": "9708acdd-c20e-4a1f-e0b9-f47386619564",
        "colab": {
          "base_uri": "https://localhost:8080/"
        }
      },
      "execution_count": 390,
      "outputs": [
        {
          "output_type": "execute_result",
          "data": {
            "text/plain": [
              "array([11, 22, 33, 44, 55])"
            ]
          },
          "metadata": {},
          "execution_count": 390
        }
      ]
    },
    {
      "cell_type": "code",
      "source": [
        "arr * arr2"
      ],
      "metadata": {
        "id": "aUtfmRYvX0iB",
        "outputId": "1e1e32b5-ef52-4794-e6cb-6b6af7cac784",
        "colab": {
          "base_uri": "https://localhost:8080/"
        }
      },
      "execution_count": 391,
      "outputs": [
        {
          "output_type": "execute_result",
          "data": {
            "text/plain": [
              "array([ 10,  40,  90, 160, 250])"
            ]
          },
          "metadata": {},
          "execution_count": 391
        }
      ]
    },
    {
      "cell_type": "code",
      "source": [
        "arr / arr2"
      ],
      "metadata": {
        "id": "QhDxiBYGX0Ly",
        "outputId": "7ba531dc-ddee-4e13-de4c-ad3b923a67c6",
        "colab": {
          "base_uri": "https://localhost:8080/"
        }
      },
      "execution_count": 392,
      "outputs": [
        {
          "output_type": "execute_result",
          "data": {
            "text/plain": [
              "array([0.1, 0.1, 0.1, 0.1, 0.1])"
            ]
          },
          "metadata": {},
          "execution_count": 392
        }
      ]
    },
    {
      "cell_type": "code",
      "source": [
        "arr - arr2"
      ],
      "metadata": {
        "id": "9T8nPq4BX-65",
        "outputId": "e4078d02-a1af-4dbe-8006-390d9bbb6fe6",
        "colab": {
          "base_uri": "https://localhost:8080/"
        }
      },
      "execution_count": 393,
      "outputs": [
        {
          "output_type": "execute_result",
          "data": {
            "text/plain": [
              "array([ -9, -18, -27, -36, -45])"
            ]
          },
          "metadata": {},
          "execution_count": 393
        }
      ]
    },
    {
      "cell_type": "code",
      "source": [
        "arr.shape"
      ],
      "metadata": {
        "id": "bqCL2BHvZ51x",
        "outputId": "9f7d8600-e778-4483-d391-74d053f6e1e6",
        "colab": {
          "base_uri": "https://localhost:8080/"
        }
      },
      "execution_count": 394,
      "outputs": [
        {
          "output_type": "execute_result",
          "data": {
            "text/plain": [
              "(5,)"
            ]
          },
          "metadata": {},
          "execution_count": 394
        }
      ]
    },
    {
      "cell_type": "markdown",
      "source": [
        "## 2D array"
      ],
      "metadata": {
        "id": "vaMeewEzYDF4"
      }
    },
    {
      "cell_type": "code",
      "source": [
        "import numpy as np"
      ],
      "metadata": {
        "id": "VjwcDgdrYTQq"
      },
      "execution_count": 395,
      "outputs": []
    },
    {
      "cell_type": "code",
      "source": [
        "arr2d = np.array([[1,2,3],[4,5,6]])"
      ],
      "metadata": {
        "id": "_eUSuKu7Ybwp"
      },
      "execution_count": 396,
      "outputs": []
    },
    {
      "cell_type": "code",
      "source": [
        "arr2d"
      ],
      "metadata": {
        "id": "yckLgIcGY_sZ",
        "outputId": "d4bb509a-7440-471c-b3b0-6105cf2ee7a6",
        "colab": {
          "base_uri": "https://localhost:8080/"
        }
      },
      "execution_count": 397,
      "outputs": [
        {
          "output_type": "execute_result",
          "data": {
            "text/plain": [
              "array([[1, 2, 3],\n",
              "       [4, 5, 6]])"
            ]
          },
          "metadata": {},
          "execution_count": 397
        }
      ]
    },
    {
      "cell_type": "code",
      "source": [
        "arr2d.shape"
      ],
      "metadata": {
        "id": "hgdtHsJIZmfC",
        "outputId": "9b007d20-62ae-4a81-ff84-41a03fa66f02",
        "colab": {
          "base_uri": "https://localhost:8080/"
        }
      },
      "execution_count": 398,
      "outputs": [
        {
          "output_type": "execute_result",
          "data": {
            "text/plain": [
              "(2, 3)"
            ]
          },
          "metadata": {},
          "execution_count": 398
        }
      ]
    },
    {
      "cell_type": "markdown",
      "source": [
        "### np.zeros()"
      ],
      "metadata": {
        "id": "wPIu_n8IZadC"
      }
    },
    {
      "cell_type": "code",
      "source": [
        "arr2350 = np.zeros((3,5))"
      ],
      "metadata": {
        "id": "3c8RDgO9Y_jI"
      },
      "execution_count": 399,
      "outputs": []
    },
    {
      "cell_type": "code",
      "source": [
        "arr2350"
      ],
      "metadata": {
        "id": "MccGsAZaY_aR",
        "outputId": "1fe7741f-e265-4f37-e1e5-c9b841466064",
        "colab": {
          "base_uri": "https://localhost:8080/"
        }
      },
      "execution_count": 400,
      "outputs": [
        {
          "output_type": "execute_result",
          "data": {
            "text/plain": [
              "array([[0., 0., 0., 0., 0.],\n",
              "       [0., 0., 0., 0., 0.],\n",
              "       [0., 0., 0., 0., 0.]])"
            ]
          },
          "metadata": {},
          "execution_count": 400
        }
      ]
    },
    {
      "cell_type": "code",
      "source": [
        "arr2350[1,2] = 9"
      ],
      "metadata": {
        "id": "M0AQr9HbaVEN"
      },
      "execution_count": 401,
      "outputs": []
    },
    {
      "cell_type": "code",
      "source": [
        "arr2350"
      ],
      "metadata": {
        "id": "NZPalNDraVAa",
        "outputId": "b351b7e0-e2a8-4ded-e3a4-c750072fab59",
        "colab": {
          "base_uri": "https://localhost:8080/"
        }
      },
      "execution_count": 402,
      "outputs": [
        {
          "output_type": "execute_result",
          "data": {
            "text/plain": [
              "array([[0., 0., 0., 0., 0.],\n",
              "       [0., 0., 9., 0., 0.],\n",
              "       [0., 0., 0., 0., 0.]])"
            ]
          },
          "metadata": {},
          "execution_count": 402
        }
      ]
    },
    {
      "cell_type": "code",
      "source": [
        "arr2350[1,2]"
      ],
      "metadata": {
        "id": "rBMtuk7caT8H",
        "outputId": "c14f0a28-dfa1-421a-faa6-a54a4f4ddf89",
        "colab": {
          "base_uri": "https://localhost:8080/"
        }
      },
      "execution_count": 403,
      "outputs": [
        {
          "output_type": "execute_result",
          "data": {
            "text/plain": [
              "9.0"
            ]
          },
          "metadata": {},
          "execution_count": 403
        }
      ]
    },
    {
      "cell_type": "code",
      "source": [
        "print(list_ex)\n",
        "list_ex[-1] = 'Song gang'\n",
        "print(list_ex)"
      ],
      "metadata": {
        "id": "txxE1VH0ayqy",
        "outputId": "66031373-ca97-4370-a21a-e08f6d5066ca",
        "colab": {
          "base_uri": "https://localhost:8080/"
        }
      },
      "execution_count": 404,
      "outputs": [
        {
          "output_type": "stream",
          "name": "stdout",
          "text": [
            "[1, 2, 3, 4, 5]\n",
            "[1, 2, 3, 4, 'Song gang']\n"
          ]
        }
      ]
    },
    {
      "cell_type": "markdown",
      "source": [
        "### np.ones()"
      ],
      "metadata": {
        "id": "StG9vXKTb3dG"
      }
    },
    {
      "cell_type": "code",
      "source": [
        "arr2451 = np.ones((4,5)) # มี 1 เนื่องจากเราสามารถ * ตัวเลขใดเข้าก็ได้ ทำให้เราสามารถ สร้างเมทริกซ์ที่ต้องการได้"
      ],
      "metadata": {
        "id": "I9GQmDlxcB71"
      },
      "execution_count": 405,
      "outputs": []
    },
    {
      "cell_type": "code",
      "source": [
        "arr2451"
      ],
      "metadata": {
        "id": "B99Rusq-cVYA",
        "outputId": "8f5b031b-b28d-4e68-e909-6ec243453f18",
        "colab": {
          "base_uri": "https://localhost:8080/"
        }
      },
      "execution_count": 406,
      "outputs": [
        {
          "output_type": "execute_result",
          "data": {
            "text/plain": [
              "array([[1., 1., 1., 1., 1.],\n",
              "       [1., 1., 1., 1., 1.],\n",
              "       [1., 1., 1., 1., 1.],\n",
              "       [1., 1., 1., 1., 1.]])"
            ]
          },
          "metadata": {},
          "execution_count": 406
        }
      ]
    },
    {
      "cell_type": "code",
      "source": [
        "arr245200 = 200*np.ones((4,5))\n",
        "arr245200"
      ],
      "metadata": {
        "id": "QNU9qjpPcYgl",
        "outputId": "60dfc1ac-678a-4ea1-e1f6-cfccc0c4ea78",
        "colab": {
          "base_uri": "https://localhost:8080/"
        }
      },
      "execution_count": 407,
      "outputs": [
        {
          "output_type": "execute_result",
          "data": {
            "text/plain": [
              "array([[200., 200., 200., 200., 200.],\n",
              "       [200., 200., 200., 200., 200.],\n",
              "       [200., 200., 200., 200., 200.],\n",
              "       [200., 200., 200., 200., 200.]])"
            ]
          },
          "metadata": {},
          "execution_count": 407
        }
      ]
    },
    {
      "cell_type": "markdown",
      "source": [
        "### Matrix Operations"
      ],
      "metadata": {
        "id": "E4FGdr8wc53c"
      }
    },
    {
      "cell_type": "markdown",
      "source": [
        "#### การ + - เมทริกซ์ $M \\pm N $ เป็นการบวกลบในตำแหน่งเดียวกัน"
      ],
      "metadata": {
        "id": "06DyrkmRd7Qd"
      }
    },
    {
      "cell_type": "code",
      "source": [
        "arr245200 + arr2350 # ขนาดต้องเท่ากันถึงจะบวกกันได้"
      ],
      "metadata": {
        "id": "CZevNPJMdFA7",
        "outputId": "e53f02a5-612f-4b58-e503-839108714ce5",
        "colab": {
          "base_uri": "https://localhost:8080/",
          "height": 166
        }
      },
      "execution_count": 408,
      "outputs": [
        {
          "output_type": "error",
          "ename": "ValueError",
          "evalue": "ignored",
          "traceback": [
            "\u001b[0;31m---------------------------------------------------------------------------\u001b[0m",
            "\u001b[0;31mValueError\u001b[0m                                Traceback (most recent call last)",
            "\u001b[0;32m<ipython-input-408-d8a5641c44ee>\u001b[0m in \u001b[0;36m<module>\u001b[0;34m()\u001b[0m\n\u001b[0;32m----> 1\u001b[0;31m \u001b[0marr245200\u001b[0m \u001b[0;34m+\u001b[0m \u001b[0marr2350\u001b[0m \u001b[0;31m# ขนาดต้องเท่ากันถึงจะบวกกันได้\u001b[0m\u001b[0;34m\u001b[0m\u001b[0;34m\u001b[0m\u001b[0m\n\u001b[0m",
            "\u001b[0;31mValueError\u001b[0m: operands could not be broadcast together with shapes (4,5) (3,5) "
          ]
        }
      ]
    },
    {
      "cell_type": "code",
      "source": [
        "arr245200 + arr2451"
      ],
      "metadata": {
        "id": "L8IFOR2YdRpf"
      },
      "execution_count": null,
      "outputs": []
    },
    {
      "cell_type": "markdown",
      "source": [
        "#### การคูณ matrix\n",
        "\n",
        "- $aM$ คูณตัวเลขเข้าไปในทุกตำแหน่งของเมทริกซ์\n",
        "- $M \\times N$ (แถว*หลัก)"
      ],
      "metadata": {
        "id": "nIgYCo4CdjF2"
      }
    },
    {
      "cell_type": "markdown",
      "source": [
        "### $aM$"
      ],
      "metadata": {
        "id": "g0vUdSxceunO"
      }
    },
    {
      "cell_type": "code",
      "source": [
        "15 * arr"
      ],
      "metadata": {
        "id": "JUqq-NoaeuIZ"
      },
      "execution_count": null,
      "outputs": []
    },
    {
      "cell_type": "markdown",
      "source": [
        "$M \\times N$ (dot product)\n",
        "\n",
        "- (m,n) $\\times$ (n,W) = (m,w)"
      ],
      "metadata": {
        "id": "kwOipQ9re9FI"
      }
    },
    {
      "cell_type": "code",
      "source": [
        "mata = np.array ([[2,3,5],[4,5,7]])\n",
        "matb = np.array ([[1,2,5],[2,4,-7]])\n",
        "matc = np.array ([[2,3],[4,6],[7,9]])"
      ],
      "metadata": {
        "id": "OKJgWQOudim1"
      },
      "execution_count": null,
      "outputs": []
    },
    {
      "cell_type": "code",
      "source": [
        "mata"
      ],
      "metadata": {
        "id": "b-584h2egO0u"
      },
      "execution_count": null,
      "outputs": []
    },
    {
      "cell_type": "code",
      "source": [
        "matb"
      ],
      "metadata": {
        "id": "wcSBntikgOwx"
      },
      "execution_count": null,
      "outputs": []
    },
    {
      "cell_type": "code",
      "source": [
        "matc"
      ],
      "metadata": {
        "id": "2vRdB_TrgOli"
      },
      "execution_count": null,
      "outputs": []
    },
    {
      "cell_type": "markdown",
      "source": [
        "ac, bc"
      ],
      "metadata": {
        "id": "qOYa2ZqagWS8"
      }
    },
    {
      "cell_type": "code",
      "source": [
        "np.dot(mata,matc)"
      ],
      "metadata": {
        "id": "BaPJcCZrgneV"
      },
      "execution_count": null,
      "outputs": []
    },
    {
      "cell_type": "code",
      "source": [
        "mata * matb # ตำแหน่งของเมทริกซ์ * กันในแต่ละตำแหน่ง"
      ],
      "metadata": {
        "id": "q6UmM6MfhGzL",
        "outputId": "e23a32ac-1d8f-422f-ec9b-5e1e0b0dda99",
        "colab": {
          "base_uri": "https://localhost:8080/"
        }
      },
      "execution_count": 409,
      "outputs": [
        {
          "output_type": "execute_result",
          "data": {
            "text/plain": [
              "array([[  2,   6,  25],\n",
              "       [  8,  20, -49]])"
            ]
          },
          "metadata": {},
          "execution_count": 409
        }
      ]
    },
    {
      "cell_type": "markdown",
      "source": [
        "### Matrix Slicing"
      ],
      "metadata": {
        "id": "_vaUjcGPhxgx"
      }
    },
    {
      "cell_type": "code",
      "source": [
        "mat[:2,:2]"
      ],
      "metadata": {
        "id": "wwHNaB72hwfl",
        "outputId": "a22b3643-a109-4c34-e958-9a07ae7a6f04",
        "colab": {
          "base_uri": "https://localhost:8080/",
          "height": 166
        }
      },
      "execution_count": 410,
      "outputs": [
        {
          "output_type": "error",
          "ename": "NameError",
          "evalue": "ignored",
          "traceback": [
            "\u001b[0;31m---------------------------------------------------------------------------\u001b[0m",
            "\u001b[0;31mNameError\u001b[0m                                 Traceback (most recent call last)",
            "\u001b[0;32m<ipython-input-410-4559ea434068>\u001b[0m in \u001b[0;36m<module>\u001b[0;34m()\u001b[0m\n\u001b[0;32m----> 1\u001b[0;31m \u001b[0mmat\u001b[0m\u001b[0;34m[\u001b[0m\u001b[0;34m:\u001b[0m\u001b[0;36m2\u001b[0m\u001b[0;34m,\u001b[0m\u001b[0;34m:\u001b[0m\u001b[0;36m2\u001b[0m\u001b[0;34m]\u001b[0m\u001b[0;34m\u001b[0m\u001b[0;34m\u001b[0m\u001b[0m\n\u001b[0m",
            "\u001b[0;31mNameError\u001b[0m: name 'mat' is not defined"
          ]
        }
      ]
    },
    {
      "cell_type": "markdown",
      "source": [
        "HW3\n",
        "\n",
        "1. สร้าง array ที่มีรูปต้น Chrismas\n",
        "2. slice เลข 1 ออกมากเป็น array HW3 ด้วยการ slice แค้ครั้งเดียว"
      ],
      "metadata": {
        "id": "QjKJK8DEijk2"
      }
    },
    {
      "cell_type": "code",
      "source": [
        "CM = np.ones((20,15))\n",
        "CM"
      ],
      "metadata": {
        "id": "1vGcpN2cize1",
        "outputId": "63e6c76f-9318-41db-d0a4-2de6989d7dee",
        "colab": {
          "base_uri": "https://localhost:8080/"
        }
      },
      "execution_count": 473,
      "outputs": [
        {
          "output_type": "execute_result",
          "data": {
            "text/plain": [
              "array([[1., 1., 1., 1., 1., 1., 1., 1., 1., 1., 1., 1., 1., 1., 1.],\n",
              "       [1., 1., 1., 1., 1., 1., 1., 1., 1., 1., 1., 1., 1., 1., 1.],\n",
              "       [1., 1., 1., 1., 1., 1., 1., 1., 1., 1., 1., 1., 1., 1., 1.],\n",
              "       [1., 1., 1., 1., 1., 1., 1., 1., 1., 1., 1., 1., 1., 1., 1.],\n",
              "       [1., 1., 1., 1., 1., 1., 1., 1., 1., 1., 1., 1., 1., 1., 1.],\n",
              "       [1., 1., 1., 1., 1., 1., 1., 1., 1., 1., 1., 1., 1., 1., 1.],\n",
              "       [1., 1., 1., 1., 1., 1., 1., 1., 1., 1., 1., 1., 1., 1., 1.],\n",
              "       [1., 1., 1., 1., 1., 1., 1., 1., 1., 1., 1., 1., 1., 1., 1.],\n",
              "       [1., 1., 1., 1., 1., 1., 1., 1., 1., 1., 1., 1., 1., 1., 1.],\n",
              "       [1., 1., 1., 1., 1., 1., 1., 1., 1., 1., 1., 1., 1., 1., 1.],\n",
              "       [1., 1., 1., 1., 1., 1., 1., 1., 1., 1., 1., 1., 1., 1., 1.],\n",
              "       [1., 1., 1., 1., 1., 1., 1., 1., 1., 1., 1., 1., 1., 1., 1.],\n",
              "       [1., 1., 1., 1., 1., 1., 1., 1., 1., 1., 1., 1., 1., 1., 1.],\n",
              "       [1., 1., 1., 1., 1., 1., 1., 1., 1., 1., 1., 1., 1., 1., 1.],\n",
              "       [1., 1., 1., 1., 1., 1., 1., 1., 1., 1., 1., 1., 1., 1., 1.],\n",
              "       [1., 1., 1., 1., 1., 1., 1., 1., 1., 1., 1., 1., 1., 1., 1.],\n",
              "       [1., 1., 1., 1., 1., 1., 1., 1., 1., 1., 1., 1., 1., 1., 1.],\n",
              "       [1., 1., 1., 1., 1., 1., 1., 1., 1., 1., 1., 1., 1., 1., 1.],\n",
              "       [1., 1., 1., 1., 1., 1., 1., 1., 1., 1., 1., 1., 1., 1., 1.],\n",
              "       [1., 1., 1., 1., 1., 1., 1., 1., 1., 1., 1., 1., 1., 1., 1.]])"
            ]
          },
          "metadata": {},
          "execution_count": 473
        }
      ]
    },
    {
      "cell_type": "code",
      "source": [
        "CM[19,6:9] = 8\n",
        "CM[18,6:9] = 8\n",
        "CM[17,6:9] = 8\n",
        "CM[16,1:14] =8\n",
        "CM[15,1:14] = 8\n",
        "CM[14,2:13] = 8\n",
        "CM[13,3:12] = 8\n",
        "CM[12,4:11] = 8\n",
        "CM[11,2:13] = 8\n",
        "CM[10,3:12] = 8\n",
        "CM[9,4:11] = 8\n",
        "CM[8,5:10] = 8\n",
        "CM[6,3:12] = 8\n",
        "CM[7,3:12] = 8\n",
        "CM[5,4:11] = 8\n",
        "CM[4,5:10] = 8\n",
        "CM[3,6:9] = 8\n",
        "CM[2,7] = 8\n",
        "CM[2,7] = 8\n",
        "CM[1,6:9] = 5\n",
        "CM[0,6] = 5\n",
        "CM[0,8] = 5\n",
        "CM"
      ],
      "metadata": {
        "id": "lM59_UY97o01",
        "outputId": "80168f94-27f6-4057-fe31-fa9a0297869c",
        "colab": {
          "base_uri": "https://localhost:8080/"
        }
      },
      "execution_count": 474,
      "outputs": [
        {
          "output_type": "execute_result",
          "data": {
            "text/plain": [
              "array([[1., 1., 1., 1., 1., 1., 5., 1., 5., 1., 1., 1., 1., 1., 1.],\n",
              "       [1., 1., 1., 1., 1., 1., 5., 5., 5., 1., 1., 1., 1., 1., 1.],\n",
              "       [1., 1., 1., 1., 1., 1., 1., 8., 1., 1., 1., 1., 1., 1., 1.],\n",
              "       [1., 1., 1., 1., 1., 1., 8., 8., 8., 1., 1., 1., 1., 1., 1.],\n",
              "       [1., 1., 1., 1., 1., 8., 8., 8., 8., 8., 1., 1., 1., 1., 1.],\n",
              "       [1., 1., 1., 1., 8., 8., 8., 8., 8., 8., 8., 1., 1., 1., 1.],\n",
              "       [1., 1., 1., 8., 8., 8., 8., 8., 8., 8., 8., 8., 1., 1., 1.],\n",
              "       [1., 1., 1., 8., 8., 8., 8., 8., 8., 8., 8., 8., 1., 1., 1.],\n",
              "       [1., 1., 1., 1., 1., 8., 8., 8., 8., 8., 1., 1., 1., 1., 1.],\n",
              "       [1., 1., 1., 1., 8., 8., 8., 8., 8., 8., 8., 1., 1., 1., 1.],\n",
              "       [1., 1., 1., 8., 8., 8., 8., 8., 8., 8., 8., 8., 1., 1., 1.],\n",
              "       [1., 1., 8., 8., 8., 8., 8., 8., 8., 8., 8., 8., 8., 1., 1.],\n",
              "       [1., 1., 1., 1., 8., 8., 8., 8., 8., 8., 8., 1., 1., 1., 1.],\n",
              "       [1., 1., 1., 8., 8., 8., 8., 8., 8., 8., 8., 8., 1., 1., 1.],\n",
              "       [1., 1., 8., 8., 8., 8., 8., 8., 8., 8., 8., 8., 8., 1., 1.],\n",
              "       [1., 8., 8., 8., 8., 8., 8., 8., 8., 8., 8., 8., 8., 8., 1.],\n",
              "       [1., 8., 8., 8., 8., 8., 8., 8., 8., 8., 8., 8., 8., 8., 1.],\n",
              "       [1., 1., 1., 1., 1., 1., 8., 8., 8., 1., 1., 1., 1., 1., 1.],\n",
              "       [1., 1., 1., 1., 1., 1., 8., 8., 8., 1., 1., 1., 1., 1., 1.],\n",
              "       [1., 1., 1., 1., 1., 1., 8., 8., 8., 1., 1., 1., 1., 1., 1.]])"
            ]
          },
          "metadata": {},
          "execution_count": 474
        }
      ]
    },
    {
      "cell_type": "code",
      "source": [
        ""
      ],
      "metadata": {
        "id": "sWkdrutnBdBX"
      },
      "execution_count": null,
      "outputs": []
    }
  ]
}