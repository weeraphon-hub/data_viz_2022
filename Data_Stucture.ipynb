{
  "nbformat": 4,
  "nbformat_minor": 0,
  "metadata": {
    "colab": {
      "name": "Data Stucture.ipynb",
      "provenance": [],
      "authorship_tag": "ABX9TyOHsTkwNbJUGmgRC/0Wn1wM",
      "include_colab_link": true
    },
    "kernelspec": {
      "name": "python3",
      "display_name": "Python 3"
    },
    "language_info": {
      "name": "python"
    }
  },
  "cells": [
    {
      "cell_type": "markdown",
      "metadata": {
        "id": "view-in-github",
        "colab_type": "text"
      },
      "source": [
        "<a href=\"https://colab.research.google.com/github/weeraphon-hub/data_viz_2022/blob/main/Data_Stucture.ipynb\" target=\"_parent\"><img src=\"https://colab.research.google.com/assets/colab-badge.svg\" alt=\"Open In Colab\"/></a>"
      ]
    },
    {
      "cell_type": "markdown",
      "source": [
        "# Data Stucture (โครงสร้างข้อมูล)\n",
        "การเก็บข้อมูลหลายตัวไว้อย่างเป็นระบบระเบียบ"
      ],
      "metadata": {
        "id": "NUjXz5Qo5Xz7"
      }
    },
    {
      "cell_type": "markdown",
      "source": [
        "## ```list()```\n",
        "- เก็บอะไรไว้ฃก็ได้\n",
        "- ลำดับในการเก็บมีความสำคัญ"
      ],
      "metadata": {
        "id": "_ZcADIRa6Wzk"
      }
    },
    {
      "cell_type": "code",
      "execution_count": 8,
      "metadata": {
        "id": "w_cuXKjy4vk_"
      },
      "outputs": [],
      "source": [
        "list_a = [1,2,3,4,5,6] # [ ] square blackets"
      ]
    },
    {
      "cell_type": "code",
      "source": [
        "list_a"
      ],
      "metadata": {
        "colab": {
          "base_uri": "https://localhost:8080/"
        },
        "id": "le_1b63p68cb",
        "outputId": "2bde4adc-a08b-4d43-ce30-bb09836fae80"
      },
      "execution_count": 9,
      "outputs": [
        {
          "output_type": "execute_result",
          "data": {
            "text/plain": [
              "[1, 2, 3, 4, 5, 6]"
            ]
          },
          "metadata": {},
          "execution_count": 9
        }
      ]
    },
    {
      "cell_type": "code",
      "source": [
        "list_b = ['ab',2,3.14,list_a] # สามารถเก็บข้อมูลหลายๆแบบไว้ก็ได้"
      ],
      "metadata": {
        "id": "pZYR-qfm6_Up"
      },
      "execution_count": 10,
      "outputs": []
    },
    {
      "cell_type": "code",
      "source": [
        "list_b"
      ],
      "metadata": {
        "colab": {
          "base_uri": "https://localhost:8080/"
        },
        "id": "YEDuF2D97Kc6",
        "outputId": "a7334b01-eee8-4640-9a7f-476d51bf6b09"
      },
      "execution_count": 11,
      "outputs": [
        {
          "output_type": "execute_result",
          "data": {
            "text/plain": [
              "['ab', 2, 3.14, [1, 2, 3, 4, 5, 6]]"
            ]
          },
          "metadata": {},
          "execution_count": 11
        }
      ]
    },
    {
      "cell_type": "markdown",
      "source": [
        "### indexing การชี้สมาชิกใน list ด้วยเลขลำดับของ list"
      ],
      "metadata": {
        "id": "iG45R_9D8Muz"
      }
    },
    {
      "cell_type": "code",
      "source": [
        "list_a[3]"
      ],
      "metadata": {
        "colab": {
          "base_uri": "https://localhost:8080/"
        },
        "id": "4V75zP497Mi6",
        "outputId": "ab0fe254-d1e9-4ff1-ce95-bfcce9bf6c48"
      },
      "execution_count": 12,
      "outputs": [
        {
          "output_type": "execute_result",
          "data": {
            "text/plain": [
              "4"
            ]
          },
          "metadata": {},
          "execution_count": 12
        }
      ]
    },
    {
      "cell_type": "code",
      "source": [
        "list_b[3]"
      ],
      "metadata": {
        "colab": {
          "base_uri": "https://localhost:8080/"
        },
        "id": "XZYe9Mse7q8D",
        "outputId": "fbff6907-3762-43da-8652-50db9b521698"
      },
      "execution_count": 13,
      "outputs": [
        {
          "output_type": "execute_result",
          "data": {
            "text/plain": [
              "[1, 2, 3, 4, 5, 6]"
            ]
          },
          "metadata": {},
          "execution_count": 13
        }
      ]
    },
    {
      "cell_type": "code",
      "source": [
        "list_b[3][4]"
      ],
      "metadata": {
        "colab": {
          "base_uri": "https://localhost:8080/"
        },
        "id": "UQAIhiaB7xXJ",
        "outputId": "f38a76e9-d5d6-4d46-a368-7057edd1fc2d"
      },
      "execution_count": 24,
      "outputs": [
        {
          "output_type": "execute_result",
          "data": {
            "text/plain": [
              "5"
            ]
          },
          "metadata": {},
          "execution_count": 24
        }
      ]
    },
    {
      "cell_type": "code",
      "source": [
        "list_a[6] # ถ้าใส่ตัวแลขใน blackets มากกว่าตัวแปรที่เก็บใน list จะไม่สามารถ รันได้"
      ],
      "metadata": {
        "colab": {
          "base_uri": "https://localhost:8080/",
          "height": 171
        },
        "id": "Wg0Xj27V8BC5",
        "outputId": "7e2684d2-bc04-4f7a-fa4e-13d4916275ba"
      },
      "execution_count": 25,
      "outputs": [
        {
          "output_type": "error",
          "ename": "IndexError",
          "evalue": "ignored",
          "traceback": [
            "\u001b[0;31m---------------------------------------------------------------------------\u001b[0m",
            "\u001b[0;31mIndexError\u001b[0m                                Traceback (most recent call last)",
            "\u001b[0;32m<ipython-input-25-15cfc06e5613>\u001b[0m in \u001b[0;36m<module>\u001b[0;34m()\u001b[0m\n\u001b[0;32m----> 1\u001b[0;31m \u001b[0mlist_a\u001b[0m\u001b[0;34m[\u001b[0m\u001b[0;36m6\u001b[0m\u001b[0;34m]\u001b[0m \u001b[0;31m# ถ้าใส่ตัวแลขใน blackets มากกว่าตัวแปรที่เก็บใน list จะไม่สามารถ รันได้\u001b[0m\u001b[0;34m\u001b[0m\u001b[0;34m\u001b[0m\u001b[0m\n\u001b[0m",
            "\u001b[0;31mIndexError\u001b[0m: list index out of range"
          ]
        }
      ]
    },
    {
      "cell_type": "code",
      "source": [
        "list_a[-1] # indexing -1 คือดึงตัวสุดท้ายของ list"
      ],
      "metadata": {
        "colab": {
          "base_uri": "https://localhost:8080/"
        },
        "id": "6TkX8e9k8l1R",
        "outputId": "87f38f3b-c0a9-4cd7-f63d-196b5a29c7dd"
      },
      "execution_count": 26,
      "outputs": [
        {
          "output_type": "execute_result",
          "data": {
            "text/plain": [
              "6"
            ]
          },
          "metadata": {},
          "execution_count": 26
        }
      ]
    },
    {
      "cell_type": "markdown",
      "source": [
        "### การสร้าง ```list```"
      ],
      "metadata": {
        "id": "qRaeFQMr9jUF"
      }
    },
    {
      "cell_type": "code",
      "source": [
        "list_x1 = [] # แบบที่ 1\n",
        "list_x2 = list() # แบบที่ 2"
      ],
      "metadata": {
        "id": "Eo6yOk6f9Czf"
      },
      "execution_count": 27,
      "outputs": []
    },
    {
      "cell_type": "code",
      "source": [
        "print(list_x1)\n",
        "print(list_x2)"
      ],
      "metadata": {
        "colab": {
          "base_uri": "https://localhost:8080/"
        },
        "id": "kBpz_6bZ92kJ",
        "outputId": "43bca406-98ee-448d-be22-c80880e2f4cc"
      },
      "execution_count": 28,
      "outputs": [
        {
          "output_type": "stream",
          "name": "stdout",
          "text": [
            "[]\n",
            "[]\n"
          ]
        }
      ]
    },
    {
      "cell_type": "markdown",
      "source": [
        "### เพิ่มสมาชิกเข้าไปใน list ด้วย ```append()```"
      ],
      "metadata": {
        "id": "gwWBbR5j-vsZ"
      }
    },
    {
      "cell_type": "code",
      "source": [
        "list_x1.append(2)"
      ],
      "metadata": {
        "id": "pXqNCvpE-pvx"
      },
      "execution_count": 29,
      "outputs": []
    },
    {
      "cell_type": "code",
      "source": [
        "list_x1"
      ],
      "metadata": {
        "colab": {
          "base_uri": "https://localhost:8080/"
        },
        "id": "Sqr2lg1b_CFo",
        "outputId": "ee03371f-19b8-46a6-b568-a8c640f4c3b0"
      },
      "execution_count": 30,
      "outputs": [
        {
          "output_type": "execute_result",
          "data": {
            "text/plain": [
              "[2]"
            ]
          },
          "metadata": {},
          "execution_count": 30
        }
      ]
    },
    {
      "cell_type": "code",
      "source": [
        "list_x1.append(4)\n",
        "print(list_x1)"
      ],
      "metadata": {
        "colab": {
          "base_uri": "https://localhost:8080/"
        },
        "id": "-aGAEyk5_ESZ",
        "outputId": "9609980a-ce28-4cf1-c903-110c712cb82d"
      },
      "execution_count": 31,
      "outputs": [
        {
          "output_type": "stream",
          "name": "stdout",
          "text": [
            "[2, 4]\n"
          ]
        }
      ]
    },
    {
      "cell_type": "code",
      "source": [
        "list_x1[0]"
      ],
      "metadata": {
        "colab": {
          "base_uri": "https://localhost:8080/"
        },
        "id": "U3KJtD3W_Y9Y",
        "outputId": "b8eaf9ff-70eb-485d-ceac-a94f0805d2e7"
      },
      "execution_count": 32,
      "outputs": [
        {
          "output_type": "execute_result",
          "data": {
            "text/plain": [
              "2"
            ]
          },
          "metadata": {},
          "execution_count": 32
        }
      ]
    },
    {
      "cell_type": "code",
      "source": [
        "list_x1[-1]"
      ],
      "metadata": {
        "colab": {
          "base_uri": "https://localhost:8080/"
        },
        "id": "xfI15ssl_b7z",
        "outputId": "0b5568d4-9574-4585-aabd-875020edf783"
      },
      "execution_count": 33,
      "outputs": [
        {
          "output_type": "execute_result",
          "data": {
            "text/plain": [
              "4"
            ]
          },
          "metadata": {},
          "execution_count": 33
        }
      ]
    },
    {
      "cell_type": "code",
      "source": [
        "list_x2"
      ],
      "metadata": {
        "colab": {
          "base_uri": "https://localhost:8080/"
        },
        "id": "GOHNqckX_jt_",
        "outputId": "59a35686-e195-4ff1-a26d-d9b442ea8581"
      },
      "execution_count": 34,
      "outputs": [
        {
          "output_type": "execute_result",
          "data": {
            "text/plain": [
              "[]"
            ]
          },
          "metadata": {},
          "execution_count": 34
        }
      ]
    },
    {
      "cell_type": "code",
      "source": [
        "list_x2.append('ha')"
      ],
      "metadata": {
        "id": "EX0k1pC__mdC"
      },
      "execution_count": 35,
      "outputs": []
    },
    {
      "cell_type": "code",
      "source": [
        "list_x2"
      ],
      "metadata": {
        "colab": {
          "base_uri": "https://localhost:8080/"
        },
        "id": "Xl6rKct4_uEx",
        "outputId": "1fb8fe1c-b26f-4f39-8f9c-bb55538b1005"
      },
      "execution_count": 36,
      "outputs": [
        {
          "output_type": "execute_result",
          "data": {
            "text/plain": [
              "['ha']"
            ]
          },
          "metadata": {},
          "execution_count": 36
        }
      ]
    },
    {
      "cell_type": "code",
      "source": [
        "list_x1.append('ha')"
      ],
      "metadata": {
        "id": "HJIRnmax_vfg"
      },
      "execution_count": 37,
      "outputs": []
    },
    {
      "cell_type": "code",
      "source": [
        "list_x1"
      ],
      "metadata": {
        "colab": {
          "base_uri": "https://localhost:8080/"
        },
        "id": "h01fv0V7AFVw",
        "outputId": "c4b09187-258e-4b27-890a-8ce3f02b6806"
      },
      "execution_count": 38,
      "outputs": [
        {
          "output_type": "execute_result",
          "data": {
            "text/plain": [
              "[2, 4, 'ha']"
            ]
          },
          "metadata": {},
          "execution_count": 38
        }
      ]
    },
    {
      "cell_type": "code",
      "source": [
        "list_x1.pop() # เป็นการลบตัวท้ายสุดใน list ออก"
      ],
      "metadata": {
        "colab": {
          "base_uri": "https://localhost:8080/",
          "height": 36
        },
        "id": "W50TUOwAAHsY",
        "outputId": "219bfd9b-2c4d-4bb4-e9f6-c0cdb8d64845"
      },
      "execution_count": 39,
      "outputs": [
        {
          "output_type": "execute_result",
          "data": {
            "application/vnd.google.colaboratory.intrinsic+json": {
              "type": "string"
            },
            "text/plain": [
              "'ha'"
            ]
          },
          "metadata": {},
          "execution_count": 39
        }
      ]
    },
    {
      "cell_type": "code",
      "source": [
        "list_x1"
      ],
      "metadata": {
        "colab": {
          "base_uri": "https://localhost:8080/"
        },
        "id": "hiLgs7-dAM-p",
        "outputId": "be7e7dd6-aa46-4276-aeaf-81876cb8f33c"
      },
      "execution_count": 40,
      "outputs": [
        {
          "output_type": "execute_result",
          "data": {
            "text/plain": [
              "[2, 4]"
            ]
          },
          "metadata": {},
          "execution_count": 40
        }
      ]
    },
    {
      "cell_type": "code",
      "source": [
        "list_x1.pop()\n",
        "print(list_x1)"
      ],
      "metadata": {
        "colab": {
          "base_uri": "https://localhost:8080/"
        },
        "id": "_yoqkPJTAbiS",
        "outputId": "495f225e-ea60-4f27-cec4-a101849fdd68"
      },
      "execution_count": 41,
      "outputs": [
        {
          "output_type": "stream",
          "name": "stdout",
          "text": [
            "[2]\n"
          ]
        }
      ]
    },
    {
      "cell_type": "markdown",
      "source": [
        "### ```len()``` ตรวจสอบจำนวนสมาชิกของ list"
      ],
      "metadata": {
        "id": "smFAJzdWCBhE"
      }
    },
    {
      "cell_type": "code",
      "source": [
        "print(list_b)"
      ],
      "metadata": {
        "colab": {
          "base_uri": "https://localhost:8080/"
        },
        "id": "tAK_lWZhAmsS",
        "outputId": "513fed80-b660-4541-d9b5-cb2a6845ae3a"
      },
      "execution_count": 42,
      "outputs": [
        {
          "output_type": "stream",
          "name": "stdout",
          "text": [
            "['ab', 2, 3.14, [1, 2, 3, 4, 5, 6]]\n"
          ]
        }
      ]
    },
    {
      "cell_type": "code",
      "source": [
        "print(len(list_b))"
      ],
      "metadata": {
        "colab": {
          "base_uri": "https://localhost:8080/"
        },
        "id": "GHdTk833CP45",
        "outputId": "987e3615-a88c-4f5e-e663-21415293e425"
      },
      "execution_count": 43,
      "outputs": [
        {
          "output_type": "stream",
          "name": "stdout",
          "text": [
            "4\n"
          ]
        }
      ]
    },
    {
      "cell_type": "code",
      "source": [
        "len(list_a)"
      ],
      "metadata": {
        "colab": {
          "base_uri": "https://localhost:8080/"
        },
        "id": "Rn8H3NN4CWUq",
        "outputId": "58bf3299-0669-4c3a-bb5d-44e1559c774b"
      },
      "execution_count": 44,
      "outputs": [
        {
          "output_type": "execute_result",
          "data": {
            "text/plain": [
              "6"
            ]
          },
          "metadata": {},
          "execution_count": 44
        }
      ]
    },
    {
      "cell_type": "markdown",
      "source": [
        "### Siring is a list characters"
      ],
      "metadata": {
        "id": "gnPfv5X9CfLx"
      }
    },
    {
      "cell_type": "code",
      "source": [
        "st_stat = 'Department of Statistics, Faculty of Science'"
      ],
      "metadata": {
        "id": "uKLyYvvBCeBK"
      },
      "execution_count": 45,
      "outputs": []
    },
    {
      "cell_type": "code",
      "source": [
        "st_stat[10] "
      ],
      "metadata": {
        "colab": {
          "base_uri": "https://localhost:8080/",
          "height": 36
        },
        "id": "306w5VEdDY0h",
        "outputId": "8d5c6e6f-bceb-4707-ecce-a4ea4238b679"
      },
      "execution_count": 46,
      "outputs": [
        {
          "output_type": "execute_result",
          "data": {
            "application/vnd.google.colaboratory.intrinsic+json": {
              "type": "string"
            },
            "text/plain": [
              "' '"
            ]
          },
          "metadata": {},
          "execution_count": 46
        }
      ]
    },
    {
      "cell_type": "code",
      "source": [
        "len(st_stat)"
      ],
      "metadata": {
        "colab": {
          "base_uri": "https://localhost:8080/"
        },
        "id": "lPCWGJRjDeoZ",
        "outputId": "f4b710ef-2398-48ee-a404-436a1a2cc984"
      },
      "execution_count": 47,
      "outputs": [
        {
          "output_type": "execute_result",
          "data": {
            "text/plain": [
              "44"
            ]
          },
          "metadata": {},
          "execution_count": 47
        }
      ]
    },
    {
      "cell_type": "markdown",
      "source": [
        "### List Slicing `:`"
      ],
      "metadata": {
        "id": "37WR_1QTDol_"
      }
    },
    {
      "cell_type": "markdown",
      "source": [
        "   `list[จุดเริ่มต้น (ทึบ):จุดสุดท้าย (โปร่ง)]`\n",
        "\n",
        "   `list[จุดเริ่มต้น (ทึบ):จุดสุดท้าย:step (โปร่ง)]`"
      ],
      "metadata": {
        "id": "-Km7kJdtEUMh"
      }
    },
    {
      "cell_type": "code",
      "source": [
        "list_a"
      ],
      "metadata": {
        "colab": {
          "base_uri": "https://localhost:8080/"
        },
        "id": "9u5h98MoDnQp",
        "outputId": "b25009e5-8bb4-4060-8733-a54094ab4bd8"
      },
      "execution_count": 48,
      "outputs": [
        {
          "output_type": "execute_result",
          "data": {
            "text/plain": [
              "[1, 2, 3, 4, 5, 6]"
            ]
          },
          "metadata": {},
          "execution_count": 48
        }
      ]
    },
    {
      "cell_type": "code",
      "source": [
        "list_a[2]"
      ],
      "metadata": {
        "colab": {
          "base_uri": "https://localhost:8080/"
        },
        "id": "K9Q7NtcMDzGo",
        "outputId": "4b74a389-aec1-4031-b458-ba8c0494f2ef"
      },
      "execution_count": 49,
      "outputs": [
        {
          "output_type": "execute_result",
          "data": {
            "text/plain": [
              "3"
            ]
          },
          "metadata": {},
          "execution_count": 49
        }
      ]
    },
    {
      "cell_type": "markdown",
      "source": [
        "#### ```:``` colon"
      ],
      "metadata": {
        "id": "syB3k9T-G1PU"
      }
    },
    {
      "cell_type": "code",
      "source": [
        "list_a[-3:] # : colon # เอา 3 ตัวท้าย"
      ],
      "metadata": {
        "colab": {
          "base_uri": "https://localhost:8080/"
        },
        "id": "flOw8dnpD4d6",
        "outputId": "a04a6788-7286-4201-e9b0-5c2446fcbb13"
      },
      "execution_count": 50,
      "outputs": [
        {
          "output_type": "execute_result",
          "data": {
            "text/plain": [
              "[4, 5, 6]"
            ]
          },
          "metadata": {},
          "execution_count": 50
        }
      ]
    },
    {
      "cell_type": "code",
      "source": [
        "list_a[2:] # : colon # เอาตั้งแต่ตัวที่ 2 ถึงตัวสุดท้าย"
      ],
      "metadata": {
        "colab": {
          "base_uri": "https://localhost:8080/"
        },
        "id": "DyO4Ht8hFu5S",
        "outputId": "17532749-a62f-4f46-bc3b-2a3743ca722e"
      },
      "execution_count": 51,
      "outputs": [
        {
          "output_type": "execute_result",
          "data": {
            "text/plain": [
              "[3, 4, 5, 6]"
            ]
          },
          "metadata": {},
          "execution_count": 51
        }
      ]
    },
    {
      "cell_type": "code",
      "source": [
        "list_a[:4] # : colon # เอาตั้งแต่ตัวแรก ถึง ตัวในตำแหน่งที่ 4"
      ],
      "metadata": {
        "colab": {
          "base_uri": "https://localhost:8080/"
        },
        "id": "mS7SDaa8GZVB",
        "outputId": "f15526bc-c9f1-4832-e123-4e3f63efe232"
      },
      "execution_count": 52,
      "outputs": [
        {
          "output_type": "execute_result",
          "data": {
            "text/plain": [
              "[1, 2, 3, 4]"
            ]
          },
          "metadata": {},
          "execution_count": 52
        }
      ]
    },
    {
      "cell_type": "code",
      "source": [
        "list_a[1:4] # เอาตั้งแต่ตำแหน่งที่ 1 ถึง ตำแหน่งที่ 3 ไม่เอาตำแหน่งที่ 4"
      ],
      "metadata": {
        "colab": {
          "base_uri": "https://localhost:8080/"
        },
        "id": "DpbD1sVzEO6w",
        "outputId": "4d28c334-10f8-48ee-d1ad-2058bdd7c5f5"
      },
      "execution_count": 53,
      "outputs": [
        {
          "output_type": "execute_result",
          "data": {
            "text/plain": [
              "[2, 3, 4]"
            ]
          },
          "metadata": {},
          "execution_count": 53
        }
      ]
    },
    {
      "cell_type": "code",
      "source": [
        "list_a[:]"
      ],
      "metadata": {
        "colab": {
          "base_uri": "https://localhost:8080/"
        },
        "id": "I8dxqLN1Ft1J",
        "outputId": "19c8639f-d057-4a35-a622-0e25239988b6"
      },
      "execution_count": 54,
      "outputs": [
        {
          "output_type": "execute_result",
          "data": {
            "text/plain": [
              "[1, 2, 3, 4, 5, 6]"
            ]
          },
          "metadata": {},
          "execution_count": 54
        }
      ]
    },
    {
      "cell_type": "markdown",
      "source": [
        "#### step"
      ],
      "metadata": {
        "id": "tm30fdZ3Gw0H"
      }
    },
    {
      "cell_type": "code",
      "source": [
        "list_c = [1,2,3,4,5,6,7,8,9,10,11,12,13]"
      ],
      "metadata": {
        "id": "2rvlW2PWGtMY"
      },
      "execution_count": 55,
      "outputs": []
    },
    {
      "cell_type": "code",
      "source": [
        "list_c[:10:]"
      ],
      "metadata": {
        "colab": {
          "base_uri": "https://localhost:8080/"
        },
        "id": "qRI4HRMKHBM5",
        "outputId": "077af266-d782-4662-afe0-95019da1e84f"
      },
      "execution_count": 56,
      "outputs": [
        {
          "output_type": "execute_result",
          "data": {
            "text/plain": [
              "[1, 2, 3, 4, 5, 6, 7, 8, 9, 10]"
            ]
          },
          "metadata": {},
          "execution_count": 56
        }
      ]
    },
    {
      "cell_type": "code",
      "source": [
        "list_c[:10:2] # Step :2 คือจะเริ่มจากตำแหน่งแรกแล้วข้ามตัวถัดไป แล้วก็สลับไปเรื่อยๆ "
      ],
      "metadata": {
        "colab": {
          "base_uri": "https://localhost:8080/"
        },
        "id": "YMRF_EfNHKpK",
        "outputId": "38212be2-ea0c-4a13-a769-79237f349360"
      },
      "execution_count": 57,
      "outputs": [
        {
          "output_type": "execute_result",
          "data": {
            "text/plain": [
              "[1, 3, 5, 7, 9]"
            ]
          },
          "metadata": {},
          "execution_count": 57
        }
      ]
    },
    {
      "cell_type": "code",
      "source": [
        "list_c[:10:3] # Step :3 คือจะเริ่มจากตำแหน่งแรกแล้วข้าม 2 ตัวถัดไป แล้วก็สลับไปเรื่อยๆ"
      ],
      "metadata": {
        "id": "mEzVyn52bSQI",
        "outputId": "8170ccb9-f380-496a-9926-b8c9f307d81d",
        "colab": {
          "base_uri": "https://localhost:8080/"
        }
      },
      "execution_count": 58,
      "outputs": [
        {
          "output_type": "execute_result",
          "data": {
            "text/plain": [
              "[1, 4, 7, 10]"
            ]
          },
          "metadata": {},
          "execution_count": 58
        }
      ]
    },
    {
      "cell_type": "code",
      "source": [
        "list_c[::-1]"
      ],
      "metadata": {
        "colab": {
          "base_uri": "https://localhost:8080/"
        },
        "id": "ocI_ZqCRHWzw",
        "outputId": "f4e168ae-5f5b-4ec9-9776-86fc67dec167"
      },
      "execution_count": 59,
      "outputs": [
        {
          "output_type": "execute_result",
          "data": {
            "text/plain": [
              "[13, 12, 11, 10, 9, 8, 7, 6, 5, 4, 3, 2, 1]"
            ]
          },
          "metadata": {},
          "execution_count": 59
        }
      ]
    },
    {
      "cell_type": "markdown",
      "source": [
        "### ```range()```"
      ],
      "metadata": {
        "id": "8w7zwqXrIFMy"
      }
    },
    {
      "cell_type": "code",
      "source": [
        "range(21)"
      ],
      "metadata": {
        "colab": {
          "base_uri": "https://localhost:8080/"
        },
        "id": "YhvYXfMfHgrx",
        "outputId": "63574cb3-0fb2-4d13-d018-aef378f63e72"
      },
      "execution_count": 60,
      "outputs": [
        {
          "output_type": "execute_result",
          "data": {
            "text/plain": [
              "range(0, 21)"
            ]
          },
          "metadata": {},
          "execution_count": 60
        }
      ]
    },
    {
      "cell_type": "code",
      "source": [
        "a = list(range(21))"
      ],
      "metadata": {
        "id": "lSwhzNbhINIY"
      },
      "execution_count": 61,
      "outputs": []
    },
    {
      "cell_type": "code",
      "source": [
        "a"
      ],
      "metadata": {
        "colab": {
          "base_uri": "https://localhost:8080/"
        },
        "id": "WPYbmNAVIZjA",
        "outputId": "e27c69d5-700c-4a59-d0c1-519f81891829"
      },
      "execution_count": 62,
      "outputs": [
        {
          "output_type": "execute_result",
          "data": {
            "text/plain": [
              "[0, 1, 2, 3, 4, 5, 6, 7, 8, 9, 10, 11, 12, 13, 14, 15, 16, 17, 18, 19, 20]"
            ]
          },
          "metadata": {},
          "execution_count": 62
        }
      ]
    },
    {
      "cell_type": "code",
      "source": [
        "list(range(1,21))"
      ],
      "metadata": {
        "colab": {
          "base_uri": "https://localhost:8080/"
        },
        "id": "wIs8PtccIZ3R",
        "outputId": "12744a3c-2e86-4cff-f614-bd757db8b132"
      },
      "execution_count": 63,
      "outputs": [
        {
          "output_type": "execute_result",
          "data": {
            "text/plain": [
              "[1, 2, 3, 4, 5, 6, 7, 8, 9, 10, 11, 12, 13, 14, 15, 16, 17, 18, 19, 20]"
            ]
          },
          "metadata": {},
          "execution_count": 63
        }
      ]
    },
    {
      "cell_type": "markdown",
      "source": [
        "HW2 คำนวนเวลาเป็นวินาทีของเวลาต่อไปนี้ต่อไปนี้โดยใช้คำสั่ง split() ช่วย (print ออกมาใช้สวยงาม)\n",
        "\n",
        "- 12:30:15\n",
        "- 13:41:07\n",
        "- 09:11:50\n",
        "- 21:30:15\n",
        "- 03:10:15"
      ],
      "metadata": {
        "id": "ubPoE4zzJDoo"
      }
    },
    {
      "cell_type": "code",
      "source": [
        "#ex 01:02:03\n",
        "\n",
        "a = 1*60*60 + (2*60) + 3\n",
        "print(f'01:02:03 แปลงเป็นวินาที ได้ {a} วินาที')"
      ],
      "metadata": {
        "colab": {
          "base_uri": "https://localhost:8080/"
        },
        "id": "dWII7pXZIf_I",
        "outputId": "beecdc66-ac46-4485-ccf3-e41b1ffd2788"
      },
      "execution_count": 64,
      "outputs": [
        {
          "output_type": "stream",
          "name": "stdout",
          "text": [
            "01:02:03 แปลงเป็นวินาที ได้ 3723 วินาที\n"
          ]
        }
      ]
    },
    {
      "cell_type": "code",
      "source": [
        "# 12:30:15\n",
        "x = 12*60*60 + (30*60) + 15\n",
        "print(f'12:30:15 แปลงเป็นวินาที ได้ {x:,} วินาที')\n"
      ],
      "metadata": {
        "id": "ECWXNBxTJ3dP",
        "outputId": "fcd1eafd-e5a1-40d3-c08d-a53e4f8dbbd5",
        "colab": {
          "base_uri": "https://localhost:8080/"
        }
      },
      "execution_count": 65,
      "outputs": [
        {
          "output_type": "stream",
          "name": "stdout",
          "text": [
            "12:30:15 แปลงเป็นวินาที ได้ 45,015 วินาที\n"
          ]
        }
      ]
    },
    {
      "cell_type": "code",
      "source": [
        "# 13:41:07\n",
        "x = '13:41:07'\n",
        "xx = x.split(':')\n",
        "xxx = int(xx[0])*60*60 + int(xx[1])*60 + int(xx[2])\n",
        "print(f'เวลา 01:02:03 แปลงเป็นวินาทีได้ {xxx} วินาที')"
      ],
      "metadata": {
        "id": "qiasRr-8c4av",
        "outputId": "06788da1-3b58-4906-dd3a-fd4f994b9539",
        "colab": {
          "base_uri": "https://localhost:8080/"
        }
      },
      "execution_count": 66,
      "outputs": [
        {
          "output_type": "stream",
          "name": "stdout",
          "text": [
            "เวลา 01:02:03 แปลงเป็นวินาทีได้ 49267 วินาที\n"
          ]
        }
      ]
    },
    {
      "cell_type": "code",
      "source": [
        "# 09:11:50\n",
        "x = '09:11:50'\n",
        "xx = x.split(':')\n",
        "xxx = int(xx[0])*60*60 + int(xx[1])*60 + int(xx[2])\n",
        "print(f'เวลา 01:02:03 แปลงเป็นวินาทีได้ {xxx} วินาที')"
      ],
      "metadata": {
        "id": "mht4EFvhc7Ft",
        "outputId": "303e462d-a9e5-410f-df62-c5895efd7827",
        "colab": {
          "base_uri": "https://localhost:8080/"
        }
      },
      "execution_count": 67,
      "outputs": [
        {
          "output_type": "stream",
          "name": "stdout",
          "text": [
            "เวลา 01:02:03 แปลงเป็นวินาทีได้ 33110 วินาที\n"
          ]
        }
      ]
    },
    {
      "cell_type": "code",
      "source": [
        "# 21:30:15\n",
        "x = '21:30:15'\n",
        "xx = x.split(':')\n",
        "xxx = int(xx[0])*60*60 + int(xx[1])*60 + int(xx[2])\n",
        "print(f'เวลา 01:02:03 แปลงเป็นวินาทีได้ {xxx} วินาที')"
      ],
      "metadata": {
        "id": "q8tZnlJ3c9X1",
        "outputId": "bd4727e8-d6fa-47f8-d767-f1767bfe5775",
        "colab": {
          "base_uri": "https://localhost:8080/"
        }
      },
      "execution_count": 68,
      "outputs": [
        {
          "output_type": "stream",
          "name": "stdout",
          "text": [
            "เวลา 01:02:03 แปลงเป็นวินาทีได้ 77415 วินาที\n"
          ]
        }
      ]
    },
    {
      "cell_type": "code",
      "source": [
        "# 03:10:15\n",
        "x = '03:10:15'\n",
        "xx = x.split(':')\n",
        "xxx = int(xx[0])*60*60 + int(xx[1])*60 + int(xx[2])\n",
        "print(f'เวลา 01:02:03 แปลงเป็นวินาทีได้ {xxx} วินาที')"
      ],
      "metadata": {
        "id": "yphgGfxvc_13",
        "outputId": "dc670f0f-eeb6-4707-d030-4f1a8efb6a50",
        "colab": {
          "base_uri": "https://localhost:8080/"
        }
      },
      "execution_count": 69,
      "outputs": [
        {
          "output_type": "stream",
          "name": "stdout",
          "text": [
            "เวลา 01:02:03 แปลงเป็นวินาทีได้ 11415 วินาที\n"
          ]
        }
      ]
    },
    {
      "cell_type": "markdown",
      "source": [
        "## Dictionary"
      ],
      "metadata": {
        "id": "fGt9wT4VOmHB"
      }
    },
    {
      "cell_type": "markdown",
      "source": [
        "- คล้าย list()\n",
        "- index เป็นอะไรก็ได้ ไม่จำเป็นต้องเป็นตัวเลขลำดับ\n",
        "- ลำดับไม่สำคัญ"
      ],
      "metadata": {
        "id": "w139tFwtPLGu"
      }
    },
    {
      "cell_type": "markdown",
      "source": [
        "### สร้าง Dictionary"
      ],
      "metadata": {
        "id": "HPiBY5ZGQ4ri"
      }
    },
    {
      "cell_type": "markdown",
      "source": [
        "### การชี้สมาชิกใน Dictionary"
      ],
      "metadata": {
        "id": "I2wmWorzQ-Rc"
      }
    },
    {
      "cell_type": "code",
      "source": [
        "dict_a = {1:'Happy','N':'New','2022':'Year'} # { } curly brackets"
      ],
      "metadata": {
        "id": "bLYEG7OVPg7e"
      },
      "execution_count": 70,
      "outputs": []
    },
    {
      "cell_type": "code",
      "source": [
        "dict_a[1]"
      ],
      "metadata": {
        "id": "tjC96PcUQCtV",
        "outputId": "102f9235-8f74-49eb-b564-5bc3b612cb83",
        "colab": {
          "base_uri": "https://localhost:8080/",
          "height": 36
        }
      },
      "execution_count": 71,
      "outputs": [
        {
          "output_type": "execute_result",
          "data": {
            "application/vnd.google.colaboratory.intrinsic+json": {
              "type": "string"
            },
            "text/plain": [
              "'Happy'"
            ]
          },
          "metadata": {},
          "execution_count": 71
        }
      ]
    },
    {
      "cell_type": "code",
      "source": [
        "dict_a['N']"
      ],
      "metadata": {
        "id": "cAlyEY_zQR_u",
        "outputId": "2c70e39a-9650-4989-daa6-3d8577ee92e9",
        "colab": {
          "base_uri": "https://localhost:8080/",
          "height": 36
        }
      },
      "execution_count": 72,
      "outputs": [
        {
          "output_type": "execute_result",
          "data": {
            "application/vnd.google.colaboratory.intrinsic+json": {
              "type": "string"
            },
            "text/plain": [
              "'New'"
            ]
          },
          "metadata": {},
          "execution_count": 72
        }
      ]
    },
    {
      "cell_type": "code",
      "source": [
        "dict_a.keys()"
      ],
      "metadata": {
        "id": "MaV-Qts4QZj_",
        "outputId": "c8aaf0b9-325f-45be-b457-5d29c7dfbf07",
        "colab": {
          "base_uri": "https://localhost:8080/"
        }
      },
      "execution_count": 73,
      "outputs": [
        {
          "output_type": "execute_result",
          "data": {
            "text/plain": [
              "dict_keys([1, 'N', '2022'])"
            ]
          },
          "metadata": {},
          "execution_count": 73
        }
      ]
    },
    {
      "cell_type": "code",
      "source": [
        "dict_a.values()"
      ],
      "metadata": {
        "id": "8cwL_3TiQzpk",
        "outputId": "1d0b10ac-b18f-48f6-b97f-d419b747b367",
        "colab": {
          "base_uri": "https://localhost:8080/"
        }
      },
      "execution_count": 74,
      "outputs": [
        {
          "output_type": "execute_result",
          "data": {
            "text/plain": [
              "dict_values(['Happy', 'New', 'Year'])"
            ]
          },
          "metadata": {},
          "execution_count": 74
        }
      ]
    },
    {
      "cell_type": "markdown",
      "source": [
        "### การเพื่มสมาชิกลงไปใน Dictionary"
      ],
      "metadata": {
        "id": "e8CbbtWoRFHs"
      }
    },
    {
      "cell_type": "code",
      "source": [
        "dict_a[7] = 3.14"
      ],
      "metadata": {
        "id": "VViTixZ-Q2kE"
      },
      "execution_count": 75,
      "outputs": []
    },
    {
      "cell_type": "code",
      "source": [
        "dict_a[5] = 'love' # ลองทำเล่นๆเพราะสงสัย ปัง ปัง ปัง"
      ],
      "metadata": {
        "id": "mrdVsVQaRtck"
      },
      "execution_count": 76,
      "outputs": []
    },
    {
      "cell_type": "code",
      "source": [
        "dict_a # ถ้ากำหนด key ซ้ำจะเป็นการอัพเดตข้อมูลเดิม"
      ],
      "metadata": {
        "id": "C2ZrnFKxRXBv",
        "outputId": "5c91447f-0cd7-4253-fe30-1cda917ab539",
        "colab": {
          "base_uri": "https://localhost:8080/"
        }
      },
      "execution_count": 77,
      "outputs": [
        {
          "output_type": "execute_result",
          "data": {
            "text/plain": [
              "{1: 'Happy', '2022': 'Year', 5: 'love', 7: 3.14, 'N': 'New'}"
            ]
          },
          "metadata": {},
          "execution_count": 77
        }
      ]
    },
    {
      "cell_type": "markdown",
      "source": [
        "## Nampy Array"
      ],
      "metadata": {
        "id": "80vsL0JAOuCf"
      }
    },
    {
      "cell_type": "markdown",
      "source": [
        "- เก็บได้เฉพาะตัวเลข\n",
        "- อ้างอิงโดยใช้พิกัด (2มิติ ก็มองเป็นเมทริกซ์)"
      ],
      "metadata": {
        "id": "VYcLN5AMUw4T"
      }
    },
    {
      "cell_type": "markdown",
      "source": [
        "### 1D array"
      ],
      "metadata": {
        "id": "G06mp6nSYPHY"
      }
    },
    {
      "cell_type": "code",
      "source": [
        "import numpy"
      ],
      "metadata": {
        "id": "M60UOlqzUYEA"
      },
      "execution_count": 78,
      "outputs": []
    },
    {
      "cell_type": "code",
      "source": [
        "arr = numpy.array([1,2,3,4,5])"
      ],
      "metadata": {
        "id": "d--3gFeMVXc1"
      },
      "execution_count": 79,
      "outputs": []
    },
    {
      "cell_type": "code",
      "source": [
        "arr"
      ],
      "metadata": {
        "id": "ijdItlF5Vlay",
        "outputId": "8d3db904-c4e4-4970-fd7f-400a97fd0e56",
        "colab": {
          "base_uri": "https://localhost:8080/"
        }
      },
      "execution_count": 80,
      "outputs": [
        {
          "output_type": "execute_result",
          "data": {
            "text/plain": [
              "array([1, 2, 3, 4, 5])"
            ]
          },
          "metadata": {},
          "execution_count": 80
        }
      ]
    },
    {
      "cell_type": "code",
      "source": [
        "arr[0] # ใช้ประโยชน์ได้มากกว่า list"
      ],
      "metadata": {
        "id": "0cPtFBahVnOx",
        "outputId": "800f6de4-df46-456d-95e6-20c9c7fdc664",
        "colab": {
          "base_uri": "https://localhost:8080/"
        }
      },
      "execution_count": 81,
      "outputs": [
        {
          "output_type": "execute_result",
          "data": {
            "text/plain": [
              "1"
            ]
          },
          "metadata": {},
          "execution_count": 81
        }
      ]
    },
    {
      "cell_type": "code",
      "source": [
        "5*arr # 5 คูณเข้า array จะหมายถึง คูณทุกตัวในนั้น เหมือนเมทริกซ์"
      ],
      "metadata": {
        "id": "5ts97WYSWT57",
        "outputId": "7cf0901d-28a1-4f77-e3c7-343bdacf88cf",
        "colab": {
          "base_uri": "https://localhost:8080/"
        }
      },
      "execution_count": 82,
      "outputs": [
        {
          "output_type": "execute_result",
          "data": {
            "text/plain": [
              "array([ 5, 10, 15, 20, 25])"
            ]
          },
          "metadata": {},
          "execution_count": 82
        }
      ]
    },
    {
      "cell_type": "code",
      "source": [
        "list_ex =[1,2,3,4,5]"
      ],
      "metadata": {
        "id": "JYEFtuE2Woec"
      },
      "execution_count": 83,
      "outputs": []
    },
    {
      "cell_type": "code",
      "source": [
        "5*list_ex # 5 * list หมายถึงเรียก list 5 รอบ"
      ],
      "metadata": {
        "id": "WXhRPWykWoVb",
        "outputId": "ac8fe2e2-7821-4418-e669-269db561b51f",
        "colab": {
          "base_uri": "https://localhost:8080/"
        }
      },
      "execution_count": 84,
      "outputs": [
        {
          "output_type": "execute_result",
          "data": {
            "text/plain": [
              "[1, 2, 3, 4, 5, 1, 2, 3, 4, 5, 1, 2, 3, 4, 5, 1, 2, 3, 4, 5, 1, 2, 3, 4, 5]"
            ]
          },
          "metadata": {},
          "execution_count": 84
        }
      ]
    },
    {
      "cell_type": "code",
      "source": [
        "arr2 = numpy.array([10,20,30,40,50])"
      ],
      "metadata": {
        "id": "LUmtIzNNWoIg"
      },
      "execution_count": 85,
      "outputs": []
    },
    {
      "cell_type": "code",
      "source": [
        "arr"
      ],
      "metadata": {
        "id": "4jtDdcP4XS6v",
        "outputId": "6f8df050-9caf-4e04-b4f6-4cf201bbdaed",
        "colab": {
          "base_uri": "https://localhost:8080/"
        }
      },
      "execution_count": 86,
      "outputs": [
        {
          "output_type": "execute_result",
          "data": {
            "text/plain": [
              "array([1, 2, 3, 4, 5])"
            ]
          },
          "metadata": {},
          "execution_count": 86
        }
      ]
    },
    {
      "cell_type": "code",
      "source": [
        "arr + arr2"
      ],
      "metadata": {
        "id": "xc5RybGAXS3D",
        "outputId": "4ed158e4-95dd-4bf5-c825-13ad7fa7b7e9",
        "colab": {
          "base_uri": "https://localhost:8080/"
        }
      },
      "execution_count": 87,
      "outputs": [
        {
          "output_type": "execute_result",
          "data": {
            "text/plain": [
              "array([11, 22, 33, 44, 55])"
            ]
          },
          "metadata": {},
          "execution_count": 87
        }
      ]
    },
    {
      "cell_type": "code",
      "source": [
        "arr * arr2"
      ],
      "metadata": {
        "id": "aUtfmRYvX0iB",
        "outputId": "5f98b083-80bf-458c-9724-9b1408bdebaf",
        "colab": {
          "base_uri": "https://localhost:8080/"
        }
      },
      "execution_count": 88,
      "outputs": [
        {
          "output_type": "execute_result",
          "data": {
            "text/plain": [
              "array([ 10,  40,  90, 160, 250])"
            ]
          },
          "metadata": {},
          "execution_count": 88
        }
      ]
    },
    {
      "cell_type": "code",
      "source": [
        "arr / arr2"
      ],
      "metadata": {
        "id": "QhDxiBYGX0Ly",
        "outputId": "974f6176-8571-4b54-d208-75efd8660f92",
        "colab": {
          "base_uri": "https://localhost:8080/"
        }
      },
      "execution_count": 89,
      "outputs": [
        {
          "output_type": "execute_result",
          "data": {
            "text/plain": [
              "array([0.1, 0.1, 0.1, 0.1, 0.1])"
            ]
          },
          "metadata": {},
          "execution_count": 89
        }
      ]
    },
    {
      "cell_type": "code",
      "source": [
        "arr - arr2"
      ],
      "metadata": {
        "id": "9T8nPq4BX-65",
        "outputId": "54488a3b-c8d0-4d96-f7bf-bb97540665cf",
        "colab": {
          "base_uri": "https://localhost:8080/"
        }
      },
      "execution_count": 90,
      "outputs": [
        {
          "output_type": "execute_result",
          "data": {
            "text/plain": [
              "array([ -9, -18, -27, -36, -45])"
            ]
          },
          "metadata": {},
          "execution_count": 90
        }
      ]
    },
    {
      "cell_type": "code",
      "source": [
        "arr.shape"
      ],
      "metadata": {
        "id": "bqCL2BHvZ51x",
        "outputId": "e47e30b7-ae16-4fa0-f0b0-78d9b3418fee",
        "colab": {
          "base_uri": "https://localhost:8080/"
        }
      },
      "execution_count": 91,
      "outputs": [
        {
          "output_type": "execute_result",
          "data": {
            "text/plain": [
              "(5,)"
            ]
          },
          "metadata": {},
          "execution_count": 91
        }
      ]
    },
    {
      "cell_type": "markdown",
      "source": [
        "## 2D array"
      ],
      "metadata": {
        "id": "vaMeewEzYDF4"
      }
    },
    {
      "cell_type": "code",
      "source": [
        "import numpy as np"
      ],
      "metadata": {
        "id": "VjwcDgdrYTQq"
      },
      "execution_count": 92,
      "outputs": []
    },
    {
      "cell_type": "code",
      "source": [
        "arr2d = np.array([[1,2,3],[4,5,6]])"
      ],
      "metadata": {
        "id": "_eUSuKu7Ybwp"
      },
      "execution_count": 93,
      "outputs": []
    },
    {
      "cell_type": "code",
      "source": [
        "arr2d"
      ],
      "metadata": {
        "id": "yckLgIcGY_sZ",
        "outputId": "efc68d30-7846-402d-c52e-1186470d30aa",
        "colab": {
          "base_uri": "https://localhost:8080/"
        }
      },
      "execution_count": 94,
      "outputs": [
        {
          "output_type": "execute_result",
          "data": {
            "text/plain": [
              "array([[1, 2, 3],\n",
              "       [4, 5, 6]])"
            ]
          },
          "metadata": {},
          "execution_count": 94
        }
      ]
    },
    {
      "cell_type": "code",
      "source": [
        "arr2d.shape"
      ],
      "metadata": {
        "id": "hgdtHsJIZmfC",
        "outputId": "825817f5-d441-4921-f9cf-f2063239b21b",
        "colab": {
          "base_uri": "https://localhost:8080/"
        }
      },
      "execution_count": 95,
      "outputs": [
        {
          "output_type": "execute_result",
          "data": {
            "text/plain": [
              "(2, 3)"
            ]
          },
          "metadata": {},
          "execution_count": 95
        }
      ]
    },
    {
      "cell_type": "markdown",
      "source": [
        "### np.zeros()"
      ],
      "metadata": {
        "id": "wPIu_n8IZadC"
      }
    },
    {
      "cell_type": "code",
      "source": [
        "arr2350 = np.zeros((3,5))"
      ],
      "metadata": {
        "id": "3c8RDgO9Y_jI"
      },
      "execution_count": 96,
      "outputs": []
    },
    {
      "cell_type": "code",
      "source": [
        "arr2350"
      ],
      "metadata": {
        "id": "MccGsAZaY_aR",
        "outputId": "94c3c75a-46e0-4b55-80fb-73cf25fbe0d3",
        "colab": {
          "base_uri": "https://localhost:8080/"
        }
      },
      "execution_count": 97,
      "outputs": [
        {
          "output_type": "execute_result",
          "data": {
            "text/plain": [
              "array([[0., 0., 0., 0., 0.],\n",
              "       [0., 0., 0., 0., 0.],\n",
              "       [0., 0., 0., 0., 0.]])"
            ]
          },
          "metadata": {},
          "execution_count": 97
        }
      ]
    },
    {
      "cell_type": "code",
      "source": [
        "arr2350[1,2] = 9"
      ],
      "metadata": {
        "id": "M0AQr9HbaVEN"
      },
      "execution_count": 98,
      "outputs": []
    },
    {
      "cell_type": "code",
      "source": [
        "arr2350"
      ],
      "metadata": {
        "id": "NZPalNDraVAa",
        "outputId": "31dd980c-17c0-4b2d-b131-62f34e19b223",
        "colab": {
          "base_uri": "https://localhost:8080/"
        }
      },
      "execution_count": 99,
      "outputs": [
        {
          "output_type": "execute_result",
          "data": {
            "text/plain": [
              "array([[0., 0., 0., 0., 0.],\n",
              "       [0., 0., 9., 0., 0.],\n",
              "       [0., 0., 0., 0., 0.]])"
            ]
          },
          "metadata": {},
          "execution_count": 99
        }
      ]
    },
    {
      "cell_type": "code",
      "source": [
        "arr2350[1,2]"
      ],
      "metadata": {
        "id": "rBMtuk7caT8H",
        "outputId": "70223143-dd06-4ad2-fdaa-c2d9f01d3a99",
        "colab": {
          "base_uri": "https://localhost:8080/"
        }
      },
      "execution_count": 100,
      "outputs": [
        {
          "output_type": "execute_result",
          "data": {
            "text/plain": [
              "9.0"
            ]
          },
          "metadata": {},
          "execution_count": 100
        }
      ]
    },
    {
      "cell_type": "code",
      "source": [
        "print(list_ex)\n",
        "list_ex[-1] = 'Song gang'\n",
        "print(list_ex)"
      ],
      "metadata": {
        "id": "txxE1VH0ayqy",
        "outputId": "11868ceb-f6d8-4894-e31f-023f1ebd64a5",
        "colab": {
          "base_uri": "https://localhost:8080/"
        }
      },
      "execution_count": 101,
      "outputs": [
        {
          "output_type": "stream",
          "name": "stdout",
          "text": [
            "[1, 2, 3, 4, 5]\n",
            "[1, 2, 3, 4, 'Song gang']\n"
          ]
        }
      ]
    },
    {
      "cell_type": "markdown",
      "source": [
        "### np.ones()"
      ],
      "metadata": {
        "id": "StG9vXKTb3dG"
      }
    },
    {
      "cell_type": "code",
      "source": [
        "arr2451 = np.ones((4,5)) # มี 1 เนื่องจากเราสามารถ * ตัวเลขใดเข้าก็ได้ ทำให้เราสามารถ สร้างเมทริกซ์ที่ต้องการได้"
      ],
      "metadata": {
        "id": "I9GQmDlxcB71"
      },
      "execution_count": 102,
      "outputs": []
    },
    {
      "cell_type": "code",
      "source": [
        "arr2451"
      ],
      "metadata": {
        "id": "B99Rusq-cVYA",
        "outputId": "9084b1c5-e986-4698-ffc9-4c3633637206",
        "colab": {
          "base_uri": "https://localhost:8080/"
        }
      },
      "execution_count": 103,
      "outputs": [
        {
          "output_type": "execute_result",
          "data": {
            "text/plain": [
              "array([[1., 1., 1., 1., 1.],\n",
              "       [1., 1., 1., 1., 1.],\n",
              "       [1., 1., 1., 1., 1.],\n",
              "       [1., 1., 1., 1., 1.]])"
            ]
          },
          "metadata": {},
          "execution_count": 103
        }
      ]
    },
    {
      "cell_type": "code",
      "source": [
        "arr245200 = 200*np.ones((4,5))\n",
        "arr245200"
      ],
      "metadata": {
        "id": "QNU9qjpPcYgl",
        "outputId": "550fa460-91c9-47bb-99f6-45442e3df7eb",
        "colab": {
          "base_uri": "https://localhost:8080/"
        }
      },
      "execution_count": 104,
      "outputs": [
        {
          "output_type": "execute_result",
          "data": {
            "text/plain": [
              "array([[200., 200., 200., 200., 200.],\n",
              "       [200., 200., 200., 200., 200.],\n",
              "       [200., 200., 200., 200., 200.],\n",
              "       [200., 200., 200., 200., 200.]])"
            ]
          },
          "metadata": {},
          "execution_count": 104
        }
      ]
    },
    {
      "cell_type": "markdown",
      "source": [
        "### Matrix Operations"
      ],
      "metadata": {
        "id": "E4FGdr8wc53c"
      }
    },
    {
      "cell_type": "markdown",
      "source": [
        "#### การ + - เมทริกซ์ $M \\pm N $ เป็นการบวกลบในตำแหน่งเดียวกัน"
      ],
      "metadata": {
        "id": "06DyrkmRd7Qd"
      }
    },
    {
      "cell_type": "code",
      "source": [
        "arr245200 + arr2350 # ขนาดต้องเท่ากันถึงจะบวกกันได้"
      ],
      "metadata": {
        "id": "CZevNPJMdFA7",
        "outputId": "f68bbc28-f804-4894-9adc-47fdb7195886",
        "colab": {
          "base_uri": "https://localhost:8080/",
          "height": 171
        }
      },
      "execution_count": 105,
      "outputs": [
        {
          "output_type": "error",
          "ename": "ValueError",
          "evalue": "ignored",
          "traceback": [
            "\u001b[0;31m---------------------------------------------------------------------------\u001b[0m",
            "\u001b[0;31mValueError\u001b[0m                                Traceback (most recent call last)",
            "\u001b[0;32m<ipython-input-105-d8a5641c44ee>\u001b[0m in \u001b[0;36m<module>\u001b[0;34m()\u001b[0m\n\u001b[0;32m----> 1\u001b[0;31m \u001b[0marr245200\u001b[0m \u001b[0;34m+\u001b[0m \u001b[0marr2350\u001b[0m \u001b[0;31m# ขนาดต้องเท่ากันถึงจะบวกกันได้\u001b[0m\u001b[0;34m\u001b[0m\u001b[0;34m\u001b[0m\u001b[0m\n\u001b[0m",
            "\u001b[0;31mValueError\u001b[0m: operands could not be broadcast together with shapes (4,5) (3,5) "
          ]
        }
      ]
    },
    {
      "cell_type": "code",
      "source": [
        "arr245200 + arr2451"
      ],
      "metadata": {
        "id": "L8IFOR2YdRpf",
        "outputId": "87c3d397-62cf-4ffa-dc69-8e01ad7d5a2a",
        "colab": {
          "base_uri": "https://localhost:8080/"
        }
      },
      "execution_count": 106,
      "outputs": [
        {
          "output_type": "execute_result",
          "data": {
            "text/plain": [
              "array([[201., 201., 201., 201., 201.],\n",
              "       [201., 201., 201., 201., 201.],\n",
              "       [201., 201., 201., 201., 201.],\n",
              "       [201., 201., 201., 201., 201.]])"
            ]
          },
          "metadata": {},
          "execution_count": 106
        }
      ]
    },
    {
      "cell_type": "markdown",
      "source": [
        "#### การคูณ matrix\n",
        "\n",
        "- $aM$ คูณตัวเลขเข้าไปในทุกตำแหน่งของเมทริกซ์\n",
        "- $M \\times N$ (แถว*หลัก)"
      ],
      "metadata": {
        "id": "nIgYCo4CdjF2"
      }
    },
    {
      "cell_type": "markdown",
      "source": [
        "### $aM$"
      ],
      "metadata": {
        "id": "g0vUdSxceunO"
      }
    },
    {
      "cell_type": "code",
      "source": [
        "15 * arr"
      ],
      "metadata": {
        "id": "JUqq-NoaeuIZ",
        "outputId": "9472658a-0adc-4033-9d19-b37fe40166b0",
        "colab": {
          "base_uri": "https://localhost:8080/"
        }
      },
      "execution_count": 107,
      "outputs": [
        {
          "output_type": "execute_result",
          "data": {
            "text/plain": [
              "array([15, 30, 45, 60, 75])"
            ]
          },
          "metadata": {},
          "execution_count": 107
        }
      ]
    },
    {
      "cell_type": "markdown",
      "source": [
        "$M \\times N$ (dot product)\n",
        "\n",
        "- (m,n) $\\times$ (n,W) = (m,w)"
      ],
      "metadata": {
        "id": "kwOipQ9re9FI"
      }
    },
    {
      "cell_type": "code",
      "source": [
        "mata = np.array ([[2,3,5],[4,5,7]])\n",
        "matb = np.array ([[1,2,5],[2,4,-7]])\n",
        "matc = np.array ([[2,3],[4,6],[7,9]])"
      ],
      "metadata": {
        "id": "OKJgWQOudim1"
      },
      "execution_count": 108,
      "outputs": []
    },
    {
      "cell_type": "code",
      "source": [
        "mata"
      ],
      "metadata": {
        "id": "b-584h2egO0u",
        "outputId": "ded4ac37-672e-4153-bf4a-b2daa1918e70",
        "colab": {
          "base_uri": "https://localhost:8080/"
        }
      },
      "execution_count": 109,
      "outputs": [
        {
          "output_type": "execute_result",
          "data": {
            "text/plain": [
              "array([[2, 3, 5],\n",
              "       [4, 5, 7]])"
            ]
          },
          "metadata": {},
          "execution_count": 109
        }
      ]
    },
    {
      "cell_type": "code",
      "source": [
        "matb"
      ],
      "metadata": {
        "id": "wcSBntikgOwx",
        "outputId": "d104e455-d6a4-4a75-bf64-4416c663b92f",
        "colab": {
          "base_uri": "https://localhost:8080/"
        }
      },
      "execution_count": 110,
      "outputs": [
        {
          "output_type": "execute_result",
          "data": {
            "text/plain": [
              "array([[ 1,  2,  5],\n",
              "       [ 2,  4, -7]])"
            ]
          },
          "metadata": {},
          "execution_count": 110
        }
      ]
    },
    {
      "cell_type": "code",
      "source": [
        "matc"
      ],
      "metadata": {
        "id": "2vRdB_TrgOli",
        "outputId": "c57282ef-86a6-4503-d329-c91e617ae6f9",
        "colab": {
          "base_uri": "https://localhost:8080/"
        }
      },
      "execution_count": 111,
      "outputs": [
        {
          "output_type": "execute_result",
          "data": {
            "text/plain": [
              "array([[2, 3],\n",
              "       [4, 6],\n",
              "       [7, 9]])"
            ]
          },
          "metadata": {},
          "execution_count": 111
        }
      ]
    },
    {
      "cell_type": "markdown",
      "source": [
        "ac, bc"
      ],
      "metadata": {
        "id": "qOYa2ZqagWS8"
      }
    },
    {
      "cell_type": "code",
      "source": [
        "np.dot(mata,matc)"
      ],
      "metadata": {
        "id": "BaPJcCZrgneV",
        "outputId": "718efcab-4dc1-489c-fd77-3a82eb1cb56e",
        "colab": {
          "base_uri": "https://localhost:8080/"
        }
      },
      "execution_count": 112,
      "outputs": [
        {
          "output_type": "execute_result",
          "data": {
            "text/plain": [
              "array([[ 51,  69],\n",
              "       [ 77, 105]])"
            ]
          },
          "metadata": {},
          "execution_count": 112
        }
      ]
    },
    {
      "cell_type": "code",
      "source": [
        "mata * matb # ตำแหน่งของเมทริกซ์ * กันในแต่ละตำแหน่ง"
      ],
      "metadata": {
        "id": "q6UmM6MfhGzL",
        "outputId": "0696c4a5-741d-4ad6-fa75-2b42c2529428",
        "colab": {
          "base_uri": "https://localhost:8080/"
        }
      },
      "execution_count": 113,
      "outputs": [
        {
          "output_type": "execute_result",
          "data": {
            "text/plain": [
              "array([[  2,   6,  25],\n",
              "       [  8,  20, -49]])"
            ]
          },
          "metadata": {},
          "execution_count": 113
        }
      ]
    },
    {
      "cell_type": "markdown",
      "source": [
        "### Matrix Slicing"
      ],
      "metadata": {
        "id": "_vaUjcGPhxgx"
      }
    },
    {
      "cell_type": "code",
      "source": [
        "mat[:2,:2]"
      ],
      "metadata": {
        "id": "wwHNaB72hwfl",
        "outputId": "2f19cb08-0b12-4eac-a177-e8916a7e3f42",
        "colab": {
          "base_uri": "https://localhost:8080/",
          "height": 171
        }
      },
      "execution_count": 114,
      "outputs": [
        {
          "output_type": "error",
          "ename": "NameError",
          "evalue": "ignored",
          "traceback": [
            "\u001b[0;31m---------------------------------------------------------------------------\u001b[0m",
            "\u001b[0;31mNameError\u001b[0m                                 Traceback (most recent call last)",
            "\u001b[0;32m<ipython-input-114-4559ea434068>\u001b[0m in \u001b[0;36m<module>\u001b[0;34m()\u001b[0m\n\u001b[0;32m----> 1\u001b[0;31m \u001b[0mmat\u001b[0m\u001b[0;34m[\u001b[0m\u001b[0;34m:\u001b[0m\u001b[0;36m2\u001b[0m\u001b[0;34m,\u001b[0m\u001b[0;34m:\u001b[0m\u001b[0;36m2\u001b[0m\u001b[0;34m]\u001b[0m\u001b[0;34m\u001b[0m\u001b[0;34m\u001b[0m\u001b[0m\n\u001b[0m",
            "\u001b[0;31mNameError\u001b[0m: name 'mat' is not defined"
          ]
        }
      ]
    },
    {
      "cell_type": "markdown",
      "source": [
        "HW3\n",
        "\n",
        "1. สร้าง array ที่มีรูปต้น Chrismas\n",
        "2. slice เลข 1 ออกมากเป็น array HW3 ด้วยการ slice แค้ครั้งเดียว"
      ],
      "metadata": {
        "id": "QjKJK8DEijk2"
      }
    },
    {
      "cell_type": "code",
      "source": [
        "CM2 = np.ones((30,13))\n",
        "CM2"
      ],
      "metadata": {
        "id": "1vGcpN2cize1",
        "outputId": "ab78d7a9-9c99-4dc0-9ae1-5e03435f792e",
        "colab": {
          "base_uri": "https://localhost:8080/"
        }
      },
      "execution_count": 143,
      "outputs": [
        {
          "output_type": "execute_result",
          "data": {
            "text/plain": [
              "array([[1., 1., 1., 1., 1., 1., 1., 1., 1., 1., 1., 1., 1.],\n",
              "       [1., 1., 1., 1., 1., 1., 1., 1., 1., 1., 1., 1., 1.],\n",
              "       [1., 1., 1., 1., 1., 1., 1., 1., 1., 1., 1., 1., 1.],\n",
              "       [1., 1., 1., 1., 1., 1., 1., 1., 1., 1., 1., 1., 1.],\n",
              "       [1., 1., 1., 1., 1., 1., 1., 1., 1., 1., 1., 1., 1.],\n",
              "       [1., 1., 1., 1., 1., 1., 1., 1., 1., 1., 1., 1., 1.],\n",
              "       [1., 1., 1., 1., 1., 1., 1., 1., 1., 1., 1., 1., 1.],\n",
              "       [1., 1., 1., 1., 1., 1., 1., 1., 1., 1., 1., 1., 1.],\n",
              "       [1., 1., 1., 1., 1., 1., 1., 1., 1., 1., 1., 1., 1.],\n",
              "       [1., 1., 1., 1., 1., 1., 1., 1., 1., 1., 1., 1., 1.],\n",
              "       [1., 1., 1., 1., 1., 1., 1., 1., 1., 1., 1., 1., 1.],\n",
              "       [1., 1., 1., 1., 1., 1., 1., 1., 1., 1., 1., 1., 1.],\n",
              "       [1., 1., 1., 1., 1., 1., 1., 1., 1., 1., 1., 1., 1.],\n",
              "       [1., 1., 1., 1., 1., 1., 1., 1., 1., 1., 1., 1., 1.],\n",
              "       [1., 1., 1., 1., 1., 1., 1., 1., 1., 1., 1., 1., 1.],\n",
              "       [1., 1., 1., 1., 1., 1., 1., 1., 1., 1., 1., 1., 1.],\n",
              "       [1., 1., 1., 1., 1., 1., 1., 1., 1., 1., 1., 1., 1.],\n",
              "       [1., 1., 1., 1., 1., 1., 1., 1., 1., 1., 1., 1., 1.],\n",
              "       [1., 1., 1., 1., 1., 1., 1., 1., 1., 1., 1., 1., 1.],\n",
              "       [1., 1., 1., 1., 1., 1., 1., 1., 1., 1., 1., 1., 1.],\n",
              "       [1., 1., 1., 1., 1., 1., 1., 1., 1., 1., 1., 1., 1.],\n",
              "       [1., 1., 1., 1., 1., 1., 1., 1., 1., 1., 1., 1., 1.],\n",
              "       [1., 1., 1., 1., 1., 1., 1., 1., 1., 1., 1., 1., 1.],\n",
              "       [1., 1., 1., 1., 1., 1., 1., 1., 1., 1., 1., 1., 1.],\n",
              "       [1., 1., 1., 1., 1., 1., 1., 1., 1., 1., 1., 1., 1.],\n",
              "       [1., 1., 1., 1., 1., 1., 1., 1., 1., 1., 1., 1., 1.],\n",
              "       [1., 1., 1., 1., 1., 1., 1., 1., 1., 1., 1., 1., 1.],\n",
              "       [1., 1., 1., 1., 1., 1., 1., 1., 1., 1., 1., 1., 1.],\n",
              "       [1., 1., 1., 1., 1., 1., 1., 1., 1., 1., 1., 1., 1.],\n",
              "       [1., 1., 1., 1., 1., 1., 1., 1., 1., 1., 1., 1., 1.]])"
            ]
          },
          "metadata": {},
          "execution_count": 143
        }
      ]
    },
    {
      "cell_type": "code",
      "source": [
        "CM2[26:,1:7]=55\n",
        "CM2[23:,7:12]=77\n",
        "CM2[23:26,5:7]=99\n",
        "CM2[21:23,5:8]=99\n",
        "CM2[20,0:]=99\n",
        "CM2[19,1:12]=99\n",
        "CM2[18,2:11]=99\n",
        "CM2[17,3:10]=99\n",
        "CM2[16,4:9]=99\n",
        "CM2[15,1:12]=99\n",
        "CM2[14,2:11]=99\n",
        "CM2[13,3:10]=99\n",
        "CM2[12,4:9]=99\n",
        "CM2[11,5:8]=99\n",
        "CM2[10,2:11]=99\n",
        "CM2[9,3:10]=99\n",
        "CM2[8,4:9]=99\n",
        "CM2[7,5:8]=99\n",
        "CM2[4:7,6]=99\n",
        "CM2[5,4]=33\n",
        "CM2[4,5]=33\n",
        "CM2[3,6]=33\n",
        "CM2[2,7]=33\n",
        "CM2[1,8]=33\n",
        "CM2[1,4]=33\n",
        "CM2[2,5]=33\n",
        "CM2[4,7]=33\n",
        "CM2[5,8]=33\n",
        "CM2"
      ],
      "metadata": {
        "id": "jj_8dofbN6S_",
        "outputId": "aa10ab26-1653-4c99-9420-064c76d7ff9a",
        "colab": {
          "base_uri": "https://localhost:8080/"
        }
      },
      "execution_count": 153,
      "outputs": [
        {
          "output_type": "execute_result",
          "data": {
            "text/plain": [
              "array([[ 1.,  1.,  1.,  1.,  1.,  1.,  1.,  1.,  1.,  1.,  1.,  1.,  1.],\n",
              "       [ 1.,  1.,  1.,  1., 33.,  1.,  1.,  1., 33.,  1.,  1.,  1.,  1.],\n",
              "       [ 1.,  1.,  1.,  1.,  1., 33.,  1., 33.,  1.,  1.,  1.,  1.,  1.],\n",
              "       [ 1.,  1.,  1.,  1.,  1.,  1., 33.,  1.,  1.,  1.,  1.,  1.,  1.],\n",
              "       [ 1.,  1.,  1.,  1.,  1., 33., 99., 33.,  1.,  1.,  1.,  1.,  1.],\n",
              "       [ 1.,  1.,  1.,  1., 33.,  1., 99.,  1., 33.,  1.,  1.,  1.,  1.],\n",
              "       [ 1.,  1.,  1.,  1.,  1.,  1., 99.,  1.,  1.,  1.,  1.,  1.,  1.],\n",
              "       [ 1.,  1.,  1.,  1.,  1., 99., 99., 99.,  1.,  1.,  1.,  1.,  1.],\n",
              "       [ 1.,  1.,  1.,  1., 99., 99., 99., 99., 99.,  1.,  1.,  1.,  1.],\n",
              "       [ 1.,  1.,  1., 99., 99., 99., 99., 99., 99., 99.,  1.,  1.,  1.],\n",
              "       [ 1.,  1., 99., 99., 99., 99., 99., 99., 99., 99., 99.,  1.,  1.],\n",
              "       [ 1.,  1.,  1.,  1.,  1., 99., 99., 99.,  1.,  1.,  1.,  1.,  1.],\n",
              "       [ 1.,  1.,  1.,  1., 99., 99., 99., 99., 99.,  1.,  1.,  1.,  1.],\n",
              "       [ 1.,  1.,  1., 99., 99., 99., 99., 99., 99., 99.,  1.,  1.,  1.],\n",
              "       [ 1.,  1., 99., 99., 99., 99., 99., 99., 99., 99., 99.,  1.,  1.],\n",
              "       [ 1., 99., 99., 99., 99., 99., 99., 99., 99., 99., 99., 99.,  1.],\n",
              "       [ 1.,  1.,  1.,  1., 99., 99., 99., 99., 99.,  1.,  1.,  1.,  1.],\n",
              "       [ 1.,  1.,  1., 99., 99., 99., 99., 99., 99., 99.,  1.,  1.,  1.],\n",
              "       [ 1.,  1., 99., 99., 99., 99., 99., 99., 99., 99., 99.,  1.,  1.],\n",
              "       [ 1., 99., 99., 99., 99., 99., 99., 99., 99., 99., 99., 99.,  1.],\n",
              "       [99., 99., 99., 99., 99., 99., 99., 99., 99., 99., 99., 99., 99.],\n",
              "       [ 1.,  1.,  1.,  1.,  1., 99., 99., 99.,  1.,  1.,  1.,  1.,  1.],\n",
              "       [ 1.,  1.,  1.,  1.,  1., 99., 99., 99.,  1.,  1.,  1.,  1.,  1.],\n",
              "       [ 1.,  1.,  1.,  1.,  1., 99., 99., 77., 77., 77., 77., 77.,  1.],\n",
              "       [ 1.,  1.,  1.,  1.,  1., 99., 99., 77., 77., 77., 77., 77.,  1.],\n",
              "       [ 1.,  1.,  1.,  1.,  1., 99., 99., 77., 77., 77., 77., 77.,  1.],\n",
              "       [ 1., 55., 55., 55., 55., 55., 55., 77., 77., 77., 77., 77.,  1.],\n",
              "       [ 1., 55., 55., 55., 55., 55., 55., 77., 77., 77., 77., 77.,  1.],\n",
              "       [ 1., 55., 55., 55., 55., 55., 55., 77., 77., 77., 77., 77.,  1.],\n",
              "       [ 1., 55., 55., 55., 55., 55., 55., 77., 77., 77., 77., 77.,  1.]])"
            ]
          },
          "metadata": {},
          "execution_count": 153
        }
      ]
    },
    {
      "cell_type": "code",
      "source": [
        "HW3 = np.zeros((10,10))\n",
        "HW3"
      ],
      "metadata": {
        "id": "4avtzH6AXeDK",
        "outputId": "6058aeaf-62d9-4050-f73d-668d6a964cde",
        "colab": {
          "base_uri": "https://localhost:8080/"
        }
      },
      "execution_count": 154,
      "outputs": [
        {
          "output_type": "execute_result",
          "data": {
            "text/plain": [
              "array([[0., 0., 0., 0., 0., 0., 0., 0., 0., 0.],\n",
              "       [0., 0., 0., 0., 0., 0., 0., 0., 0., 0.],\n",
              "       [0., 0., 0., 0., 0., 0., 0., 0., 0., 0.],\n",
              "       [0., 0., 0., 0., 0., 0., 0., 0., 0., 0.],\n",
              "       [0., 0., 0., 0., 0., 0., 0., 0., 0., 0.],\n",
              "       [0., 0., 0., 0., 0., 0., 0., 0., 0., 0.],\n",
              "       [0., 0., 0., 0., 0., 0., 0., 0., 0., 0.],\n",
              "       [0., 0., 0., 0., 0., 0., 0., 0., 0., 0.],\n",
              "       [0., 0., 0., 0., 0., 0., 0., 0., 0., 0.],\n",
              "       [0., 0., 0., 0., 0., 0., 0., 0., 0., 0.]])"
            ]
          },
          "metadata": {},
          "execution_count": 154
        }
      ]
    },
    {
      "cell_type": "code",
      "source": [
        "HW3[::4,2] = 1\n",
        "HW3[::4,4] = 1\n",
        "HW3[::4,6] = 1\n",
        "HW3[::4,8] = 1\n",
        "HW3"
      ],
      "metadata": {
        "id": "kjKSbrMaaex2",
        "outputId": "32fe5516-787a-4835-ea8c-6ea83824de43",
        "colab": {
          "base_uri": "https://localhost:8080/"
        }
      },
      "execution_count": 155,
      "outputs": [
        {
          "output_type": "execute_result",
          "data": {
            "text/plain": [
              "array([[0., 0., 1., 0., 1., 0., 1., 0., 1., 0.],\n",
              "       [0., 0., 0., 0., 0., 0., 0., 0., 0., 0.],\n",
              "       [0., 0., 0., 0., 0., 0., 0., 0., 0., 0.],\n",
              "       [0., 0., 0., 0., 0., 0., 0., 0., 0., 0.],\n",
              "       [0., 0., 1., 0., 1., 0., 1., 0., 1., 0.],\n",
              "       [0., 0., 0., 0., 0., 0., 0., 0., 0., 0.],\n",
              "       [0., 0., 0., 0., 0., 0., 0., 0., 0., 0.],\n",
              "       [0., 0., 0., 0., 0., 0., 0., 0., 0., 0.],\n",
              "       [0., 0., 1., 0., 1., 0., 1., 0., 1., 0.],\n",
              "       [0., 0., 0., 0., 0., 0., 0., 0., 0., 0.]])"
            ]
          },
          "metadata": {},
          "execution_count": 155
        }
      ]
    },
    {
      "cell_type": "code",
      "source": [
        "# slice\n",
        "HW3[::4,2::2]"
      ],
      "metadata": {
        "id": "ya9dFz_4ag-o",
        "outputId": "ee8e64c4-c795-486b-c779-3607987e9a16",
        "colab": {
          "base_uri": "https://localhost:8080/"
        }
      },
      "execution_count": 156,
      "outputs": [
        {
          "output_type": "execute_result",
          "data": {
            "text/plain": [
              "array([[1., 1., 1., 1.],\n",
              "       [1., 1., 1., 1.],\n",
              "       [1., 1., 1., 1.]])"
            ]
          },
          "metadata": {},
          "execution_count": 156
        }
      ]
    },
    {
      "cell_type": "code",
      "source": [
        ""
      ],
      "metadata": {
        "id": "_VLLtzLkahIH"
      },
      "execution_count": null,
      "outputs": []
    }
  ]
}