{
  "nbformat": 4,
  "nbformat_minor": 0,
  "metadata": {
    "colab": {
      "name": "Data Stucture.ipynb",
      "provenance": [],
      "toc_visible": true,
      "authorship_tag": "ABX9TyPfAVdh3qeOWx8gGrllyAZJ",
      "include_colab_link": true
    },
    "kernelspec": {
      "name": "python3",
      "display_name": "Python 3"
    },
    "language_info": {
      "name": "python"
    }
  },
  "cells": [
    {
      "cell_type": "markdown",
      "metadata": {
        "id": "view-in-github",
        "colab_type": "text"
      },
      "source": [
        "<a href=\"https://colab.research.google.com/github/weeraphon-hub/data_viz_2022/blob/main/Data_Stucture.ipynb\" target=\"_parent\"><img src=\"https://colab.research.google.com/assets/colab-badge.svg\" alt=\"Open In Colab\"/></a>"
      ]
    },
    {
      "cell_type": "markdown",
      "source": [
        "# Data Stucture (โครงสร้างข้อมูล)\n",
        "การเก็บข้อมูลหลายตัวไว้อย่างเป็นระบบระเบียบ"
      ],
      "metadata": {
        "id": "NUjXz5Qo5Xz7"
      }
    },
    {
      "cell_type": "markdown",
      "source": [
        "## ```list()```\n",
        "- เก็บอะไรไว้ฃก็ได้\n",
        "- ลำดับในการเก็บมีความสำคัญ"
      ],
      "metadata": {
        "id": "_ZcADIRa6Wzk"
      }
    },
    {
      "cell_type": "code",
      "execution_count": 1,
      "metadata": {
        "id": "w_cuXKjy4vk_"
      },
      "outputs": [],
      "source": [
        "list_a = [1,2,3,4,5,6] # [ ] square blackets"
      ]
    },
    {
      "cell_type": "code",
      "source": [
        "list_a"
      ],
      "metadata": {
        "colab": {
          "base_uri": "https://localhost:8080/"
        },
        "id": "le_1b63p68cb",
        "outputId": "cb35cbc6-f229-4b65-b131-8a4d47a2b9f7"
      },
      "execution_count": 2,
      "outputs": [
        {
          "output_type": "execute_result",
          "data": {
            "text/plain": [
              "[1, 2, 3, 4, 5, 6]"
            ]
          },
          "metadata": {},
          "execution_count": 2
        }
      ]
    },
    {
      "cell_type": "code",
      "source": [
        "list_b = ['ab',2,3.14,list_a] # สามารถเก็บข้อมูลหลายๆแบบไว้ก็ได้"
      ],
      "metadata": {
        "id": "pZYR-qfm6_Up"
      },
      "execution_count": 3,
      "outputs": []
    },
    {
      "cell_type": "code",
      "source": [
        "list_b"
      ],
      "metadata": {
        "colab": {
          "base_uri": "https://localhost:8080/"
        },
        "id": "YEDuF2D97Kc6",
        "outputId": "78267d47-e2a6-41b9-ba08-784879ceaa44"
      },
      "execution_count": 4,
      "outputs": [
        {
          "output_type": "execute_result",
          "data": {
            "text/plain": [
              "['ab', 2, 3.14, [1, 2, 3, 4, 5, 6]]"
            ]
          },
          "metadata": {},
          "execution_count": 4
        }
      ]
    },
    {
      "cell_type": "markdown",
      "source": [
        "### indexing การชี้สมาชิกใน list ด้วยเลขลำดับของ list"
      ],
      "metadata": {
        "id": "iG45R_9D8Muz"
      }
    },
    {
      "cell_type": "code",
      "source": [
        "list_a[3]"
      ],
      "metadata": {
        "colab": {
          "base_uri": "https://localhost:8080/"
        },
        "id": "4V75zP497Mi6",
        "outputId": "f4ca5130-8269-43e4-d1ae-50c4337ee193"
      },
      "execution_count": 5,
      "outputs": [
        {
          "output_type": "execute_result",
          "data": {
            "text/plain": [
              "4"
            ]
          },
          "metadata": {},
          "execution_count": 5
        }
      ]
    },
    {
      "cell_type": "code",
      "source": [
        "list_b[3]"
      ],
      "metadata": {
        "colab": {
          "base_uri": "https://localhost:8080/"
        },
        "id": "XZYe9Mse7q8D",
        "outputId": "a37541ec-e51e-4aed-da82-0b68873435e3"
      },
      "execution_count": 6,
      "outputs": [
        {
          "output_type": "execute_result",
          "data": {
            "text/plain": [
              "[1, 2, 3, 4, 5, 6]"
            ]
          },
          "metadata": {},
          "execution_count": 6
        }
      ]
    },
    {
      "cell_type": "code",
      "source": [
        "list_b[3][4]"
      ],
      "metadata": {
        "colab": {
          "base_uri": "https://localhost:8080/"
        },
        "id": "UQAIhiaB7xXJ",
        "outputId": "36a66b09-9bb0-4c3a-e3ff-84fa5a790c37"
      },
      "execution_count": 7,
      "outputs": [
        {
          "output_type": "execute_result",
          "data": {
            "text/plain": [
              "5"
            ]
          },
          "metadata": {},
          "execution_count": 7
        }
      ]
    },
    {
      "cell_type": "code",
      "source": [
        "list_a[6] # ถ้าใส่ตัวแลขใน blackets มากกว่าตัวแปรที่เก็บใน list จะไม่สามารถ รันได้"
      ],
      "metadata": {
        "colab": {
          "base_uri": "https://localhost:8080/",
          "height": 165
        },
        "id": "Wg0Xj27V8BC5",
        "outputId": "276d831d-7334-4e37-f6de-f72b4d21b78b"
      },
      "execution_count": 10,
      "outputs": [
        {
          "output_type": "error",
          "ename": "IndexError",
          "evalue": "ignored",
          "traceback": [
            "\u001b[0;31m---------------------------------------------------------------------------\u001b[0m",
            "\u001b[0;31mIndexError\u001b[0m                                Traceback (most recent call last)",
            "\u001b[0;32m<ipython-input-10-15cfc06e5613>\u001b[0m in \u001b[0;36m<module>\u001b[0;34m()\u001b[0m\n\u001b[0;32m----> 1\u001b[0;31m \u001b[0mlist_a\u001b[0m\u001b[0;34m[\u001b[0m\u001b[0;36m6\u001b[0m\u001b[0;34m]\u001b[0m \u001b[0;31m# ถ้าใส่ตัวแลขใน blackets มากกว่าตัวแปรที่เก็บใน list จะไม่สามารถ รันได้\u001b[0m\u001b[0;34m\u001b[0m\u001b[0;34m\u001b[0m\u001b[0m\n\u001b[0m",
            "\u001b[0;31mIndexError\u001b[0m: list index out of range"
          ]
        }
      ]
    },
    {
      "cell_type": "code",
      "source": [
        "list_a[-1] # indexing -1 คือดึงตัวสุดท้ายของ list"
      ],
      "metadata": {
        "colab": {
          "base_uri": "https://localhost:8080/"
        },
        "id": "6TkX8e9k8l1R",
        "outputId": "be351f92-9629-4ed6-d374-25161f0dcb09"
      },
      "execution_count": 11,
      "outputs": [
        {
          "output_type": "execute_result",
          "data": {
            "text/plain": [
              "6"
            ]
          },
          "metadata": {},
          "execution_count": 11
        }
      ]
    },
    {
      "cell_type": "markdown",
      "source": [
        "### การสร้าง ```list```"
      ],
      "metadata": {
        "id": "qRaeFQMr9jUF"
      }
    },
    {
      "cell_type": "code",
      "source": [
        "list_x1 = [] # แบบที่ 1\n",
        "list_x2 = list() # แบบที่ 2"
      ],
      "metadata": {
        "id": "Eo6yOk6f9Czf"
      },
      "execution_count": 12,
      "outputs": []
    },
    {
      "cell_type": "code",
      "source": [
        "print(list_x1)\n",
        "print(list_x2)"
      ],
      "metadata": {
        "colab": {
          "base_uri": "https://localhost:8080/"
        },
        "id": "kBpz_6bZ92kJ",
        "outputId": "9a2d9134-12cc-4761-9f38-1b2af76b50e5"
      },
      "execution_count": 13,
      "outputs": [
        {
          "output_type": "stream",
          "name": "stdout",
          "text": [
            "[]\n",
            "[]\n"
          ]
        }
      ]
    },
    {
      "cell_type": "markdown",
      "source": [
        "### เพิ่มสมาชิกเข้าไปใน list ด้วย ```append()```"
      ],
      "metadata": {
        "id": "gwWBbR5j-vsZ"
      }
    },
    {
      "cell_type": "code",
      "source": [
        "list_x1.append(2)"
      ],
      "metadata": {
        "id": "pXqNCvpE-pvx"
      },
      "execution_count": 14,
      "outputs": []
    },
    {
      "cell_type": "code",
      "source": [
        "list_x1"
      ],
      "metadata": {
        "colab": {
          "base_uri": "https://localhost:8080/"
        },
        "id": "Sqr2lg1b_CFo",
        "outputId": "1ef9134d-c5b5-461e-a74d-bfc477510fca"
      },
      "execution_count": 15,
      "outputs": [
        {
          "output_type": "execute_result",
          "data": {
            "text/plain": [
              "[2]"
            ]
          },
          "metadata": {},
          "execution_count": 15
        }
      ]
    },
    {
      "cell_type": "code",
      "source": [
        "list_x1.append(4)\n",
        "print(list_x1)"
      ],
      "metadata": {
        "colab": {
          "base_uri": "https://localhost:8080/"
        },
        "id": "-aGAEyk5_ESZ",
        "outputId": "46b60ad6-c644-4372-b253-159eacb5deff"
      },
      "execution_count": 16,
      "outputs": [
        {
          "output_type": "stream",
          "name": "stdout",
          "text": [
            "[2, 4]\n"
          ]
        }
      ]
    },
    {
      "cell_type": "code",
      "source": [
        "list_x1[0]"
      ],
      "metadata": {
        "colab": {
          "base_uri": "https://localhost:8080/"
        },
        "id": "U3KJtD3W_Y9Y",
        "outputId": "13054371-3cc2-4005-fa20-046fc6ddb226"
      },
      "execution_count": 17,
      "outputs": [
        {
          "output_type": "execute_result",
          "data": {
            "text/plain": [
              "2"
            ]
          },
          "metadata": {},
          "execution_count": 17
        }
      ]
    },
    {
      "cell_type": "code",
      "source": [
        "list_x1[-1]"
      ],
      "metadata": {
        "colab": {
          "base_uri": "https://localhost:8080/"
        },
        "id": "xfI15ssl_b7z",
        "outputId": "adcbd153-0b7b-498d-9547-ce2faaa9c770"
      },
      "execution_count": 18,
      "outputs": [
        {
          "output_type": "execute_result",
          "data": {
            "text/plain": [
              "4"
            ]
          },
          "metadata": {},
          "execution_count": 18
        }
      ]
    },
    {
      "cell_type": "code",
      "source": [
        "list_x2"
      ],
      "metadata": {
        "colab": {
          "base_uri": "https://localhost:8080/"
        },
        "id": "GOHNqckX_jt_",
        "outputId": "cdd05fe7-b987-49dc-82b0-25b7c1e4d120"
      },
      "execution_count": 19,
      "outputs": [
        {
          "output_type": "execute_result",
          "data": {
            "text/plain": [
              "[]"
            ]
          },
          "metadata": {},
          "execution_count": 19
        }
      ]
    },
    {
      "cell_type": "code",
      "source": [
        "list_x2.append('ha')"
      ],
      "metadata": {
        "id": "EX0k1pC__mdC"
      },
      "execution_count": 20,
      "outputs": []
    },
    {
      "cell_type": "code",
      "source": [
        "list_x2"
      ],
      "metadata": {
        "colab": {
          "base_uri": "https://localhost:8080/"
        },
        "id": "Xl6rKct4_uEx",
        "outputId": "aa4eb97a-8920-4f68-f710-f37828898465"
      },
      "execution_count": 21,
      "outputs": [
        {
          "output_type": "execute_result",
          "data": {
            "text/plain": [
              "['ha']"
            ]
          },
          "metadata": {},
          "execution_count": 21
        }
      ]
    },
    {
      "cell_type": "code",
      "source": [
        "list_x1.append('ha')"
      ],
      "metadata": {
        "id": "HJIRnmax_vfg"
      },
      "execution_count": 22,
      "outputs": []
    },
    {
      "cell_type": "code",
      "source": [
        "list_x1"
      ],
      "metadata": {
        "colab": {
          "base_uri": "https://localhost:8080/"
        },
        "id": "h01fv0V7AFVw",
        "outputId": "57c84187-efae-455a-b380-76deadbba824"
      },
      "execution_count": 23,
      "outputs": [
        {
          "output_type": "execute_result",
          "data": {
            "text/plain": [
              "[2, 4, 'ha']"
            ]
          },
          "metadata": {},
          "execution_count": 23
        }
      ]
    },
    {
      "cell_type": "code",
      "source": [
        "list_x1.pop() # เป็นการลบตัวท้ายสุดใน list ออก"
      ],
      "metadata": {
        "colab": {
          "base_uri": "https://localhost:8080/",
          "height": 35
        },
        "id": "W50TUOwAAHsY",
        "outputId": "d0504103-f678-4211-b256-bc5d99d53707"
      },
      "execution_count": 24,
      "outputs": [
        {
          "output_type": "execute_result",
          "data": {
            "application/vnd.google.colaboratory.intrinsic+json": {
              "type": "string"
            },
            "text/plain": [
              "'ha'"
            ]
          },
          "metadata": {},
          "execution_count": 24
        }
      ]
    },
    {
      "cell_type": "code",
      "source": [
        "list_x1"
      ],
      "metadata": {
        "colab": {
          "base_uri": "https://localhost:8080/"
        },
        "id": "hiLgs7-dAM-p",
        "outputId": "17dec833-563d-4da4-8e22-005125631cde"
      },
      "execution_count": 25,
      "outputs": [
        {
          "output_type": "execute_result",
          "data": {
            "text/plain": [
              "[2, 4]"
            ]
          },
          "metadata": {},
          "execution_count": 25
        }
      ]
    },
    {
      "cell_type": "code",
      "source": [
        "list_x1.pop()\n",
        "print(list_x1)"
      ],
      "metadata": {
        "colab": {
          "base_uri": "https://localhost:8080/"
        },
        "id": "_yoqkPJTAbiS",
        "outputId": "a425a192-aad4-4d1f-cd47-e2271fafc929"
      },
      "execution_count": 26,
      "outputs": [
        {
          "output_type": "stream",
          "name": "stdout",
          "text": [
            "[2]\n"
          ]
        }
      ]
    },
    {
      "cell_type": "markdown",
      "source": [
        "### ```len()``` ตรวจสอบจำนวนสมาชิกของ list"
      ],
      "metadata": {
        "id": "smFAJzdWCBhE"
      }
    },
    {
      "cell_type": "code",
      "source": [
        "print(list_b)"
      ],
      "metadata": {
        "colab": {
          "base_uri": "https://localhost:8080/"
        },
        "id": "tAK_lWZhAmsS",
        "outputId": "d958d6b3-90d3-418e-c523-b1f06838f37c"
      },
      "execution_count": 27,
      "outputs": [
        {
          "output_type": "stream",
          "name": "stdout",
          "text": [
            "['ab', 2, 3.14, [1, 2, 3, 4, 5, 6]]\n"
          ]
        }
      ]
    },
    {
      "cell_type": "code",
      "source": [
        "print(len(list_b))"
      ],
      "metadata": {
        "colab": {
          "base_uri": "https://localhost:8080/"
        },
        "id": "GHdTk833CP45",
        "outputId": "13dd1ec4-3d2c-417b-e73d-66ce3352f6e1"
      },
      "execution_count": 28,
      "outputs": [
        {
          "output_type": "stream",
          "name": "stdout",
          "text": [
            "4\n"
          ]
        }
      ]
    },
    {
      "cell_type": "code",
      "source": [
        "len(list_a)"
      ],
      "metadata": {
        "colab": {
          "base_uri": "https://localhost:8080/"
        },
        "id": "Rn8H3NN4CWUq",
        "outputId": "a040f40f-c5f2-4326-af91-9410f4f79124"
      },
      "execution_count": 29,
      "outputs": [
        {
          "output_type": "execute_result",
          "data": {
            "text/plain": [
              "6"
            ]
          },
          "metadata": {},
          "execution_count": 29
        }
      ]
    },
    {
      "cell_type": "markdown",
      "source": [
        "### Siring is a list characters"
      ],
      "metadata": {
        "id": "gnPfv5X9CfLx"
      }
    },
    {
      "cell_type": "code",
      "source": [
        "st_stat = 'Department of Statistics, Faculty of Science'"
      ],
      "metadata": {
        "id": "uKLyYvvBCeBK"
      },
      "execution_count": 30,
      "outputs": []
    },
    {
      "cell_type": "code",
      "source": [
        "st_stat[10] "
      ],
      "metadata": {
        "colab": {
          "base_uri": "https://localhost:8080/",
          "height": 35
        },
        "id": "306w5VEdDY0h",
        "outputId": "d95db28a-e3fc-444d-cb6c-c5a7a1bd6a1c"
      },
      "execution_count": 31,
      "outputs": [
        {
          "output_type": "execute_result",
          "data": {
            "application/vnd.google.colaboratory.intrinsic+json": {
              "type": "string"
            },
            "text/plain": [
              "' '"
            ]
          },
          "metadata": {},
          "execution_count": 31
        }
      ]
    },
    {
      "cell_type": "code",
      "source": [
        "len(st_stat)"
      ],
      "metadata": {
        "colab": {
          "base_uri": "https://localhost:8080/"
        },
        "id": "lPCWGJRjDeoZ",
        "outputId": "3cfb1dd9-4146-4ecb-abe6-39cb14d2f0ed"
      },
      "execution_count": 32,
      "outputs": [
        {
          "output_type": "execute_result",
          "data": {
            "text/plain": [
              "44"
            ]
          },
          "metadata": {},
          "execution_count": 32
        }
      ]
    },
    {
      "cell_type": "markdown",
      "source": [
        "### List Slicing `:`"
      ],
      "metadata": {
        "id": "37WR_1QTDol_"
      }
    },
    {
      "cell_type": "markdown",
      "source": [
        "   `list[จุดเริ่มต้น (ทึบ):จุดสุดท้าย (โปร่ง)]`\n",
        "\n",
        "   `list[จุดเริ่มต้น (ทึบ):จุดสุดท้าย:step (โปร่ง)]`"
      ],
      "metadata": {
        "id": "-Km7kJdtEUMh"
      }
    },
    {
      "cell_type": "code",
      "source": [
        "list_a"
      ],
      "metadata": {
        "colab": {
          "base_uri": "https://localhost:8080/"
        },
        "id": "9u5h98MoDnQp",
        "outputId": "425e7c11-34ae-416f-c9d7-26c194d18797"
      },
      "execution_count": 33,
      "outputs": [
        {
          "output_type": "execute_result",
          "data": {
            "text/plain": [
              "[1, 2, 3, 4, 5, 6]"
            ]
          },
          "metadata": {},
          "execution_count": 33
        }
      ]
    },
    {
      "cell_type": "code",
      "source": [
        "list_a[2]"
      ],
      "metadata": {
        "colab": {
          "base_uri": "https://localhost:8080/"
        },
        "id": "K9Q7NtcMDzGo",
        "outputId": "c0528aca-5df4-421c-dc9a-f8c7386f8746"
      },
      "execution_count": 34,
      "outputs": [
        {
          "output_type": "execute_result",
          "data": {
            "text/plain": [
              "3"
            ]
          },
          "metadata": {},
          "execution_count": 34
        }
      ]
    },
    {
      "cell_type": "markdown",
      "source": [
        "#### ```:``` colon"
      ],
      "metadata": {
        "id": "syB3k9T-G1PU"
      }
    },
    {
      "cell_type": "code",
      "source": [
        "list_a[-3:] # : colon # เอา 3 ตัวท้าย"
      ],
      "metadata": {
        "colab": {
          "base_uri": "https://localhost:8080/"
        },
        "id": "flOw8dnpD4d6",
        "outputId": "e9b6ae75-95b6-41ad-9fbc-a4acfdbd0269"
      },
      "execution_count": 35,
      "outputs": [
        {
          "output_type": "execute_result",
          "data": {
            "text/plain": [
              "[4, 5, 6]"
            ]
          },
          "metadata": {},
          "execution_count": 35
        }
      ]
    },
    {
      "cell_type": "code",
      "source": [
        "list_a[2:] # : colon # เอาตั้งแต่ตัวที่ 2 ถึงตัวสุดท้าย"
      ],
      "metadata": {
        "colab": {
          "base_uri": "https://localhost:8080/"
        },
        "id": "DyO4Ht8hFu5S",
        "outputId": "7a6df542-0dd9-48be-9e7c-20e77d24f716"
      },
      "execution_count": 36,
      "outputs": [
        {
          "output_type": "execute_result",
          "data": {
            "text/plain": [
              "[3, 4, 5, 6]"
            ]
          },
          "metadata": {},
          "execution_count": 36
        }
      ]
    },
    {
      "cell_type": "code",
      "source": [
        "list_a[:4] # : colon # เอาตั้งแต่ตัวแรก ถึง ตัวในตำแหน่งที่ 4"
      ],
      "metadata": {
        "colab": {
          "base_uri": "https://localhost:8080/"
        },
        "id": "mS7SDaa8GZVB",
        "outputId": "3b5c132f-d901-42b8-d327-a7d2958d3032"
      },
      "execution_count": 37,
      "outputs": [
        {
          "output_type": "execute_result",
          "data": {
            "text/plain": [
              "[1, 2, 3, 4]"
            ]
          },
          "metadata": {},
          "execution_count": 37
        }
      ]
    },
    {
      "cell_type": "code",
      "source": [
        "list_a[1:4] # เอาตั้งแต่ตำแหน่งที่ 1 ถึง ตำแหน่งที่ 3 ไม่เอาตำแหน่งที่ 4"
      ],
      "metadata": {
        "colab": {
          "base_uri": "https://localhost:8080/"
        },
        "id": "DpbD1sVzEO6w",
        "outputId": "b002874a-ed9d-4bd4-b080-7699ef076255"
      },
      "execution_count": 38,
      "outputs": [
        {
          "output_type": "execute_result",
          "data": {
            "text/plain": [
              "[2, 3, 4]"
            ]
          },
          "metadata": {},
          "execution_count": 38
        }
      ]
    },
    {
      "cell_type": "code",
      "source": [
        "list_a[:]"
      ],
      "metadata": {
        "colab": {
          "base_uri": "https://localhost:8080/"
        },
        "id": "I8dxqLN1Ft1J",
        "outputId": "5561d8c3-a21f-4a72-ed35-c991b4d55452"
      },
      "execution_count": 39,
      "outputs": [
        {
          "output_type": "execute_result",
          "data": {
            "text/plain": [
              "[1, 2, 3, 4, 5, 6]"
            ]
          },
          "metadata": {},
          "execution_count": 39
        }
      ]
    },
    {
      "cell_type": "markdown",
      "source": [
        "#### step"
      ],
      "metadata": {
        "id": "tm30fdZ3Gw0H"
      }
    },
    {
      "cell_type": "code",
      "source": [
        "list_c = [1,2,3,4,5,6,7,8,9,10,11,12,13]"
      ],
      "metadata": {
        "id": "2rvlW2PWGtMY"
      },
      "execution_count": 40,
      "outputs": []
    },
    {
      "cell_type": "code",
      "source": [
        "list_c[:10:]"
      ],
      "metadata": {
        "colab": {
          "base_uri": "https://localhost:8080/"
        },
        "id": "qRI4HRMKHBM5",
        "outputId": "1edb0eca-f120-4341-ae97-bfc89b322f3a"
      },
      "execution_count": 41,
      "outputs": [
        {
          "output_type": "execute_result",
          "data": {
            "text/plain": [
              "[1, 2, 3, 4, 5, 6, 7, 8, 9, 10]"
            ]
          },
          "metadata": {},
          "execution_count": 41
        }
      ]
    },
    {
      "cell_type": "code",
      "source": [
        "list_c[:10:2] # Step :2 คือจะเริ่มจากตำแหน่งแรกแล้วข้ามตัวถัดไป แล้วก็สลับไปเรื่อยๆ "
      ],
      "metadata": {
        "colab": {
          "base_uri": "https://localhost:8080/"
        },
        "id": "YMRF_EfNHKpK",
        "outputId": "74b7fac1-9597-4f57-c1dc-258c8990dd00"
      },
      "execution_count": 42,
      "outputs": [
        {
          "output_type": "execute_result",
          "data": {
            "text/plain": [
              "[1, 3, 5, 7, 9]"
            ]
          },
          "metadata": {},
          "execution_count": 42
        }
      ]
    },
    {
      "cell_type": "code",
      "source": [
        "list_c[:10:3] # Step :3 คือจะเริ่มจากตำแหน่งแรกแล้วข้าม 2 ตัวถัดไป แล้วก็สลับไปเรื่อยๆ"
      ],
      "metadata": {
        "id": "mEzVyn52bSQI",
        "outputId": "5f16d6d2-5644-4b70-8e61-93b6fedb22a2",
        "colab": {
          "base_uri": "https://localhost:8080/"
        }
      },
      "execution_count": 43,
      "outputs": [
        {
          "output_type": "execute_result",
          "data": {
            "text/plain": [
              "[1, 4, 7, 10]"
            ]
          },
          "metadata": {},
          "execution_count": 43
        }
      ]
    },
    {
      "cell_type": "code",
      "source": [
        "list_c[::-1]"
      ],
      "metadata": {
        "colab": {
          "base_uri": "https://localhost:8080/"
        },
        "id": "ocI_ZqCRHWzw",
        "outputId": "4a1320d2-44e1-40b3-b902-3e3221657aa4"
      },
      "execution_count": 44,
      "outputs": [
        {
          "output_type": "execute_result",
          "data": {
            "text/plain": [
              "[13, 12, 11, 10, 9, 8, 7, 6, 5, 4, 3, 2, 1]"
            ]
          },
          "metadata": {},
          "execution_count": 44
        }
      ]
    },
    {
      "cell_type": "markdown",
      "source": [
        "### ```range()```"
      ],
      "metadata": {
        "id": "8w7zwqXrIFMy"
      }
    },
    {
      "cell_type": "code",
      "source": [
        "range(21)"
      ],
      "metadata": {
        "colab": {
          "base_uri": "https://localhost:8080/"
        },
        "id": "YhvYXfMfHgrx",
        "outputId": "cbfebfb1-05de-4bbc-875c-1acd59db88bd"
      },
      "execution_count": 45,
      "outputs": [
        {
          "output_type": "execute_result",
          "data": {
            "text/plain": [
              "range(0, 21)"
            ]
          },
          "metadata": {},
          "execution_count": 45
        }
      ]
    },
    {
      "cell_type": "code",
      "source": [
        "a = list(range(21))"
      ],
      "metadata": {
        "id": "lSwhzNbhINIY"
      },
      "execution_count": 46,
      "outputs": []
    },
    {
      "cell_type": "code",
      "source": [
        "a"
      ],
      "metadata": {
        "colab": {
          "base_uri": "https://localhost:8080/"
        },
        "id": "WPYbmNAVIZjA",
        "outputId": "e279d84b-3d66-4496-fcb8-1e976aab6a3b"
      },
      "execution_count": 47,
      "outputs": [
        {
          "output_type": "execute_result",
          "data": {
            "text/plain": [
              "[0, 1, 2, 3, 4, 5, 6, 7, 8, 9, 10, 11, 12, 13, 14, 15, 16, 17, 18, 19, 20]"
            ]
          },
          "metadata": {},
          "execution_count": 47
        }
      ]
    },
    {
      "cell_type": "code",
      "source": [
        "list(range(1,21))"
      ],
      "metadata": {
        "colab": {
          "base_uri": "https://localhost:8080/"
        },
        "id": "wIs8PtccIZ3R",
        "outputId": "c3fa889c-47e1-4994-93f1-bdae48b12082"
      },
      "execution_count": 48,
      "outputs": [
        {
          "output_type": "execute_result",
          "data": {
            "text/plain": [
              "[1, 2, 3, 4, 5, 6, 7, 8, 9, 10, 11, 12, 13, 14, 15, 16, 17, 18, 19, 20]"
            ]
          },
          "metadata": {},
          "execution_count": 48
        }
      ]
    },
    {
      "cell_type": "markdown",
      "source": [
        "HW2 คำนวนเวลาเป็นวินาทีของเวลาต่อไปนี้ต่อไปนี้โดยใช้คำสั่ง split() ช่วย (print ออกมาใช้สวยงาม)\n",
        "\n",
        "- 12:30:15\n",
        "- 13:41:07\n",
        "- 09:11:50\n",
        "- 21:30:15\n",
        "- 03:10:15"
      ],
      "metadata": {
        "id": "ubPoE4zzJDoo"
      }
    },
    {
      "cell_type": "code",
      "source": [
        "#ex 01:02:03\n",
        "\n",
        "a = 1*60*60 + (2*60) + 3\n",
        "print(f'01:02:03 แปลงเป็นวินาที ได้ {a} วินาที')"
      ],
      "metadata": {
        "colab": {
          "base_uri": "https://localhost:8080/"
        },
        "id": "dWII7pXZIf_I",
        "outputId": "ba21dd4a-9b75-45f9-b10f-825d69760037"
      },
      "execution_count": 49,
      "outputs": [
        {
          "output_type": "stream",
          "name": "stdout",
          "text": [
            "01:02:03 แปลงเป็นวินาที ได้ 3723 วินาที\n"
          ]
        }
      ]
    },
    {
      "cell_type": "code",
      "source": [
        "# 12:30:15\n",
        "x = 12*60*60 + (30*60) + 15\n",
        "print(f'12:30:15 แปลงเป็นวินาที ได้ {x:,} วินาที')\n"
      ],
      "metadata": {
        "id": "ECWXNBxTJ3dP",
        "outputId": "bc49f001-3d0a-48aa-ec88-e3d8c30f4220",
        "colab": {
          "base_uri": "https://localhost:8080/"
        }
      },
      "execution_count": 57,
      "outputs": [
        {
          "output_type": "stream",
          "name": "stdout",
          "text": [
            "12:30:15 แปลงเป็นวินาที ได้ 45,015 วินาที\n"
          ]
        }
      ]
    },
    {
      "cell_type": "code",
      "source": [
        "# 13:41:07\n",
        "x = '13:41:07'\n",
        "xx = x.split(':')\n",
        "xxx = int(xx[0])*60*60 + int(xx[1])*60 + int(xx[2])\n",
        "print(f'เวลา 01:02:03 แปลงเป็นวินาทีได้ {xxx} วินาที')"
      ],
      "metadata": {
        "id": "qiasRr-8c4av",
        "outputId": "62f6a538-5a2c-4315-9770-10e8378cd657",
        "colab": {
          "base_uri": "https://localhost:8080/"
        }
      },
      "execution_count": 51,
      "outputs": [
        {
          "output_type": "stream",
          "name": "stdout",
          "text": [
            "เวลา 01:02:03 แปลงเป็นวินาทีได้ 49267 วินาที\n"
          ]
        }
      ]
    },
    {
      "cell_type": "code",
      "source": [
        "# 09:11:50\n",
        "x = '09:11:50'\n",
        "xx = x.split(':')\n",
        "xxx = int(xx[0])*60*60 + int(xx[1])*60 + int(xx[2])\n",
        "print(f'เวลา 01:02:03 แปลงเป็นวินาทีได้ {xxx} วินาที')"
      ],
      "metadata": {
        "id": "mht4EFvhc7Ft",
        "outputId": "ae3198d4-bf44-40b2-961a-ca6084b81972",
        "colab": {
          "base_uri": "https://localhost:8080/"
        }
      },
      "execution_count": 52,
      "outputs": [
        {
          "output_type": "stream",
          "name": "stdout",
          "text": [
            "เวลา 01:02:03 แปลงเป็นวินาทีได้ 33110 วินาที\n"
          ]
        }
      ]
    },
    {
      "cell_type": "code",
      "source": [
        "# 21:30:15\n",
        "x = '21:30:15'\n",
        "xx = x.split(':')\n",
        "xxx = int(xx[0])*60*60 + int(xx[1])*60 + int(xx[2])\n",
        "print(f'เวลา 01:02:03 แปลงเป็นวินาทีได้ {xxx} วินาที')"
      ],
      "metadata": {
        "id": "q8tZnlJ3c9X1",
        "outputId": "f68abe0f-777d-4aa3-d343-c3a7c973097e",
        "colab": {
          "base_uri": "https://localhost:8080/"
        }
      },
      "execution_count": 53,
      "outputs": [
        {
          "output_type": "stream",
          "name": "stdout",
          "text": [
            "เวลา 01:02:03 แปลงเป็นวินาทีได้ 77415 วินาที\n"
          ]
        }
      ]
    },
    {
      "cell_type": "code",
      "source": [
        "# 03:10:15\n",
        "x = '03:10:15'\n",
        "xx = x.split(':')\n",
        "xxx = int(xx[0])*60*60 + int(xx[1])*60 + int(xx[2])\n",
        "print(f'เวลา 01:02:03 แปลงเป็นวินาทีได้ {xxx} วินาที')"
      ],
      "metadata": {
        "id": "yphgGfxvc_13",
        "outputId": "4aa22dfc-5241-4a79-f792-a108369d1f04",
        "colab": {
          "base_uri": "https://localhost:8080/"
        }
      },
      "execution_count": 54,
      "outputs": [
        {
          "output_type": "stream",
          "name": "stdout",
          "text": [
            "เวลา 01:02:03 แปลงเป็นวินาทีได้ 11415 วินาที\n"
          ]
        }
      ]
    },
    {
      "cell_type": "markdown",
      "source": [
        "## Dictionary"
      ],
      "metadata": {
        "id": "fGt9wT4VOmHB"
      }
    },
    {
      "cell_type": "markdown",
      "source": [
        "- คล้าย list()\n",
        "- index เป็นอะไรก็ได้ ไม่จำเป็นต้องเป็นตัวเลขลำดับ\n",
        "- ลำดับไม่สำคัญ"
      ],
      "metadata": {
        "id": "w139tFwtPLGu"
      }
    },
    {
      "cell_type": "markdown",
      "source": [
        "### สร้าง Dictionary"
      ],
      "metadata": {
        "id": "HPiBY5ZGQ4ri"
      }
    },
    {
      "cell_type": "markdown",
      "source": [
        "### การชี้สมาชิกใน Dictionary"
      ],
      "metadata": {
        "id": "I2wmWorzQ-Rc"
      }
    },
    {
      "cell_type": "code",
      "source": [
        "dict_a = {1:'Happy','N':'New','2022':'Year'} # { } curly brackets"
      ],
      "metadata": {
        "id": "bLYEG7OVPg7e"
      },
      "execution_count": 59,
      "outputs": []
    },
    {
      "cell_type": "code",
      "source": [
        "dict_a[1]"
      ],
      "metadata": {
        "id": "tjC96PcUQCtV",
        "outputId": "e19b13e7-d4fc-40d3-e0f3-b0f0008b3a4a",
        "colab": {
          "base_uri": "https://localhost:8080/",
          "height": 35
        }
      },
      "execution_count": 60,
      "outputs": [
        {
          "output_type": "execute_result",
          "data": {
            "application/vnd.google.colaboratory.intrinsic+json": {
              "type": "string"
            },
            "text/plain": [
              "'Happy'"
            ]
          },
          "metadata": {},
          "execution_count": 60
        }
      ]
    },
    {
      "cell_type": "code",
      "source": [
        "dict_a['N']"
      ],
      "metadata": {
        "id": "cAlyEY_zQR_u",
        "outputId": "4d22e302-7838-47b0-caf1-d6ac8d37f0f0",
        "colab": {
          "base_uri": "https://localhost:8080/",
          "height": 35
        }
      },
      "execution_count": 62,
      "outputs": [
        {
          "output_type": "execute_result",
          "data": {
            "application/vnd.google.colaboratory.intrinsic+json": {
              "type": "string"
            },
            "text/plain": [
              "'New'"
            ]
          },
          "metadata": {},
          "execution_count": 62
        }
      ]
    },
    {
      "cell_type": "code",
      "source": [
        "dict_a.keys()"
      ],
      "metadata": {
        "id": "MaV-Qts4QZj_",
        "outputId": "dc2ad9a7-c8f3-4612-b4f3-62597f8cae26",
        "colab": {
          "base_uri": "https://localhost:8080/"
        }
      },
      "execution_count": 67,
      "outputs": [
        {
          "output_type": "execute_result",
          "data": {
            "text/plain": [
              "dict_keys([1, 'N', '2022'])"
            ]
          },
          "metadata": {},
          "execution_count": 67
        }
      ]
    },
    {
      "cell_type": "code",
      "source": [
        "dict_a.values()"
      ],
      "metadata": {
        "id": "8cwL_3TiQzpk",
        "outputId": "180cac36-a9fe-448f-ad7a-ffe52c41acbb",
        "colab": {
          "base_uri": "https://localhost:8080/"
        }
      },
      "execution_count": 66,
      "outputs": [
        {
          "output_type": "execute_result",
          "data": {
            "text/plain": [
              "dict_values(['Happy', 'New', 'Year'])"
            ]
          },
          "metadata": {},
          "execution_count": 66
        }
      ]
    },
    {
      "cell_type": "markdown",
      "source": [
        "### การเพื่มสมาชิกลงไปใน Dictionary"
      ],
      "metadata": {
        "id": "e8CbbtWoRFHs"
      }
    },
    {
      "cell_type": "code",
      "source": [
        "dict_a[7] = 3.14"
      ],
      "metadata": {
        "id": "VViTixZ-Q2kE"
      },
      "execution_count": 72,
      "outputs": []
    },
    {
      "cell_type": "code",
      "source": [
        "dict_a[5] = 'love' # ลองทำเล่นๆเพราะสงสัย ปัง ปัง ปัง"
      ],
      "metadata": {
        "id": "mrdVsVQaRtck"
      },
      "execution_count": 79,
      "outputs": []
    },
    {
      "cell_type": "code",
      "source": [
        "dict_a # ถ้ากำหนด key ซ้ำจะเป็นการอัพเดตข้อมูลเดิม"
      ],
      "metadata": {
        "id": "C2ZrnFKxRXBv",
        "outputId": "2ad69c64-afe3-46a5-a38e-17a6db9df0fe",
        "colab": {
          "base_uri": "https://localhost:8080/"
        }
      },
      "execution_count": 80,
      "outputs": [
        {
          "output_type": "execute_result",
          "data": {
            "text/plain": [
              "{1: 'Happy', '2022': 'Year', 5: 'love', 7: 3.14, 'N': 'New'}"
            ]
          },
          "metadata": {},
          "execution_count": 80
        }
      ]
    },
    {
      "cell_type": "markdown",
      "source": [
        "## Nampy Array"
      ],
      "metadata": {
        "id": "80vsL0JAOuCf"
      }
    },
    {
      "cell_type": "markdown",
      "source": [
        "- เก็บได้เฉพาะตัวเลข\n",
        "- อ้างอิงโดยใช้พิกัด (2มิติ ก็มองเป็นเมทริกซ์)"
      ],
      "metadata": {
        "id": "VYcLN5AMUw4T"
      }
    },
    {
      "cell_type": "markdown",
      "source": [
        "### 1D array"
      ],
      "metadata": {
        "id": "G06mp6nSYPHY"
      }
    },
    {
      "cell_type": "code",
      "source": [
        "import numpy"
      ],
      "metadata": {
        "id": "M60UOlqzUYEA"
      },
      "execution_count": 82,
      "outputs": []
    },
    {
      "cell_type": "code",
      "source": [
        "arr = numpy.array([1,2,3,4,5])"
      ],
      "metadata": {
        "id": "d--3gFeMVXc1"
      },
      "execution_count": 83,
      "outputs": []
    },
    {
      "cell_type": "code",
      "source": [
        "arr"
      ],
      "metadata": {
        "id": "ijdItlF5Vlay",
        "outputId": "ad49ac97-b506-484a-9653-4191983483ee",
        "colab": {
          "base_uri": "https://localhost:8080/"
        }
      },
      "execution_count": 84,
      "outputs": [
        {
          "output_type": "execute_result",
          "data": {
            "text/plain": [
              "array([1, 2, 3, 4, 5])"
            ]
          },
          "metadata": {},
          "execution_count": 84
        }
      ]
    },
    {
      "cell_type": "code",
      "source": [
        "arr[0] # ใช้ประโยชน์ได้มากกว่า list"
      ],
      "metadata": {
        "id": "0cPtFBahVnOx",
        "outputId": "24f3f556-2af0-47be-da85-a3c24a8a4e7f",
        "colab": {
          "base_uri": "https://localhost:8080/"
        }
      },
      "execution_count": 85,
      "outputs": [
        {
          "output_type": "execute_result",
          "data": {
            "text/plain": [
              "1"
            ]
          },
          "metadata": {},
          "execution_count": 85
        }
      ]
    },
    {
      "cell_type": "code",
      "source": [
        "5*arr # 5 คูณเข้า array จะหมายถึง คูณทุกตัวในนั้น เหมือนเมทริกซ์"
      ],
      "metadata": {
        "id": "5ts97WYSWT57",
        "outputId": "2968102a-228c-4296-d604-36cbbe38a293",
        "colab": {
          "base_uri": "https://localhost:8080/"
        }
      },
      "execution_count": 86,
      "outputs": [
        {
          "output_type": "execute_result",
          "data": {
            "text/plain": [
              "array([ 5, 10, 15, 20, 25])"
            ]
          },
          "metadata": {},
          "execution_count": 86
        }
      ]
    },
    {
      "cell_type": "code",
      "source": [
        "list_ex =[1,2,3,4,5]"
      ],
      "metadata": {
        "id": "JYEFtuE2Woec"
      },
      "execution_count": 87,
      "outputs": []
    },
    {
      "cell_type": "code",
      "source": [
        "5*list_ex # 5 * list หมายถึงเรียก list 5 รอบ"
      ],
      "metadata": {
        "id": "WXhRPWykWoVb",
        "outputId": "c868bd9c-6da8-4233-af5c-0acb63ef6912",
        "colab": {
          "base_uri": "https://localhost:8080/"
        }
      },
      "execution_count": 89,
      "outputs": [
        {
          "output_type": "execute_result",
          "data": {
            "text/plain": [
              "[1, 2, 3, 4, 5, 1, 2, 3, 4, 5, 1, 2, 3, 4, 5, 1, 2, 3, 4, 5, 1, 2, 3, 4, 5]"
            ]
          },
          "metadata": {},
          "execution_count": 89
        }
      ]
    },
    {
      "cell_type": "code",
      "source": [
        "arr2 = numpy.array([10,20,30,40,50])"
      ],
      "metadata": {
        "id": "LUmtIzNNWoIg"
      },
      "execution_count": 90,
      "outputs": []
    },
    {
      "cell_type": "code",
      "source": [
        "arr"
      ],
      "metadata": {
        "id": "4jtDdcP4XS6v",
        "outputId": "e1721276-6131-41f0-e1c4-711ad787861e",
        "colab": {
          "base_uri": "https://localhost:8080/"
        }
      },
      "execution_count": 91,
      "outputs": [
        {
          "output_type": "execute_result",
          "data": {
            "text/plain": [
              "array([1, 2, 3, 4, 5])"
            ]
          },
          "metadata": {},
          "execution_count": 91
        }
      ]
    },
    {
      "cell_type": "code",
      "source": [
        "arr + arr2"
      ],
      "metadata": {
        "id": "xc5RybGAXS3D",
        "outputId": "9c4704d2-5e6b-463a-c96f-8d49c4b205ea",
        "colab": {
          "base_uri": "https://localhost:8080/"
        }
      },
      "execution_count": 92,
      "outputs": [
        {
          "output_type": "execute_result",
          "data": {
            "text/plain": [
              "array([11, 22, 33, 44, 55])"
            ]
          },
          "metadata": {},
          "execution_count": 92
        }
      ]
    },
    {
      "cell_type": "code",
      "source": [
        "arr * arr2"
      ],
      "metadata": {
        "id": "aUtfmRYvX0iB",
        "outputId": "72ec7bb3-59e5-419e-dde2-535134fc5be8",
        "colab": {
          "base_uri": "https://localhost:8080/"
        }
      },
      "execution_count": 93,
      "outputs": [
        {
          "output_type": "execute_result",
          "data": {
            "text/plain": [
              "array([ 10,  40,  90, 160, 250])"
            ]
          },
          "metadata": {},
          "execution_count": 93
        }
      ]
    },
    {
      "cell_type": "code",
      "source": [
        "arr / arr2"
      ],
      "metadata": {
        "id": "QhDxiBYGX0Ly",
        "outputId": "ed03a57d-a4f0-4628-caf3-c5f68dce80fa",
        "colab": {
          "base_uri": "https://localhost:8080/"
        }
      },
      "execution_count": 94,
      "outputs": [
        {
          "output_type": "execute_result",
          "data": {
            "text/plain": [
              "array([0.1, 0.1, 0.1, 0.1, 0.1])"
            ]
          },
          "metadata": {},
          "execution_count": 94
        }
      ]
    },
    {
      "cell_type": "code",
      "source": [
        "arr - arr2"
      ],
      "metadata": {
        "id": "9T8nPq4BX-65",
        "outputId": "101d4e65-bb9c-4f4f-b894-5903b5b067fe",
        "colab": {
          "base_uri": "https://localhost:8080/"
        }
      },
      "execution_count": 95,
      "outputs": [
        {
          "output_type": "execute_result",
          "data": {
            "text/plain": [
              "array([ -9, -18, -27, -36, -45])"
            ]
          },
          "metadata": {},
          "execution_count": 95
        }
      ]
    },
    {
      "cell_type": "code",
      "source": [
        "arr.shape"
      ],
      "metadata": {
        "id": "bqCL2BHvZ51x",
        "outputId": "ecc1a78c-7c49-433a-c518-89208e7d9fcd",
        "colab": {
          "base_uri": "https://localhost:8080/"
        }
      },
      "execution_count": 101,
      "outputs": [
        {
          "output_type": "execute_result",
          "data": {
            "text/plain": [
              "(5,)"
            ]
          },
          "metadata": {},
          "execution_count": 101
        }
      ]
    },
    {
      "cell_type": "markdown",
      "source": [
        "## 2D array"
      ],
      "metadata": {
        "id": "vaMeewEzYDF4"
      }
    },
    {
      "cell_type": "code",
      "source": [
        "import numpy as np"
      ],
      "metadata": {
        "id": "VjwcDgdrYTQq"
      },
      "execution_count": 96,
      "outputs": []
    },
    {
      "cell_type": "code",
      "source": [
        "arr2d = np.array([[1,2,3],[4,5,6]])"
      ],
      "metadata": {
        "id": "_eUSuKu7Ybwp"
      },
      "execution_count": 98,
      "outputs": []
    },
    {
      "cell_type": "code",
      "source": [
        "arr2d"
      ],
      "metadata": {
        "id": "yckLgIcGY_sZ",
        "outputId": "81fff728-f303-44e8-816d-49c24f40affd",
        "colab": {
          "base_uri": "https://localhost:8080/"
        }
      },
      "execution_count": 99,
      "outputs": [
        {
          "output_type": "execute_result",
          "data": {
            "text/plain": [
              "array([[1, 2, 3],\n",
              "       [4, 5, 6]])"
            ]
          },
          "metadata": {},
          "execution_count": 99
        }
      ]
    },
    {
      "cell_type": "code",
      "source": [
        "arr2d.shape"
      ],
      "metadata": {
        "id": "hgdtHsJIZmfC",
        "outputId": "5b44c9e0-7f81-4905-c090-93c0d100e831",
        "colab": {
          "base_uri": "https://localhost:8080/"
        }
      },
      "execution_count": 100,
      "outputs": [
        {
          "output_type": "execute_result",
          "data": {
            "text/plain": [
              "(2, 3)"
            ]
          },
          "metadata": {},
          "execution_count": 100
        }
      ]
    },
    {
      "cell_type": "markdown",
      "source": [
        "### np.zeros()"
      ],
      "metadata": {
        "id": "wPIu_n8IZadC"
      }
    },
    {
      "cell_type": "code",
      "source": [
        "arr2350 = np.zeros((3,5))"
      ],
      "metadata": {
        "id": "3c8RDgO9Y_jI"
      },
      "execution_count": 106,
      "outputs": []
    },
    {
      "cell_type": "code",
      "source": [
        "arr2350"
      ],
      "metadata": {
        "id": "MccGsAZaY_aR",
        "outputId": "88b39e07-8b14-4bc5-eb8d-dfaa9c5e8020",
        "colab": {
          "base_uri": "https://localhost:8080/"
        }
      },
      "execution_count": 107,
      "outputs": [
        {
          "output_type": "execute_result",
          "data": {
            "text/plain": [
              "array([[0., 0., 0., 0., 0.],\n",
              "       [0., 0., 0., 0., 0.],\n",
              "       [0., 0., 0., 0., 0.]])"
            ]
          },
          "metadata": {},
          "execution_count": 107
        }
      ]
    },
    {
      "cell_type": "code",
      "source": [
        "arr2350[1,2] = 9"
      ],
      "metadata": {
        "id": "M0AQr9HbaVEN"
      },
      "execution_count": 110,
      "outputs": []
    },
    {
      "cell_type": "code",
      "source": [
        "arr2350"
      ],
      "metadata": {
        "id": "NZPalNDraVAa",
        "outputId": "09150663-00ef-470a-c872-fcec991ec31a",
        "colab": {
          "base_uri": "https://localhost:8080/"
        }
      },
      "execution_count": 111,
      "outputs": [
        {
          "output_type": "execute_result",
          "data": {
            "text/plain": [
              "array([[0., 0., 0., 0., 0.],\n",
              "       [0., 0., 9., 0., 0.],\n",
              "       [0., 0., 0., 0., 0.]])"
            ]
          },
          "metadata": {},
          "execution_count": 111
        }
      ]
    },
    {
      "cell_type": "code",
      "source": [
        "arr2350[1,2]"
      ],
      "metadata": {
        "id": "rBMtuk7caT8H",
        "outputId": "bdc42964-d6f6-4b9e-981e-fe32784e67bb",
        "colab": {
          "base_uri": "https://localhost:8080/"
        }
      },
      "execution_count": 112,
      "outputs": [
        {
          "output_type": "execute_result",
          "data": {
            "text/plain": [
              "9.0"
            ]
          },
          "metadata": {},
          "execution_count": 112
        }
      ]
    },
    {
      "cell_type": "code",
      "source": [
        "print(list_ex)\n",
        "list_ex[-1] = 'Song gang'\n",
        "print(list_ex)"
      ],
      "metadata": {
        "id": "txxE1VH0ayqy",
        "outputId": "3489a034-b094-4a7c-9b0d-a339d5976910",
        "colab": {
          "base_uri": "https://localhost:8080/"
        }
      },
      "execution_count": 114,
      "outputs": [
        {
          "output_type": "stream",
          "name": "stdout",
          "text": [
            "[1, 2, 3, 4, 5]\n",
            "[1, 2, 3, 4, 'Song gang']\n"
          ]
        }
      ]
    },
    {
      "cell_type": "markdown",
      "source": [
        "### np.ones()"
      ],
      "metadata": {
        "id": "StG9vXKTb3dG"
      }
    },
    {
      "cell_type": "code",
      "source": [
        "arr2451 = np.ones((4,5)) # มี 1 เนื่องจากเราสามารถ * ตัวเลขใดเข้าก็ได้ ทำให้เราสามารถ สร้างเมทริกซ์ที่ต้องการได้"
      ],
      "metadata": {
        "id": "I9GQmDlxcB71"
      },
      "execution_count": 117,
      "outputs": []
    },
    {
      "cell_type": "code",
      "source": [
        "arr2451"
      ],
      "metadata": {
        "id": "B99Rusq-cVYA",
        "outputId": "018ba0df-8f32-49a1-812f-49a724915ef9",
        "colab": {
          "base_uri": "https://localhost:8080/"
        }
      },
      "execution_count": 119,
      "outputs": [
        {
          "output_type": "execute_result",
          "data": {
            "text/plain": [
              "array([[1., 1., 1., 1., 1.],\n",
              "       [1., 1., 1., 1., 1.],\n",
              "       [1., 1., 1., 1., 1.],\n",
              "       [1., 1., 1., 1., 1.]])"
            ]
          },
          "metadata": {},
          "execution_count": 119
        }
      ]
    },
    {
      "cell_type": "code",
      "source": [
        "arr245200 = 200*np.ones((4,5))\n",
        "arr245200"
      ],
      "metadata": {
        "id": "QNU9qjpPcYgl",
        "outputId": "0ead78c7-9ae5-4933-f886-7aea053fdd7c",
        "colab": {
          "base_uri": "https://localhost:8080/"
        }
      },
      "execution_count": 122,
      "outputs": [
        {
          "output_type": "execute_result",
          "data": {
            "text/plain": [
              "array([[200., 200., 200., 200., 200.],\n",
              "       [200., 200., 200., 200., 200.],\n",
              "       [200., 200., 200., 200., 200.],\n",
              "       [200., 200., 200., 200., 200.]])"
            ]
          },
          "metadata": {},
          "execution_count": 122
        }
      ]
    },
    {
      "cell_type": "markdown",
      "source": [
        "### Matrix Operations"
      ],
      "metadata": {
        "id": "E4FGdr8wc53c"
      }
    },
    {
      "cell_type": "markdown",
      "source": [
        "#### การ + - เมทริกซ์ $M \\pm N $ เป็นการบวกลบในตำแหน่งเดียวกัน"
      ],
      "metadata": {
        "id": "06DyrkmRd7Qd"
      }
    },
    {
      "cell_type": "code",
      "source": [
        "arr245200 + arr2350 #"
      ],
      "metadata": {
        "id": "CZevNPJMdFA7",
        "outputId": "ae034183-2257-408c-b8a5-e6364d3401ae",
        "colab": {
          "base_uri": "https://localhost:8080/",
          "height": 165
        }
      },
      "execution_count": 124,
      "outputs": [
        {
          "output_type": "error",
          "ename": "ValueError",
          "evalue": "ignored",
          "traceback": [
            "\u001b[0;31m---------------------------------------------------------------------------\u001b[0m",
            "\u001b[0;31mValueError\u001b[0m                                Traceback (most recent call last)",
            "\u001b[0;32m<ipython-input-124-679b048e6990>\u001b[0m in \u001b[0;36m<module>\u001b[0;34m()\u001b[0m\n\u001b[0;32m----> 1\u001b[0;31m \u001b[0marr245200\u001b[0m \u001b[0;34m+\u001b[0m \u001b[0marr2350\u001b[0m \u001b[0;31m#\u001b[0m\u001b[0;34m\u001b[0m\u001b[0;34m\u001b[0m\u001b[0m\n\u001b[0m",
            "\u001b[0;31mValueError\u001b[0m: operands could not be broadcast together with shapes (4,5) (3,5) "
          ]
        }
      ]
    },
    {
      "cell_type": "code",
      "source": [
        "arr245200 + arr2451"
      ],
      "metadata": {
        "id": "L8IFOR2YdRpf",
        "outputId": "423afc5b-4246-4c3a-fafb-cde25845de13",
        "colab": {
          "base_uri": "https://localhost:8080/"
        }
      },
      "execution_count": 126,
      "outputs": [
        {
          "output_type": "execute_result",
          "data": {
            "text/plain": [
              "array([[400., 400., 400., 400., 400.],\n",
              "       [400., 400., 400., 400., 400.],\n",
              "       [400., 400., 400., 400., 400.],\n",
              "       [400., 400., 400., 400., 400.]])"
            ]
          },
          "metadata": {},
          "execution_count": 126
        }
      ]
    },
    {
      "cell_type": "markdown",
      "source": [
        "#### การคูณ matrix\n",
        "\n",
        "- $aM$ คูณตัวเลขเข้าไปในทุกตำแหน่งของเมทริกซ์\n",
        "- $M \\times N$ (แถว*หลัก)"
      ],
      "metadata": {
        "id": "nIgYCo4CdjF2"
      }
    },
    {
      "cell_type": "markdown",
      "source": [
        "### $aM$"
      ],
      "metadata": {
        "id": "g0vUdSxceunO"
      }
    },
    {
      "cell_type": "code",
      "source": [
        "15 * arr"
      ],
      "metadata": {
        "id": "JUqq-NoaeuIZ",
        "outputId": "a6fbddc6-7ec3-4820-f383-ef7e74709669",
        "colab": {
          "base_uri": "https://localhost:8080/"
        }
      },
      "execution_count": 127,
      "outputs": [
        {
          "output_type": "execute_result",
          "data": {
            "text/plain": [
              "array([15, 30, 45, 60, 75])"
            ]
          },
          "metadata": {},
          "execution_count": 127
        }
      ]
    },
    {
      "cell_type": "markdown",
      "source": [
        "$M \\times N$ (dot product)\n",
        "\n",
        "- (m,n) $\\times$ (n,W) = (m,w)"
      ],
      "metadata": {
        "id": "kwOipQ9re9FI"
      }
    },
    {
      "cell_type": "code",
      "source": [
        "mata = np.array ([[2,3,5],[4,5,7]])\n",
        "matb = np.array ([[1,2,5],[2,4,-7]])\n",
        "matc = np.array ([[2,3],[4,6],[7,9]])"
      ],
      "metadata": {
        "id": "OKJgWQOudim1"
      },
      "execution_count": 128,
      "outputs": []
    },
    {
      "cell_type": "code",
      "source": [
        "mata"
      ],
      "metadata": {
        "id": "b-584h2egO0u",
        "outputId": "6cdebdda-887c-4ffc-b54e-d7784d2d5a61",
        "colab": {
          "base_uri": "https://localhost:8080/"
        }
      },
      "execution_count": 129,
      "outputs": [
        {
          "output_type": "execute_result",
          "data": {
            "text/plain": [
              "array([[2, 3, 5],\n",
              "       [4, 5, 7]])"
            ]
          },
          "metadata": {},
          "execution_count": 129
        }
      ]
    },
    {
      "cell_type": "code",
      "source": [
        "matb"
      ],
      "metadata": {
        "id": "wcSBntikgOwx",
        "outputId": "24b560fa-58bc-43bf-e11b-f6634c5a114c",
        "colab": {
          "base_uri": "https://localhost:8080/"
        }
      },
      "execution_count": 130,
      "outputs": [
        {
          "output_type": "execute_result",
          "data": {
            "text/plain": [
              "array([[ 1,  2,  5],\n",
              "       [ 2,  4, -7]])"
            ]
          },
          "metadata": {},
          "execution_count": 130
        }
      ]
    },
    {
      "cell_type": "code",
      "source": [
        "matc"
      ],
      "metadata": {
        "id": "2vRdB_TrgOli",
        "outputId": "8382feb5-1e95-42dc-a2c9-9f422221e71d",
        "colab": {
          "base_uri": "https://localhost:8080/"
        }
      },
      "execution_count": 131,
      "outputs": [
        {
          "output_type": "execute_result",
          "data": {
            "text/plain": [
              "array([[2, 3],\n",
              "       [4, 6],\n",
              "       [7, 9]])"
            ]
          },
          "metadata": {},
          "execution_count": 131
        }
      ]
    },
    {
      "cell_type": "markdown",
      "source": [
        "ac, bc"
      ],
      "metadata": {
        "id": "qOYa2ZqagWS8"
      }
    },
    {
      "cell_type": "code",
      "source": [
        "np.dot(mata,matc)"
      ],
      "metadata": {
        "id": "BaPJcCZrgneV",
        "outputId": "0cbafce1-1278-4627-ab94-126dc35023d6",
        "colab": {
          "base_uri": "https://localhost:8080/"
        }
      },
      "execution_count": 134,
      "outputs": [
        {
          "output_type": "execute_result",
          "data": {
            "text/plain": [
              "array([[ 51,  69],\n",
              "       [ 77, 105]])"
            ]
          },
          "metadata": {},
          "execution_count": 134
        }
      ]
    },
    {
      "cell_type": "code",
      "source": [
        "mata * matb #"
      ],
      "metadata": {
        "id": "q6UmM6MfhGzL",
        "outputId": "2d558c1d-8bd7-4b89-f156-b370f4f411e6",
        "colab": {
          "base_uri": "https://localhost:8080/"
        }
      },
      "execution_count": 137,
      "outputs": [
        {
          "output_type": "execute_result",
          "data": {
            "text/plain": [
              "array([[  2,   6,  25],\n",
              "       [  8,  20, -49]])"
            ]
          },
          "metadata": {},
          "execution_count": 137
        }
      ]
    },
    {
      "cell_type": "markdown",
      "source": [
        "### Matrix Slicing"
      ],
      "metadata": {
        "id": "_vaUjcGPhxgx"
      }
    },
    {
      "cell_type": "code",
      "source": [
        "mat[:2,:2]"
      ],
      "metadata": {
        "id": "wwHNaB72hwfl",
        "outputId": "2e1f6d27-4f99-4a15-ad8c-9a700962f1cc",
        "colab": {
          "base_uri": "https://localhost:8080/",
          "height": 165
        }
      },
      "execution_count": 138,
      "outputs": [
        {
          "output_type": "error",
          "ename": "NameError",
          "evalue": "ignored",
          "traceback": [
            "\u001b[0;31m---------------------------------------------------------------------------\u001b[0m",
            "\u001b[0;31mNameError\u001b[0m                                 Traceback (most recent call last)",
            "\u001b[0;32m<ipython-input-138-120101f8a874>\u001b[0m in \u001b[0;36m<module>\u001b[0;34m()\u001b[0m\n\u001b[0;32m----> 1\u001b[0;31m \u001b[0mmatex\u001b[0m\u001b[0;34m[\u001b[0m\u001b[0;34m:\u001b[0m\u001b[0;36m2\u001b[0m\u001b[0;34m,\u001b[0m\u001b[0;34m:\u001b[0m\u001b[0;36m2\u001b[0m\u001b[0;34m]\u001b[0m\u001b[0;34m\u001b[0m\u001b[0;34m\u001b[0m\u001b[0m\n\u001b[0m",
            "\u001b[0;31mNameError\u001b[0m: name 'matex' is not defined"
          ]
        }
      ]
    },
    {
      "cell_type": "markdown",
      "source": [
        "HW3\n",
        "\n",
        "1. สร้าง array ที่มีรูปต้น Chrismas\n",
        "2. slice เลข 1 ออกมากเป็น array HW3 ด้วยการ slice แค้ครั้งเดียว"
      ],
      "metadata": {
        "id": "QjKJK8DEijk2"
      }
    },
    {
      "cell_type": "code",
      "source": [
        "3 = np.zeros((15,15))\n",
        "HW3"
      ],
      "metadata": {
        "id": "1vGcpN2cize1",
        "outputId": "2d29483e-d9b0-4430-cacf-9abb1d927539",
        "colab": {
          "base_uri": "https://localhost:8080/"
        }
      },
      "execution_count": 146,
      "outputs": [
        {
          "output_type": "execute_result",
          "data": {
            "text/plain": [
              "array([[0., 0., 0., 0., 0., 0., 0., 0., 0., 0., 0., 0., 0., 0., 0.],\n",
              "       [0., 0., 0., 0., 0., 0., 0., 0., 0., 0., 0., 0., 0., 0., 0.],\n",
              "       [0., 0., 0., 0., 0., 0., 0., 0., 0., 0., 0., 0., 0., 0., 0.],\n",
              "       [0., 0., 0., 0., 0., 0., 0., 0., 0., 0., 0., 0., 0., 0., 0.],\n",
              "       [0., 0., 0., 0., 0., 0., 0., 0., 0., 0., 0., 0., 0., 0., 0.],\n",
              "       [0., 0., 0., 0., 0., 0., 0., 0., 0., 0., 0., 0., 0., 0., 0.],\n",
              "       [0., 0., 0., 0., 0., 0., 0., 0., 0., 0., 0., 0., 0., 0., 0.],\n",
              "       [0., 0., 0., 0., 0., 0., 0., 0., 0., 0., 0., 0., 0., 0., 0.],\n",
              "       [0., 0., 0., 0., 0., 0., 0., 0., 0., 0., 0., 0., 0., 0., 0.],\n",
              "       [0., 0., 0., 0., 0., 0., 0., 0., 0., 0., 0., 0., 0., 0., 0.],\n",
              "       [0., 0., 0., 0., 0., 0., 0., 0., 0., 0., 0., 0., 0., 0., 0.],\n",
              "       [0., 0., 0., 0., 0., 0., 0., 0., 0., 0., 0., 0., 0., 0., 0.],\n",
              "       [0., 0., 0., 0., 0., 0., 0., 0., 0., 0., 0., 0., 0., 0., 0.],\n",
              "       [0., 0., 0., 0., 0., 0., 0., 0., 0., 0., 0., 0., 0., 0., 0.],\n",
              "       [0., 0., 0., 0., 0., 0., 0., 0., 0., 0., 0., 0., 0., 0., 0.]])"
            ]
          },
          "metadata": {},
          "execution_count": 146
        }
      ]
    },
    {
      "cell_type": "markdown",
      "source": [
        "## Pandas Dataframe (แยกออกไปเป็น Notebook เฉพาะ)"
      ],
      "metadata": {
        "id": "3Ywol-1NO0RC"
      }
    },
    {
      "cell_type": "code",
      "source": [
        ""
      ],
      "metadata": {
        "id": "7PEX68UZdBUt"
      },
      "execution_count": 54,
      "outputs": []
    }
  ]
}