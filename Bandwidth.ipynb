{
  "nbformat": 4,
  "nbformat_minor": 0,
  "metadata": {
    "colab": {
      "provenance": [],
      "authorship_tag": "ABX9TyOx0S7sMjhEIXeS+7jGNf5M",
      "include_colab_link": true
    },
    "kernelspec": {
      "name": "python3",
      "display_name": "Python 3"
    },
    "language_info": {
      "name": "python"
    }
  },
  "cells": [
    {
      "cell_type": "markdown",
      "metadata": {
        "id": "view-in-github",
        "colab_type": "text"
      },
      "source": [
        "<a href=\"https://colab.research.google.com/github/weeraphon-hub/data_viz_2022/blob/main/Bandwidth.ipynb\" target=\"_parent\"><img src=\"https://colab.research.google.com/assets/colab-badge.svg\" alt=\"Open In Colab\"/></a>"
      ]
    },
    {
      "cell_type": "code",
      "execution_count": 9,
      "metadata": {
        "colab": {
          "base_uri": "https://localhost:8080/"
        },
        "id": "LwG4H0O6D-xQ",
        "outputId": "700fa01a-6a5f-42c7-e0c4-f8f85b1c5915"
      },
      "outputs": [
        {
          "output_type": "stream",
          "name": "stdout",
          "text": [
            "Drive already mounted at /content/drive; to attempt to forcibly remount, call drive.mount(\"/content/drive\", force_remount=True).\n"
          ]
        }
      ],
      "source": [
        "import pandas as pd\n",
        "import os\n",
        "\n",
        "from google.colab import drive\n",
        "# Mount Google Drive\n",
        "drive.mount('/content/drive')\n",
        "path = '/content/drive/My Drive/ProjectY4'\n",
        "\n",
        "# Load data from a CSV file in Google Drive\n",
        "data = os.path.join(path,'data63-65.csv') "
      ]
    },
    {
      "cell_type": "code",
      "source": [
        "X =  pd.read_csv(data)[['ละติจูด','ลองจิจูด']].values"
      ],
      "metadata": {
        "id": "M7KW8ouqFEhV"
      },
      "execution_count": 13,
      "outputs": []
    },
    {
      "cell_type": "code",
      "source": [
        "import numpy as np\n",
        "import pandas as pd\n",
        "from sklearn.neighbors import KernelDensity\n",
        "from sklearn.model_selection import GridSearchCV"
      ],
      "metadata": {
        "id": "PBv76Ww-E2q3"
      },
      "execution_count": 15,
      "outputs": []
    },
    {
      "cell_type": "code",
      "source": [
        "bandwidths = 10 ** np.linspace(-1, 1, 100)"
      ],
      "metadata": {
        "id": "5EvDJpWoGA4X"
      },
      "execution_count": 16,
      "outputs": []
    },
    {
      "cell_type": "code",
      "source": [
        "kde = KernelDensity(kernel='gaussian')"
      ],
      "metadata": {
        "id": "Y71z-TFhGGIB"
      },
      "execution_count": 17,
      "outputs": []
    },
    {
      "cell_type": "code",
      "source": [
        "grid = GridSearchCV(kde, {'bandwidth': bandwidths}, cv=5)\n",
        "grid.fit(X)"
      ],
      "metadata": {
        "colab": {
          "base_uri": "https://localhost:8080/",
          "height": 117
        },
        "id": "4UHxtvQUGGFg",
        "outputId": "98ecebde-ce6e-460c-ca5c-e8aa35c5fef9"
      },
      "execution_count": 18,
      "outputs": [
        {
          "output_type": "execute_result",
          "data": {
            "text/plain": [
              "GridSearchCV(cv=5, estimator=KernelDensity(),\n",
              "             param_grid={'bandwidth': array([ 0.1       ,  0.10476158,  0.10974988,  0.1149757 ,  0.12045035,\n",
              "        0.12618569,  0.13219411,  0.13848864,  0.14508288,  0.15199111,\n",
              "        0.15922828,  0.16681005,  0.17475284,  0.18307383,  0.19179103,\n",
              "        0.2009233 ,  0.21049041,  0.22051307,  0.23101297,  0.24201283,\n",
              "        0.25353645,  0.26560878,  0.27825594,  0.29150531,  0.30538555,\n",
              "        0.3199267...\n",
              "        2.05651231,  2.15443469,  2.25701972,  2.36448941,  2.47707636,\n",
              "        2.59502421,  2.71858824,  2.84803587,  2.98364724,  3.12571585,\n",
              "        3.27454916,  3.43046929,  3.59381366,  3.76493581,  3.94420606,\n",
              "        4.1320124 ,  4.32876128,  4.53487851,  4.75081016,  4.97702356,\n",
              "        5.21400829,  5.46227722,  5.72236766,  5.9948425 ,  6.28029144,\n",
              "        6.57933225,  6.8926121 ,  7.22080902,  7.56463328,  7.92482898,\n",
              "        8.30217568,  8.69749003,  9.11162756,  9.54548457, 10.        ])})"
            ],
            "text/html": [
              "<style>#sk-container-id-1 {color: black;background-color: white;}#sk-container-id-1 pre{padding: 0;}#sk-container-id-1 div.sk-toggleable {background-color: white;}#sk-container-id-1 label.sk-toggleable__label {cursor: pointer;display: block;width: 100%;margin-bottom: 0;padding: 0.3em;box-sizing: border-box;text-align: center;}#sk-container-id-1 label.sk-toggleable__label-arrow:before {content: \"▸\";float: left;margin-right: 0.25em;color: #696969;}#sk-container-id-1 label.sk-toggleable__label-arrow:hover:before {color: black;}#sk-container-id-1 div.sk-estimator:hover label.sk-toggleable__label-arrow:before {color: black;}#sk-container-id-1 div.sk-toggleable__content {max-height: 0;max-width: 0;overflow: hidden;text-align: left;background-color: #f0f8ff;}#sk-container-id-1 div.sk-toggleable__content pre {margin: 0.2em;color: black;border-radius: 0.25em;background-color: #f0f8ff;}#sk-container-id-1 input.sk-toggleable__control:checked~div.sk-toggleable__content {max-height: 200px;max-width: 100%;overflow: auto;}#sk-container-id-1 input.sk-toggleable__control:checked~label.sk-toggleable__label-arrow:before {content: \"▾\";}#sk-container-id-1 div.sk-estimator input.sk-toggleable__control:checked~label.sk-toggleable__label {background-color: #d4ebff;}#sk-container-id-1 div.sk-label input.sk-toggleable__control:checked~label.sk-toggleable__label {background-color: #d4ebff;}#sk-container-id-1 input.sk-hidden--visually {border: 0;clip: rect(1px 1px 1px 1px);clip: rect(1px, 1px, 1px, 1px);height: 1px;margin: -1px;overflow: hidden;padding: 0;position: absolute;width: 1px;}#sk-container-id-1 div.sk-estimator {font-family: monospace;background-color: #f0f8ff;border: 1px dotted black;border-radius: 0.25em;box-sizing: border-box;margin-bottom: 0.5em;}#sk-container-id-1 div.sk-estimator:hover {background-color: #d4ebff;}#sk-container-id-1 div.sk-parallel-item::after {content: \"\";width: 100%;border-bottom: 1px solid gray;flex-grow: 1;}#sk-container-id-1 div.sk-label:hover label.sk-toggleable__label {background-color: #d4ebff;}#sk-container-id-1 div.sk-serial::before {content: \"\";position: absolute;border-left: 1px solid gray;box-sizing: border-box;top: 0;bottom: 0;left: 50%;z-index: 0;}#sk-container-id-1 div.sk-serial {display: flex;flex-direction: column;align-items: center;background-color: white;padding-right: 0.2em;padding-left: 0.2em;position: relative;}#sk-container-id-1 div.sk-item {position: relative;z-index: 1;}#sk-container-id-1 div.sk-parallel {display: flex;align-items: stretch;justify-content: center;background-color: white;position: relative;}#sk-container-id-1 div.sk-item::before, #sk-container-id-1 div.sk-parallel-item::before {content: \"\";position: absolute;border-left: 1px solid gray;box-sizing: border-box;top: 0;bottom: 0;left: 50%;z-index: -1;}#sk-container-id-1 div.sk-parallel-item {display: flex;flex-direction: column;z-index: 1;position: relative;background-color: white;}#sk-container-id-1 div.sk-parallel-item:first-child::after {align-self: flex-end;width: 50%;}#sk-container-id-1 div.sk-parallel-item:last-child::after {align-self: flex-start;width: 50%;}#sk-container-id-1 div.sk-parallel-item:only-child::after {width: 0;}#sk-container-id-1 div.sk-dashed-wrapped {border: 1px dashed gray;margin: 0 0.4em 0.5em 0.4em;box-sizing: border-box;padding-bottom: 0.4em;background-color: white;}#sk-container-id-1 div.sk-label label {font-family: monospace;font-weight: bold;display: inline-block;line-height: 1.2em;}#sk-container-id-1 div.sk-label-container {text-align: center;}#sk-container-id-1 div.sk-container {/* jupyter's `normalize.less` sets `[hidden] { display: none; }` but bootstrap.min.css set `[hidden] { display: none !important; }` so we also need the `!important` here to be able to override the default hidden behavior on the sphinx rendered scikit-learn.org. See: https://github.com/scikit-learn/scikit-learn/issues/21755 */display: inline-block !important;position: relative;}#sk-container-id-1 div.sk-text-repr-fallback {display: none;}</style><div id=\"sk-container-id-1\" class=\"sk-top-container\"><div class=\"sk-text-repr-fallback\"><pre>GridSearchCV(cv=5, estimator=KernelDensity(),\n",
              "             param_grid={&#x27;bandwidth&#x27;: array([ 0.1       ,  0.10476158,  0.10974988,  0.1149757 ,  0.12045035,\n",
              "        0.12618569,  0.13219411,  0.13848864,  0.14508288,  0.15199111,\n",
              "        0.15922828,  0.16681005,  0.17475284,  0.18307383,  0.19179103,\n",
              "        0.2009233 ,  0.21049041,  0.22051307,  0.23101297,  0.24201283,\n",
              "        0.25353645,  0.26560878,  0.27825594,  0.29150531,  0.30538555,\n",
              "        0.3199267...\n",
              "        2.05651231,  2.15443469,  2.25701972,  2.36448941,  2.47707636,\n",
              "        2.59502421,  2.71858824,  2.84803587,  2.98364724,  3.12571585,\n",
              "        3.27454916,  3.43046929,  3.59381366,  3.76493581,  3.94420606,\n",
              "        4.1320124 ,  4.32876128,  4.53487851,  4.75081016,  4.97702356,\n",
              "        5.21400829,  5.46227722,  5.72236766,  5.9948425 ,  6.28029144,\n",
              "        6.57933225,  6.8926121 ,  7.22080902,  7.56463328,  7.92482898,\n",
              "        8.30217568,  8.69749003,  9.11162756,  9.54548457, 10.        ])})</pre><b>In a Jupyter environment, please rerun this cell to show the HTML representation or trust the notebook. <br />On GitHub, the HTML representation is unable to render, please try loading this page with nbviewer.org.</b></div><div class=\"sk-container\" hidden><div class=\"sk-item sk-dashed-wrapped\"><div class=\"sk-label-container\"><div class=\"sk-label sk-toggleable\"><input class=\"sk-toggleable__control sk-hidden--visually\" id=\"sk-estimator-id-1\" type=\"checkbox\" ><label for=\"sk-estimator-id-1\" class=\"sk-toggleable__label sk-toggleable__label-arrow\">GridSearchCV</label><div class=\"sk-toggleable__content\"><pre>GridSearchCV(cv=5, estimator=KernelDensity(),\n",
              "             param_grid={&#x27;bandwidth&#x27;: array([ 0.1       ,  0.10476158,  0.10974988,  0.1149757 ,  0.12045035,\n",
              "        0.12618569,  0.13219411,  0.13848864,  0.14508288,  0.15199111,\n",
              "        0.15922828,  0.16681005,  0.17475284,  0.18307383,  0.19179103,\n",
              "        0.2009233 ,  0.21049041,  0.22051307,  0.23101297,  0.24201283,\n",
              "        0.25353645,  0.26560878,  0.27825594,  0.29150531,  0.30538555,\n",
              "        0.3199267...\n",
              "        2.05651231,  2.15443469,  2.25701972,  2.36448941,  2.47707636,\n",
              "        2.59502421,  2.71858824,  2.84803587,  2.98364724,  3.12571585,\n",
              "        3.27454916,  3.43046929,  3.59381366,  3.76493581,  3.94420606,\n",
              "        4.1320124 ,  4.32876128,  4.53487851,  4.75081016,  4.97702356,\n",
              "        5.21400829,  5.46227722,  5.72236766,  5.9948425 ,  6.28029144,\n",
              "        6.57933225,  6.8926121 ,  7.22080902,  7.56463328,  7.92482898,\n",
              "        8.30217568,  8.69749003,  9.11162756,  9.54548457, 10.        ])})</pre></div></div></div><div class=\"sk-parallel\"><div class=\"sk-parallel-item\"><div class=\"sk-item\"><div class=\"sk-label-container\"><div class=\"sk-label sk-toggleable\"><input class=\"sk-toggleable__control sk-hidden--visually\" id=\"sk-estimator-id-2\" type=\"checkbox\" ><label for=\"sk-estimator-id-2\" class=\"sk-toggleable__label sk-toggleable__label-arrow\">estimator: KernelDensity</label><div class=\"sk-toggleable__content\"><pre>KernelDensity()</pre></div></div></div><div class=\"sk-serial\"><div class=\"sk-item\"><div class=\"sk-estimator sk-toggleable\"><input class=\"sk-toggleable__control sk-hidden--visually\" id=\"sk-estimator-id-3\" type=\"checkbox\" ><label for=\"sk-estimator-id-3\" class=\"sk-toggleable__label sk-toggleable__label-arrow\">KernelDensity</label><div class=\"sk-toggleable__content\"><pre>KernelDensity()</pre></div></div></div></div></div></div></div></div></div></div>"
            ]
          },
          "metadata": {},
          "execution_count": 18
        }
      ]
    },
    {
      "cell_type": "code",
      "source": [
        "best_bandwidth = print(\"best bandwidth: \", grid.best_estimator_.get_params()['bandwidth'])"
      ],
      "metadata": {
        "colab": {
          "base_uri": "https://localhost:8080/"
        },
        "id": "XopVV_3IGGDe",
        "outputId": "d1547e2f-a8b3-43a5-e006-f2625dbe2075"
      },
      "execution_count": 21,
      "outputs": [
        {
          "output_type": "stream",
          "name": "stdout",
          "text": [
            "best bandwidth:  0.1\n"
          ]
        }
      ]
    }
  ]
}